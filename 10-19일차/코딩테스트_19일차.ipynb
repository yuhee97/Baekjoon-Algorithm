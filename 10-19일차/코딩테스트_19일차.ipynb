{
 "cells": [
  {
   "cell_type": "markdown",
   "metadata": {},
   "source": [
    "### 2021-01-18 19일차"
   ]
  },
  {
   "cell_type": "code",
   "execution_count": 1,
   "metadata": {},
   "outputs": [],
   "source": [
    "# 오늘 할 일\n",
    "\n",
    "# 1. 컴활 실기 시험 보기 / clear\n",
    "# 2. 코딩테스트 문제 풀기 / clear"
   ]
  },
  {
   "cell_type": "markdown",
   "metadata": {},
   "source": [
    "##### 그래프 탐색 문제 1: 섬의 개수(실버 2)\n",
    "https://www.acmicpc.net/problem/4963"
   ]
  },
  {
   "cell_type": "code",
   "execution_count": 2,
   "metadata": {},
   "outputs": [
    {
     "name": "stdout",
     "output_type": "stream",
     "text": [
      "1 1\n",
      "0\n",
      "0\n",
      "2 2\n",
      "0 1\n",
      "1 0\n",
      "1\n",
      "3 2\n",
      "1 1 1\n",
      "1 1 1\n",
      "1\n",
      "0 0\n"
     ]
    }
   ],
   "source": [
    "import sys\n",
    "from collections import deque\n",
    "\n",
    "# 동서남북 / 대각선 확인\n",
    "dx = [-1, 0, 1, 0, -1, -1, 1, 1]\n",
    "dy = [0, -1, 0, 1, 1, -1, -1, 1]\n",
    "\n",
    "def bfs():\n",
    "    queue = deque()\n",
    "    visited = [[0] * w for _ in range(h)]\n",
    "    count = 0\n",
    "    for i in range(h):\n",
    "        for j in range(w):\n",
    "            if lis[i][j] == 1 and visited[i][j] == 0:\n",
    "                visited[i][j] = 1\n",
    "                queue.append((i, j))\n",
    "                count += 1\n",
    "                while queue:\n",
    "                    x, y = queue.popleft()\n",
    "                    for k in range(8):\n",
    "                        nx = x + dx[k]\n",
    "                        ny = y + dy[k]\n",
    "                        if 0 <= nx <= h-1 and 0 <= ny <= w-1 and lis[nx][ny] == 1 and visited[nx][ny] == 0:\n",
    "                            queue.append((nx, ny))\n",
    "                            visited[nx][ny] = 1\n",
    "    return count\n",
    "\n",
    "while True:\n",
    "    w, h = map(int, sys.stdin.readline().split()) # input()\n",
    "    if w == 0 and h == 0:\n",
    "        break\n",
    "    lis = []\n",
    "    for i in range(h):\n",
    "        lis.append(list(map(int, sys.stdin.readline().split())))\n",
    "    print(bfs())"
   ]
  },
  {
   "cell_type": "markdown",
   "metadata": {},
   "source": [
    "##### 그래프 탐색 문제 2: 안전 영역(실버 1)\n",
    "https://www.acmicpc.net/problem/2468"
   ]
  },
  {
   "cell_type": "code",
   "execution_count": 14,
   "metadata": {},
   "outputs": [
    {
     "name": "stdout",
     "output_type": "stream",
     "text": [
      "5\n",
      "6 8 2 6 2\n",
      "3 2 3 4 6\n",
      "6 7 3 3 2\n",
      "7 2 5 3 6\n",
      "8 9 5 2 7\n",
      "5\n"
     ]
    }
   ],
   "source": [
    "import sys\n",
    "from collections import deque\n",
    "\n",
    "N = int(sys.stdin.readline()) # input()\n",
    "lis = []; count_list = []\n",
    "\n",
    "# 동서남북\n",
    "dx = [-1, 0, 1, 0]\n",
    "dy = [0, -1, 0, 1]\n",
    "\n",
    "for _ in range(N):\n",
    "    lis.append(list(map(int, sys.stdin.readline().split())))\n",
    "\n",
    "def bfs(deep):\n",
    "    queue = deque()\n",
    "    visited = [[0] * N for _ in range(N)]\n",
    "    count = 0\n",
    "    for i in range(N):\n",
    "        for j in range(N):\n",
    "            if lis[i][j] > deep and visited[i][j] == 0:\n",
    "                queue.append((i, j))\n",
    "                visited[i][j] = 1\n",
    "                count += 1\n",
    "                while queue:\n",
    "                    x, y = queue.popleft()\n",
    "                    for k in range(4):\n",
    "                        nx = x + dx[k]\n",
    "                        ny = y + dy[k]\n",
    "                        if 0 <= nx <= N-1 and 0 <= ny <= N-1 and lis[nx][ny] > deep and visited[nx][ny] == 0:\n",
    "                            queue.append((nx, ny))\n",
    "                            visited[nx][ny] = 1\n",
    "    return count\n",
    "\n",
    "for d in range(max(max(lis))+1):\n",
    "    count_list.append(bfs(d))\n",
    "    \n",
    "print(max(count_list))"
   ]
  },
  {
   "cell_type": "markdown",
   "metadata": {},
   "source": [
    "##### 그래프 탐색 문제 3: 알파벳(골드 4)\n",
    "https://www.acmicpc.net/problem/1987"
   ]
  },
  {
   "cell_type": "markdown",
   "metadata": {},
   "source": [
    "![image.png](attachment:image.png)"
   ]
  },
  {
   "cell_type": "code",
   "execution_count": 40,
   "metadata": {},
   "outputs": [
    {
     "name": "stdout",
     "output_type": "stream",
     "text": [
      "2 4\n",
      "CAAB\n",
      "ADCB\n",
      "3\n"
     ]
    }
   ],
   "source": [
    "import sys\n",
    "from collections import deque\n",
    "\n",
    "R, C = map(int, input().split()) # sys.stdin.readline()\n",
    "lis = [[0] * C for _ in range(R)]; store = []; visited = [[0] * C for _ in range(R)]\n",
    "dx = [-1, 0, 1, 0]; dy = [0, -1, 0, 1]\n",
    "\n",
    "for i in range(R):\n",
    "    strr = input()\n",
    "    for j in range(len(strr)):\n",
    "        lis[i][j] = strr[j]       \n",
    "\n",
    "def bfs():\n",
    "    queue = deque()\n",
    "    queue.append([0, 0])\n",
    "    visited[0][0] = 1\n",
    "    store = lis[0][0]\n",
    "    while queue:\n",
    "        i, j = queue.popleft()\n",
    "        for k in range(4):\n",
    "            nx = i + dx[k]\n",
    "            ny = j + dy[k]\n",
    "            if 0 <= nx < R and 0 <= ny < C and visited[nx][ny] == 0 and (lis[nx][ny] not in store):\n",
    "                queue.append([nx, ny])\n",
    "                visited[nx][ny] = 1\n",
    "                store = store + lis[nx][ny]\n",
    "                \n",
    "    return len(store)\n",
    "\n",
    "print(bfs())"
   ]
  },
  {
   "cell_type": "code",
   "execution_count": 43,
   "metadata": {},
   "outputs": [
    {
     "name": "stdout",
     "output_type": "stream",
     "text": [
      "2 4\n",
      "CAAB\n",
      "ADCB\n",
      "3\n"
     ]
    }
   ],
   "source": [
    "import sys\n",
    "\n",
    "R, C = map(int, input().split()) # sys.stdin.readline()\n",
    "words = [list(input()) for _ in range(R)]\n",
    "result = 0; dx = [-1, 0, 1, 0]; dy = [0, 1, 0, -1]\n",
    "\n",
    "def backtraking(x, y, word):\n",
    "    global result\n",
    "    check = 0\n",
    "    for k in range(4):  \n",
    "        nx = x + dx[k]\n",
    "        ny = y + dy[k]\n",
    "        if 0 <= nx < R and 0 <= ny < C and words[nx][ny] not in word: \n",
    "            backtraking(nx, ny, word+words[nx][ny])\n",
    "        else:\n",
    "            check += 1\n",
    "\n",
    "    if check == 4:\n",
    "        result = max(result, len(word))\n",
    "        return\n",
    "    \n",
    "backtraking(0, 0, words[0][0])\n",
    "print(result)"
   ]
  }
 ],
 "metadata": {
  "kernelspec": {
   "display_name": "Python 3",
   "language": "python",
   "name": "python3"
  },
  "language_info": {
   "codemirror_mode": {
    "name": "ipython",
    "version": 3
   },
   "file_extension": ".py",
   "mimetype": "text/x-python",
   "name": "python",
   "nbconvert_exporter": "python",
   "pygments_lexer": "ipython3",
   "version": "3.7.1"
  }
 },
 "nbformat": 4,
 "nbformat_minor": 2
}
