{
 "cells": [
  {
   "cell_type": "markdown",
   "metadata": {},
   "source": [
    "### 12일차 2021-01-05"
   ]
  },
  {
   "cell_type": "code",
   "execution_count": 1,
   "metadata": {},
   "outputs": [],
   "source": [
    "# 오늘 할 일\n",
    "\n",
    "# 1. 코드업 기초 100제 문제 풀기\n",
    "# https://codeup.kr/problemsetsol.php?psid=23"
   ]
  },
  {
   "cell_type": "code",
   "execution_count": 2,
   "metadata": {},
   "outputs": [
    {
     "name": "stdout",
     "output_type": "stream",
     "text": [
      "Hello\n"
     ]
    }
   ],
   "source": [
    "# 1001 \n",
    "\n",
    "print(\"Hello\")"
   ]
  },
  {
   "cell_type": "code",
   "execution_count": 3,
   "metadata": {},
   "outputs": [
    {
     "name": "stdout",
     "output_type": "stream",
     "text": [
      "Hello World\n"
     ]
    }
   ],
   "source": [
    "# 1002\n",
    "\n",
    "print(\"Hello World\")"
   ]
  },
  {
   "cell_type": "code",
   "execution_count": 4,
   "metadata": {},
   "outputs": [
    {
     "name": "stdout",
     "output_type": "stream",
     "text": [
      "Hello\n",
      "World\n"
     ]
    }
   ],
   "source": [
    "# 1003\n",
    "\n",
    "print(\"Hello\")\n",
    "print(\"World\")"
   ]
  },
  {
   "cell_type": "code",
   "execution_count": 5,
   "metadata": {},
   "outputs": [
    {
     "name": "stdout",
     "output_type": "stream",
     "text": [
      "'Hello'\n"
     ]
    }
   ],
   "source": [
    "# 1004\n",
    "\n",
    "print(\"'Hello'\")"
   ]
  },
  {
   "cell_type": "code",
   "execution_count": 6,
   "metadata": {},
   "outputs": [
    {
     "name": "stdout",
     "output_type": "stream",
     "text": [
      "\"Hello World\"\n"
     ]
    }
   ],
   "source": [
    "# 1005\n",
    "\n",
    "print('\"Hello World\"')"
   ]
  },
  {
   "cell_type": "code",
   "execution_count": 7,
   "metadata": {},
   "outputs": [
    {
     "name": "stdout",
     "output_type": "stream",
     "text": [
      "\"!@#$%^&*()\"\n"
     ]
    }
   ],
   "source": [
    "# 1006\n",
    "\n",
    "print('\"!@#$%^&*()\"')"
   ]
  },
  {
   "cell_type": "code",
   "execution_count": 10,
   "metadata": {},
   "outputs": [
    {
     "name": "stdout",
     "output_type": "stream",
     "text": [
      "\"C:\\Download\\hello.cpp\"\n"
     ]
    }
   ],
   "source": [
    "# 1007\n",
    "\n",
    "print('\"C:\\Download\\hello.cpp\"')"
   ]
  },
  {
   "cell_type": "code",
   "execution_count": 13,
   "metadata": {},
   "outputs": [
    {
     "name": "stdout",
     "output_type": "stream",
     "text": [
      "┌┬┐\n",
      "├┼┤\n",
      "└┴┘\n"
     ]
    }
   ],
   "source": [
    "# 1008\n",
    "\n",
    "print(\"\\u250C\\u252C\\u2510\")\n",
    "print(\"\\u251C\\u253C\\u2524\")\n",
    "print(\"\\u2514\\u2534\\u2518\")"
   ]
  },
  {
   "cell_type": "code",
   "execution_count": 14,
   "metadata": {},
   "outputs": [
    {
     "name": "stdout",
     "output_type": "stream",
     "text": [
      "3\n",
      "3\n"
     ]
    }
   ],
   "source": [
    "# 1010\n",
    "\n",
    "n = int(input())\n",
    "print(n)"
   ]
  },
  {
   "cell_type": "code",
   "execution_count": 15,
   "metadata": {},
   "outputs": [
    {
     "name": "stdout",
     "output_type": "stream",
     "text": [
      "p\n",
      "p\n"
     ]
    }
   ],
   "source": [
    "# 1011\n",
    "\n",
    "char = input()\n",
    "print(char)"
   ]
  },
  {
   "cell_type": "code",
   "execution_count": 19,
   "metadata": {},
   "outputs": [
    {
     "name": "stdout",
     "output_type": "stream",
     "text": [
      "1.34\n",
      "1.340000\n"
     ]
    }
   ],
   "source": [
    "# 1012\n",
    "\n",
    "f = float(input())\n",
    "print(\"%f\" %f)"
   ]
  },
  {
   "cell_type": "code",
   "execution_count": 20,
   "metadata": {},
   "outputs": [
    {
     "name": "stdout",
     "output_type": "stream",
     "text": [
      "1 2\n",
      "1 2\n"
     ]
    }
   ],
   "source": [
    "# 1013\n",
    "\n",
    "a = list(input().split())\n",
    "print(* a)"
   ]
  },
  {
   "cell_type": "code",
   "execution_count": 22,
   "metadata": {},
   "outputs": [
    {
     "name": "stdout",
     "output_type": "stream",
     "text": [
      "1 2\n",
      "2 1\n"
     ]
    }
   ],
   "source": [
    "# 1014\n",
    "\n",
    "a = list(input().split())\n",
    "a.reverse()\n",
    "print(* a)"
   ]
  },
  {
   "cell_type": "code",
   "execution_count": 24,
   "metadata": {},
   "outputs": [
    {
     "name": "stdout",
     "output_type": "stream",
     "text": [
      "1.5928\n",
      "1.59\n"
     ]
    }
   ],
   "source": [
    "# 1015\n",
    "\n",
    "f = float(input())\n",
    "print(\"%0.2f\" %f)"
   ]
  },
  {
   "cell_type": "code",
   "execution_count": 29,
   "metadata": {},
   "outputs": [
    {
     "name": "stdout",
     "output_type": "stream",
     "text": [
      "125\n",
      "125 125 125 "
     ]
    }
   ],
   "source": [
    "# 1017\n",
    "\n",
    "n = int(input())\n",
    "for _ in range(3):\n",
    "    print(n, end = \" \")"
   ]
  },
  {
   "cell_type": "code",
   "execution_count": 30,
   "metadata": {},
   "outputs": [
    {
     "name": "stdout",
     "output_type": "stream",
     "text": [
      "3:16\n",
      "3:16\n"
     ]
    }
   ],
   "source": [
    "# 1018\n",
    "\n",
    "n = input()\n",
    "print(n)"
   ]
  },
  {
   "cell_type": "code",
   "execution_count": 46,
   "metadata": {},
   "outputs": [
    {
     "name": "stdout",
     "output_type": "stream",
     "text": [
      "99.1.1\n",
      "0099.01.01"
     ]
    }
   ],
   "source": [
    "# 1019\n",
    "\n",
    "str = list(input().split(\".\"))\n",
    "\n",
    "for i in range(len(str)):\n",
    "    if i == 0:\n",
    "        s = 4 - len(str[i])\n",
    "        str[i] = '0' * s + str[i]\n",
    "        print(str[i], end = \"\")\n",
    "        continue\n",
    "    if len(str[i]) < 2:\n",
    "        str[i] = '.0' + str[i]\n",
    "        print(str[i], end = \"\")\n",
    "        continue\n",
    "    if len(str[i]) == 2:\n",
    "        str[i] = '.' + str[i]\n",
    "        print(str[i], end = \"\")\n",
    "        continue"
   ]
  },
  {
   "cell_type": "code",
   "execution_count": 49,
   "metadata": {},
   "outputs": [
    {
     "name": "stdout",
     "output_type": "stream",
     "text": [
      "000907-1121112\n",
      "0009071121112\n"
     ]
    }
   ],
   "source": [
    "# 1020\n",
    "\n",
    "str = list(input().split(\"-\"))\n",
    "print(str[0] + str[1])"
   ]
  },
  {
   "cell_type": "code",
   "execution_count": 50,
   "metadata": {},
   "outputs": [
    {
     "name": "stdout",
     "output_type": "stream",
     "text": [
      "Informatics\n",
      "Informatics\n"
     ]
    }
   ],
   "source": [
    "# 1021\n",
    "\n",
    "str = input()\n",
    "print(str)"
   ]
  },
  {
   "cell_type": "code",
   "execution_count": 51,
   "metadata": {},
   "outputs": [
    {
     "name": "stdout",
     "output_type": "stream",
     "text": [
      "Programming is very fun!!\n",
      "Programming is very fun!!\n"
     ]
    }
   ],
   "source": [
    "# 1022\n",
    "\n",
    "str = input()\n",
    "print(str)"
   ]
  },
  {
   "cell_type": "code",
   "execution_count": 53,
   "metadata": {},
   "outputs": [
    {
     "name": "stdout",
     "output_type": "stream",
     "text": [
      "1.414213\n",
      "1\n",
      "414213\n"
     ]
    }
   ],
   "source": [
    "# 1023\n",
    "\n",
    "str = input().split(\".\")\n",
    "print(str[0]); print(str[1])"
   ]
  },
  {
   "cell_type": "code",
   "execution_count": 54,
   "metadata": {},
   "outputs": [
    {
     "name": "stdout",
     "output_type": "stream",
     "text": [
      "Boy\n",
      "'B'\n",
      "'o'\n",
      "'y'\n"
     ]
    }
   ],
   "source": [
    "# 1024\n",
    "\n",
    "str = input()\n",
    "for i in range(len(str)):\n",
    "    print(\"'\" + str[i] + \"'\")"
   ]
  },
  {
   "cell_type": "code",
   "execution_count": 67,
   "metadata": {},
   "outputs": [
    {
     "name": "stdout",
     "output_type": "stream",
     "text": [
      "75254\n",
      "[70000]\n",
      "[5000]\n",
      "[200]\n",
      "[50]\n",
      "[4]\n"
     ]
    }
   ],
   "source": [
    "# 1025\n",
    "\n",
    "n = input()\n",
    "\n",
    "for i in range(len(n)):\n",
    "    num = n[i] + '0'* (len(n) - 1 - i)\n",
    "    print(\"[\" + num + \"]\")"
   ]
  },
  {
   "cell_type": "code",
   "execution_count": 90,
   "metadata": {},
   "outputs": [
    {
     "name": "stdout",
     "output_type": "stream",
     "text": [
      "17:03:57\n",
      "3\n"
     ]
    }
   ],
   "source": [
    "# 1026\n",
    "\n",
    "n = input().split(\":\")\n",
    "num = int(n[1])\n",
    "print(\"%d\" %num)"
   ]
  },
  {
   "cell_type": "code",
   "execution_count": 115,
   "metadata": {},
   "outputs": [
    {
     "name": "stdout",
     "output_type": "stream",
     "text": [
      "2014.07.15\n",
      "15-07-2014\n"
     ]
    }
   ],
   "source": [
    "# 1027\n",
    "\n",
    "n = input().split('.')\n",
    "year = int(n[0])\n",
    "month = int(n[1]) \n",
    "day = int(n[2]) \n",
    "print('%0.2d-%0.2d-%0.4d' % (day, month, year))"
   ]
  },
  {
   "cell_type": "code",
   "execution_count": 116,
   "metadata": {},
   "outputs": [
    {
     "name": "stdout",
     "output_type": "stream",
     "text": [
      "2147483648\n",
      "2147483648\n"
     ]
    }
   ],
   "source": [
    "# 1028\n",
    "\n",
    "n = int(input())\n",
    "print(n)"
   ]
  },
  {
   "cell_type": "code",
   "execution_count": 118,
   "metadata": {},
   "outputs": [
    {
     "name": "stdout",
     "output_type": "stream",
     "text": [
      "3.14159265359\n",
      "3.14159265359\n"
     ]
    }
   ],
   "source": [
    "# 1029\n",
    "\n",
    "n = float(input())\n",
    "print(\"%.11f\" %n)"
   ]
  },
  {
   "cell_type": "code",
   "execution_count": 119,
   "metadata": {},
   "outputs": [
    {
     "name": "stdout",
     "output_type": "stream",
     "text": [
      "-2147483649\n",
      "-2147483649\n"
     ]
    }
   ],
   "source": [
    "# 1030\n",
    "\n",
    "n = int(input())\n",
    "print(n)"
   ]
  },
  {
   "cell_type": "code",
   "execution_count": 120,
   "metadata": {},
   "outputs": [
    {
     "name": "stdout",
     "output_type": "stream",
     "text": [
      "10\n",
      "12\n"
     ]
    }
   ],
   "source": [
    "# 1031\n",
    "\n",
    "n = int(input())\n",
    "print(\"%o\" %n) # 8진수로 변환"
   ]
  },
  {
   "cell_type": "code",
   "execution_count": 126,
   "metadata": {},
   "outputs": [
    {
     "name": "stdout",
     "output_type": "stream",
     "text": [
      "255\n",
      "ff\n"
     ]
    }
   ],
   "source": [
    "# 1032\n",
    "\n",
    "n = int(input())\n",
    "a = print(\"%x\" %n) # 16진수로 변환, 소문자"
   ]
  },
  {
   "cell_type": "code",
   "execution_count": 125,
   "metadata": {},
   "outputs": [
    {
     "name": "stdout",
     "output_type": "stream",
     "text": [
      "255\n",
      "FF\n"
     ]
    }
   ],
   "source": [
    "# 1033\n",
    "\n",
    "n = int(input())\n",
    "a = print(\"%X\" %n) # 16진수로 변환, 대문자"
   ]
  },
  {
   "cell_type": "code",
   "execution_count": 7,
   "metadata": {},
   "outputs": [
    {
     "name": "stdout",
     "output_type": "stream",
     "text": [
      "13\n",
      "11\n"
     ]
    }
   ],
   "source": [
    "# 1034\n",
    "\n",
    "n = input()\n",
    "summ = 0\n",
    "for i in range(len(n)):\n",
    "    num = int(n[i]) * (8**(len(n) - 1 -i))\n",
    "    summ += num\n",
    "print(summ)"
   ]
  },
  {
   "cell_type": "code",
   "execution_count": 18,
   "metadata": {},
   "outputs": [
    {
     "name": "stdout",
     "output_type": "stream",
     "text": [
      "f\n",
      "17\n"
     ]
    }
   ],
   "source": [
    "# 1035\n",
    "\n",
    "n = input()\n",
    "n = '0x' + n\n",
    "n = int(n, 16)\n",
    "print(\"%o\" %n)"
   ]
  },
  {
   "cell_type": "code",
   "execution_count": 29,
   "metadata": {},
   "outputs": [
    {
     "name": "stdout",
     "output_type": "stream",
     "text": [
      "A\n",
      "65\n"
     ]
    }
   ],
   "source": [
    "# 1036\n",
    "\n",
    "n = input()\n",
    "print(ord(n))"
   ]
  },
  {
   "cell_type": "code",
   "execution_count": 30,
   "metadata": {},
   "outputs": [
    {
     "name": "stdout",
     "output_type": "stream",
     "text": [
      "65\n",
      "A\n"
     ]
    }
   ],
   "source": [
    "# 1037\n",
    "\n",
    "n = int(input())\n",
    "print(chr(n))"
   ]
  },
  {
   "cell_type": "code",
   "execution_count": 27,
   "metadata": {},
   "outputs": [
    {
     "name": "stdout",
     "output_type": "stream",
     "text": [
      "-123 123\n",
      "0\n"
     ]
    }
   ],
   "source": [
    "# 1038\n",
    "\n",
    "a, b = map(int, input().split())\n",
    "print(a + b)"
   ]
  },
  {
   "cell_type": "code",
   "execution_count": null,
   "metadata": {},
   "outputs": [],
   "source": [
    "# 1039\n",
    "\n",
    "a, b = map(int, input().split())\n",
    "print(a + b)"
   ]
  },
  {
   "cell_type": "code",
   "execution_count": 32,
   "metadata": {},
   "outputs": [
    {
     "name": "stdout",
     "output_type": "stream",
     "text": [
      "-123\n",
      "123\n"
     ]
    }
   ],
   "source": [
    "# 1040\n",
    "\n",
    "a = int(input())\n",
    "b = -a\n",
    "print(b)"
   ]
  },
  {
   "cell_type": "code",
   "execution_count": 35,
   "metadata": {},
   "outputs": [
    {
     "name": "stdout",
     "output_type": "stream",
     "text": [
      "0\n",
      "1\n"
     ]
    }
   ],
   "source": [
    "# 1041\n",
    "\n",
    "str = input()\n",
    "change = ord(str) + 1\n",
    "str = chr(change)\n",
    "print(str)"
   ]
  },
  {
   "cell_type": "code",
   "execution_count": 37,
   "metadata": {},
   "outputs": [
    {
     "name": "stdout",
     "output_type": "stream",
     "text": [
      "1 3\n",
      "0\n"
     ]
    }
   ],
   "source": [
    "# 1042\n",
    "\n",
    "a, b = map(int, input().split())\n",
    "print(a // b)"
   ]
  },
  {
   "cell_type": "code",
   "execution_count": 38,
   "metadata": {},
   "outputs": [
    {
     "name": "stdout",
     "output_type": "stream",
     "text": [
      "10 3\n",
      "1\n"
     ]
    }
   ],
   "source": [
    "# 1043\n",
    "\n",
    "a, b = map(int, input().split())\n",
    "print(a % b)"
   ]
  },
  {
   "cell_type": "code",
   "execution_count": 39,
   "metadata": {},
   "outputs": [
    {
     "name": "stdout",
     "output_type": "stream",
     "text": [
      "2147483647\n",
      "2147483648\n"
     ]
    }
   ],
   "source": [
    "# 1044\n",
    "\n",
    "a = int(input())\n",
    "print(a+1)"
   ]
  },
  {
   "cell_type": "code",
   "execution_count": 1,
   "metadata": {},
   "outputs": [
    {
     "name": "stdout",
     "output_type": "stream",
     "text": [
      "10 3\n",
      "13\n",
      "7\n",
      "30\n",
      "3\n",
      "1\n",
      "3.33\n"
     ]
    }
   ],
   "source": [
    "# 1045\n",
    "\n",
    "a, b = map(int, input().split())\n",
    "\n",
    "# 합\n",
    "print(a + b)\n",
    "# 차\n",
    "print(a - b)\n",
    "# 곱\n",
    "print(a * b)\n",
    "# 몫\n",
    "print(a // b)\n",
    "# 나머지\n",
    "print(a % b)\n",
    "# 나눈 값\n",
    "print(\"%0.2f\" %round(a / b, 2))"
   ]
  },
  {
   "cell_type": "code",
   "execution_count": 3,
   "metadata": {},
   "outputs": [
    {
     "name": "stdout",
     "output_type": "stream",
     "text": [
      "1 2 3\n",
      "6\n",
      "2.0\n"
     ]
    }
   ],
   "source": [
    "# 1046\n",
    "\n",
    "a, b, c = map(int, input().split())\n",
    "print(a + b + c)\n",
    "m = (a + b + c) / 3\n",
    "print(\"%0.1f\" %m)"
   ]
  },
  {
   "cell_type": "code",
   "execution_count": 5,
   "metadata": {},
   "outputs": [
    {
     "name": "stdout",
     "output_type": "stream",
     "text": [
      "1024\n",
      "2048\n"
     ]
    }
   ],
   "source": [
    "# 1047\n",
    "\n",
    "a = int(input())\n",
    "print(a*2)"
   ]
  },
  {
   "cell_type": "code",
   "execution_count": 7,
   "metadata": {},
   "outputs": [
    {
     "name": "stdout",
     "output_type": "stream",
     "text": [
      "1 3\n",
      "8\n"
     ]
    }
   ],
   "source": [
    "# 1048\n",
    "\n",
    "a, b = map(int, input().split())\n",
    "print(a*(2**b))"
   ]
  },
  {
   "cell_type": "code",
   "execution_count": 15,
   "metadata": {},
   "outputs": [
    {
     "name": "stdout",
     "output_type": "stream",
     "text": [
      "3 4\n",
      "0\n"
     ]
    }
   ],
   "source": [
    "# 1049\n",
    "\n",
    "a, b = map(int, input().split())\n",
    "if a > b:\n",
    "    print(1)\n",
    "else:\n",
    "    print(0)"
   ]
  },
  {
   "cell_type": "code",
   "execution_count": 14,
   "metadata": {},
   "outputs": [
    {
     "name": "stdout",
     "output_type": "stream",
     "text": [
      "1 3\n",
      "0\n"
     ]
    }
   ],
   "source": [
    "# 1050\n",
    "\n",
    "a, b = map(int, input().split())\n",
    "if a == b:\n",
    "    print(1)\n",
    "else:\n",
    "    print(0)"
   ]
  },
  {
   "cell_type": "code",
   "execution_count": 13,
   "metadata": {},
   "outputs": [
    {
     "name": "stdout",
     "output_type": "stream",
     "text": [
      "0 0\n",
      "1\n"
     ]
    }
   ],
   "source": [
    "# 1051\n",
    "\n",
    "a, b = map(int, input().split())\n",
    "if a <= b:\n",
    "    print(1)\n",
    "else:\n",
    "    print(0)"
   ]
  },
  {
   "cell_type": "code",
   "execution_count": 17,
   "metadata": {},
   "outputs": [
    {
     "name": "stdout",
     "output_type": "stream",
     "text": [
      "1 3\n",
      "1\n"
     ]
    }
   ],
   "source": [
    "# 1052\n",
    "\n",
    "a, b = map(int, input().split())\n",
    "if a != b:\n",
    "    print(1)\n",
    "else:\n",
    "    print(0)"
   ]
  },
  {
   "cell_type": "code",
   "execution_count": 18,
   "metadata": {},
   "outputs": [
    {
     "name": "stdout",
     "output_type": "stream",
     "text": [
      "1\n",
      "0\n"
     ]
    }
   ],
   "source": [
    "# 1053\n",
    "\n",
    "a = int(input())\n",
    "if a == 1:\n",
    "    print(0)\n",
    "else:\n",
    "    print(1)"
   ]
  },
  {
   "cell_type": "code",
   "execution_count": 19,
   "metadata": {},
   "outputs": [
    {
     "name": "stdout",
     "output_type": "stream",
     "text": [
      "1 1\n",
      "1\n"
     ]
    }
   ],
   "source": [
    "# 1054\n",
    "\n",
    "a, b = map(int, input().split())\n",
    "if a == 1 and b == 1:\n",
    "    print(1)\n",
    "else:\n",
    "    print(0)"
   ]
  },
  {
   "cell_type": "code",
   "execution_count": 22,
   "metadata": {},
   "outputs": [
    {
     "name": "stdout",
     "output_type": "stream",
     "text": [
      "1 1\n",
      "1\n"
     ]
    }
   ],
   "source": [
    "# 1055\n",
    "\n",
    "a, b = map(int, input().split())\n",
    "if a == 1 or b == 1:\n",
    "    print(1)\n",
    "else:\n",
    "    print(0)"
   ]
  },
  {
   "cell_type": "code",
   "execution_count": 25,
   "metadata": {},
   "outputs": [
    {
     "name": "stdout",
     "output_type": "stream",
     "text": [
      "0 0\n",
      "0\n"
     ]
    }
   ],
   "source": [
    "# 1056\n",
    "\n",
    "a, b = map(int, input().split())\n",
    "if a != b:\n",
    "    print(1)\n",
    "else:\n",
    "    print(0)"
   ]
  },
  {
   "cell_type": "code",
   "execution_count": 26,
   "metadata": {},
   "outputs": [
    {
     "name": "stdout",
     "output_type": "stream",
     "text": [
      "0 0\n",
      "1\n"
     ]
    }
   ],
   "source": [
    "# 1057\n",
    "\n",
    "a, b = map(int, input().split())\n",
    "if a == b:\n",
    "    print(1)\n",
    "else:\n",
    "    print(0)"
   ]
  },
  {
   "cell_type": "code",
   "execution_count": 27,
   "metadata": {},
   "outputs": [
    {
     "name": "stdout",
     "output_type": "stream",
     "text": [
      "0 1\n",
      "0\n"
     ]
    }
   ],
   "source": [
    "# 1058\n",
    "\n",
    "a, b = map(int, input().split())\n",
    "if a == 0 and b == 0:\n",
    "    print(1)\n",
    "else:\n",
    "    print(0)"
   ]
  },
  {
   "cell_type": "code",
   "execution_count": 60,
   "metadata": {},
   "outputs": [
    {
     "name": "stdout",
     "output_type": "stream",
     "text": [
      "2\n",
      "-3\n"
     ]
    }
   ],
   "source": [
    "# 1059\n",
    "\n",
    "a = int(input())\n",
    "print(- a - 1)"
   ]
  },
  {
   "cell_type": "code",
   "execution_count": 103,
   "metadata": {},
   "outputs": [
    {
     "name": "stdout",
     "output_type": "stream",
     "text": [
      "3 5\n",
      "1\n"
     ]
    }
   ],
   "source": [
    "# 1060\n",
    "\n",
    "a, b = map(int, input().split())\n",
    "a2 = format(a, 'b'); b2 = format(b, 'b')\n",
    "sumc = ''\n",
    "\n",
    "if len(a2) != len(b2):\n",
    "    if len(a2) > len(b2):\n",
    "        count = len(a2) - len(b2)\n",
    "        b2 = '0'*count + b2 \n",
    "    else:\n",
    "        count = len(b2) - len(a2)\n",
    "        a2 = '0'*count + a2 \n",
    "for i in range(len(a2)):\n",
    "    if a2[i] == b2[i] and a2[i] == '1':\n",
    "        sumc = sumc + '1'\n",
    "    else:\n",
    "        sumc = sumc + '0'      \n",
    "print(int(sumc, 2))"
   ]
  },
  {
   "cell_type": "code",
   "execution_count": 108,
   "metadata": {},
   "outputs": [
    {
     "name": "stdout",
     "output_type": "stream",
     "text": [
      "3 5\n",
      "7\n"
     ]
    }
   ],
   "source": [
    "# 1061\n",
    "\n",
    "a, b = map(int, input().split())\n",
    "a2 = format(a, 'b'); b2 = format(b, 'b')\n",
    "sumc = ''\n",
    "\n",
    "if len(a2) != len(b2):\n",
    "    if len(a2) > len(b2):\n",
    "        count = len(a2) - len(b2)\n",
    "        b2 = '0'*count + b2 \n",
    "    else:\n",
    "        count = len(b2) - len(a2)\n",
    "        a2 = '0'*count + a2 \n",
    "for i in range(len(a2)):\n",
    "    if a2[i] == '1' or b2[i] == '1':\n",
    "        sumc = sumc + '1'\n",
    "    else:\n",
    "        sumc = sumc + '0'      \n",
    "print(int(sumc, 2))"
   ]
  },
  {
   "cell_type": "code",
   "execution_count": 105,
   "metadata": {},
   "outputs": [
    {
     "name": "stdout",
     "output_type": "stream",
     "text": [
      "3 5\n",
      "6\n"
     ]
    }
   ],
   "source": [
    "# 1062\n",
    "\n",
    "a, b = map(int, input().split())\n",
    "a2 = format(a, 'b'); b2 = format(b, 'b')\n",
    "sumc = ''\n",
    "\n",
    "if len(a2) != len(b2):\n",
    "    if len(a2) > len(b2):\n",
    "        count = len(a2) - len(b2)\n",
    "        b2 = '0'*count + b2 \n",
    "    else:\n",
    "        count = len(b2) - len(a2)\n",
    "        a2 = '0'*count + a2 \n",
    "for i in range(len(a2)):\n",
    "    if a2[i] != b2[i]:\n",
    "        sumc = sumc + '1'\n",
    "    else:\n",
    "        sumc = sumc + '0'      \n",
    "print(int(sumc, 2))"
   ]
  },
  {
   "cell_type": "code",
   "execution_count": 110,
   "metadata": {},
   "outputs": [
    {
     "name": "stdout",
     "output_type": "stream",
     "text": [
      "123 456\n",
      "456\n"
     ]
    }
   ],
   "source": [
    "# 1063\n",
    "\n",
    "a, b = map(int, input().split())\n",
    "if a > b:\n",
    "    print(a)\n",
    "else:\n",
    "    print(b)"
   ]
  },
  {
   "cell_type": "code",
   "execution_count": 111,
   "metadata": {},
   "outputs": [
    {
     "name": "stdout",
     "output_type": "stream",
     "text": [
      "3 -1 5\n"
     ]
    },
    {
     "data": {
      "text/plain": [
       "-1"
      ]
     },
     "execution_count": 111,
     "metadata": {},
     "output_type": "execute_result"
    }
   ],
   "source": [
    "# 1064\n",
    "\n",
    "a = list(map(int, input().split()))\n",
    "print(min(a))"
   ]
  },
  {
   "cell_type": "code",
   "execution_count": 113,
   "metadata": {},
   "outputs": [
    {
     "name": "stdout",
     "output_type": "stream",
     "text": [
      "1 2 4\n",
      "2\n",
      "4\n"
     ]
    }
   ],
   "source": [
    "# 1065\n",
    "\n",
    "a = list(map(int, input().split()))\n",
    "b = []\n",
    "\n",
    "for i in range(len(a)):\n",
    "    if a[i] % 2 == 0:\n",
    "        b.append(a[i])\n",
    "for i in range(len(b)):\n",
    "    print(b[i])"
   ]
  },
  {
   "cell_type": "code",
   "execution_count": 115,
   "metadata": {},
   "outputs": [
    {
     "name": "stdout",
     "output_type": "stream",
     "text": [
      "1 2 8\n",
      "odd\n",
      "even\n",
      "even\n"
     ]
    }
   ],
   "source": [
    "# 1066\n",
    "\n",
    "a = list(map(int, input().split()))\n",
    "b = []\n",
    "\n",
    "for i in range(len(a)):\n",
    "    if a[i] % 2 == 0:\n",
    "        b.append('even')\n",
    "        continue\n",
    "    else:\n",
    "        b.append('odd')\n",
    "    \n",
    "for i in range(len(b)):\n",
    "    print(b[i])"
   ]
  },
  {
   "cell_type": "code",
   "execution_count": 116,
   "metadata": {},
   "outputs": [
    {
     "name": "stdout",
     "output_type": "stream",
     "text": [
      "-2147483648\n",
      "minus\n",
      "even\n"
     ]
    }
   ],
   "source": [
    "# 1067\n",
    "\n",
    "a = int(input())\n",
    "\n",
    "if a < 0:\n",
    "    print('minus')\n",
    "else:\n",
    "    print('plus')\n",
    "if abs(a) % 2 == 0:\n",
    "    print('even')\n",
    "else:\n",
    "    print('odd')"
   ]
  },
  {
   "cell_type": "code",
   "execution_count": 117,
   "metadata": {},
   "outputs": [
    {
     "name": "stdout",
     "output_type": "stream",
     "text": [
      "73\n",
      "B\n"
     ]
    }
   ],
   "source": [
    "# 1068\n",
    "\n",
    "a = int(input())\n",
    "\n",
    "if a >= 90:\n",
    "    print('A')\n",
    "elif a >= 70:\n",
    "    print('B')\n",
    "elif a >= 40:\n",
    "    print('C')\n",
    "else:\n",
    "    print('D')"
   ]
  },
  {
   "cell_type": "code",
   "execution_count": 118,
   "metadata": {},
   "outputs": [
    {
     "name": "stdout",
     "output_type": "stream",
     "text": [
      "A\n",
      "best!!!\n"
     ]
    }
   ],
   "source": [
    "# 1069\n",
    "\n",
    "a = input()\n",
    "\n",
    "if a == 'A':\n",
    "    print('best!!!')\n",
    "elif a == 'B':\n",
    "    print('good!!')\n",
    "elif a == 'C':\n",
    "    print('run!')\n",
    "elif a == 'D':\n",
    "    print('slowly~')\n",
    "else:\n",
    "    print('what?')"
   ]
  },
  {
   "cell_type": "code",
   "execution_count": 119,
   "metadata": {},
   "outputs": [
    {
     "name": "stdout",
     "output_type": "stream",
     "text": [
      "12\n",
      "winter\n"
     ]
    }
   ],
   "source": [
    "# 1070\n",
    "\n",
    "a = int(input())\n",
    "\n",
    "if 3 <= a <= 5:\n",
    "    print('spring')\n",
    "elif 6 <= a <= 8:\n",
    "    print('summer')\n",
    "elif 9 <= a <= 11:\n",
    "    print('fall')\n",
    "else:\n",
    "    print('winter')"
   ]
  },
  {
   "cell_type": "code",
   "execution_count": 120,
   "metadata": {},
   "outputs": [
    {
     "name": "stdout",
     "output_type": "stream",
     "text": [
      "7 4 2 3 0 1 5 6 9 10 8\n",
      "7\n",
      "4\n",
      "2\n",
      "3\n"
     ]
    }
   ],
   "source": [
    "# 1071\n",
    "\n",
    "a = list(map(int, input().split()))\n",
    "\n",
    "for i in range(len(a)):\n",
    "    if a[i] == 0:\n",
    "        break\n",
    "    print(a[i])"
   ]
  },
  {
   "cell_type": "code",
   "execution_count": 121,
   "metadata": {},
   "outputs": [
    {
     "name": "stdout",
     "output_type": "stream",
     "text": [
      "5\n",
      "1 2 3 4 5\n",
      "1\n",
      "2\n",
      "3\n",
      "4\n",
      "5\n"
     ]
    }
   ],
   "source": [
    "# 1072\n",
    "\n",
    "n = int(input())\n",
    "lis = list(map(int, input().split()))\n",
    "\n",
    "for i in range(n):\n",
    "    print(lis[i])"
   ]
  },
  {
   "cell_type": "code",
   "execution_count": 122,
   "metadata": {},
   "outputs": [
    {
     "name": "stdout",
     "output_type": "stream",
     "text": [
      "7 4 2 3 0 1 5 6 9 10 8\n",
      "7\n",
      "4\n",
      "2\n",
      "3\n"
     ]
    }
   ],
   "source": [
    "# 1073\n",
    "\n",
    "a = list(map(int, input().split()))\n",
    "\n",
    "for i in range(len(a)):\n",
    "    if a[i] == 0:\n",
    "        break\n",
    "    print(a[i])"
   ]
  },
  {
   "cell_type": "code",
   "execution_count": 126,
   "metadata": {},
   "outputs": [
    {
     "name": "stdout",
     "output_type": "stream",
     "text": [
      "5\n",
      "5\n",
      "4\n",
      "3\n",
      "2\n",
      "1\n"
     ]
    }
   ],
   "source": [
    "# 1074\n",
    "\n",
    "a = int(input())\n",
    "\n",
    "for i in range(a, 0, -1):\n",
    "    print(i)"
   ]
  },
  {
   "cell_type": "code",
   "execution_count": 127,
   "metadata": {},
   "outputs": [
    {
     "name": "stdout",
     "output_type": "stream",
     "text": [
      "5\n",
      "4\n",
      "3\n",
      "2\n",
      "1\n",
      "0\n"
     ]
    }
   ],
   "source": [
    "# 1075\n",
    "\n",
    "a = int(input())\n",
    "\n",
    "for i in range(a-1, -1, -1):\n",
    "    print(i)"
   ]
  },
  {
   "cell_type": "code",
   "execution_count": 129,
   "metadata": {},
   "outputs": [
    {
     "data": {
      "text/plain": [
       "102"
      ]
     },
     "execution_count": 129,
     "metadata": {},
     "output_type": "execute_result"
    }
   ],
   "source": [
    "ord('f')"
   ]
  },
  {
   "cell_type": "code",
   "execution_count": 133,
   "metadata": {},
   "outputs": [
    {
     "name": "stdout",
     "output_type": "stream",
     "text": [
      "f\n",
      "a b c d e f "
     ]
    }
   ],
   "source": [
    "# 1076\n",
    "\n",
    "char = input()\n",
    "num = 97\n",
    "\n",
    "while(num <= ord(char)):\n",
    "    print(chr(num), end = \" \")\n",
    "    num = num + 1"
   ]
  },
  {
   "cell_type": "code",
   "execution_count": 135,
   "metadata": {},
   "outputs": [
    {
     "name": "stdout",
     "output_type": "stream",
     "text": [
      "4\n",
      "0\n",
      "1\n",
      "2\n",
      "3\n",
      "4\n"
     ]
    }
   ],
   "source": [
    "# 1077\n",
    "\n",
    "a = int(input())\n",
    "\n",
    "for i in range(0, a + 1):\n",
    "    print(i)"
   ]
  },
  {
   "cell_type": "code",
   "execution_count": 138,
   "metadata": {},
   "outputs": [
    {
     "name": "stdout",
     "output_type": "stream",
     "text": [
      "5\n",
      "6\n"
     ]
    }
   ],
   "source": [
    "# 1078\n",
    "\n",
    "a = int(input())\n",
    "b = []\n",
    "\n",
    "for i in range(0, a + 1):\n",
    "    if i % 2 == 0:\n",
    "        b.append(i)\n",
    "        \n",
    "print(sum(b))  "
   ]
  },
  {
   "cell_type": "code",
   "execution_count": 140,
   "metadata": {},
   "outputs": [
    {
     "name": "stdout",
     "output_type": "stream",
     "text": [
      "x b k d l q g a c\n",
      "x\n",
      "b\n",
      "k\n",
      "d\n",
      "l\n",
      "q\n"
     ]
    }
   ],
   "source": [
    "# 1079\n",
    "\n",
    "a = list(input().split())\n",
    "\n",
    "for i in range(len(a)):\n",
    "    if a[i] == 'q':\n",
    "        print(a[i])\n",
    "        break\n",
    "    print(a[i])"
   ]
  },
  {
   "cell_type": "code",
   "execution_count": 147,
   "metadata": {},
   "outputs": [
    {
     "name": "stdout",
     "output_type": "stream",
     "text": [
      "5\n",
      "3\n"
     ]
    }
   ],
   "source": [
    "# 1080\n",
    "\n",
    "a = int(input())\n",
    "num = 1\n",
    "v = 0\n",
    "\n",
    "while(v < a):\n",
    "    v += num\n",
    "    num += 1\n",
    "print(num - 1)"
   ]
  },
  {
   "cell_type": "code",
   "execution_count": 152,
   "metadata": {},
   "outputs": [
    {
     "name": "stdout",
     "output_type": "stream",
     "text": [
      "2 3\n",
      "1 1\n",
      "1 2\n",
      "1 3\n",
      "2 1\n",
      "2 2\n",
      "2 3\n"
     ]
    }
   ],
   "source": [
    "# 1081\n",
    "\n",
    "a, b = map(int, input().split())\n",
    "\n",
    "for i in range(1, a + 1):\n",
    "    for j in range(1, b + 1):\n",
    "        print(str(i) + \" \" +  str(j))         "
   ]
  },
  {
   "cell_type": "code",
   "execution_count": 167,
   "metadata": {},
   "outputs": [
    {
     "name": "stdout",
     "output_type": "stream",
     "text": [
      "A\n",
      "A*1=A\n",
      "A*2=14\n",
      "A*3=1E\n",
      "A*4=28\n",
      "A*5=32\n",
      "A*6=3C\n",
      "A*7=46\n",
      "A*8=50\n",
      "A*9=5A\n",
      "A*A=64\n",
      "A*B=6E\n",
      "A*C=78\n",
      "A*D=82\n",
      "A*E=8C\n",
      "A*F=96\n"
     ]
    }
   ],
   "source": [
    "# 1082\n",
    "\n",
    "a16 = input()\n",
    "ls = ['0', '1', '2', '3', '4', '5', '6', '7', '8', '9', 'A', 'B', 'C', 'D', 'E', 'F']\n",
    "ind = ls.index(a16)\n",
    "\n",
    "for i in range(1, len(ls)):\n",
    "    what = ind * i\n",
    "    print(a16 + \"*\" + ls[i] + \"=\" + str(\"%X\") %(what))"
   ]
  },
  {
   "cell_type": "code",
   "execution_count": 169,
   "metadata": {},
   "outputs": [
    {
     "name": "stdout",
     "output_type": "stream",
     "text": [
      "9\n",
      "1 2 X 4 5 X 7 8 X "
     ]
    }
   ],
   "source": [
    "# 1083\n",
    "\n",
    "n = int(input())\n",
    "\n",
    "for i in range(1, n+1):\n",
    "    if i%3 == 0:\n",
    "        print('X', end = ' ')\n",
    "    else:\n",
    "        print(i, end = ' ')"
   ]
  },
  {
   "cell_type": "code",
   "execution_count": 173,
   "metadata": {},
   "outputs": [
    {
     "name": "stdout",
     "output_type": "stream",
     "text": [
      "2 2 2\n",
      "0 0 0\n",
      "0 0 1\n",
      "0 1 0\n",
      "0 1 1\n",
      "1 0 0\n",
      "1 0 1\n",
      "1 1 0\n",
      "1 1 1\n",
      "8\n"
     ]
    }
   ],
   "source": [
    "# 1084\n",
    "\n",
    "r, g, b = map(int, input().split())\n",
    "\n",
    "for i in range(0, r):\n",
    "    for j in range(0, g):\n",
    "        for k in range(0, b):\n",
    "            print(str(i) + \" \" + str(j) + \" \" + str(k))\n",
    "print(r*g*b)"
   ]
  },
  {
   "cell_type": "code",
   "execution_count": 185,
   "metadata": {},
   "outputs": [
    {
     "name": "stdout",
     "output_type": "stream",
     "text": [
      "44100 16 2 10\n",
      "1.7 MB\n"
     ]
    }
   ],
   "source": [
    "# 1085\n",
    "\n",
    "h, b, c, s = map(int, input().split())\n",
    "size = h * b * c * s / 8\n",
    "value = size / 1024 / 1024\n",
    "print(str(round(value, 1)) + \" MB\")"
   ]
  },
  {
   "cell_type": "code",
   "execution_count": 187,
   "metadata": {},
   "outputs": [
    {
     "name": "stdout",
     "output_type": "stream",
     "text": [
      "1024 768 24\n",
      "2.25 MB\n"
     ]
    }
   ],
   "source": [
    "# 1086\n",
    "\n",
    "w, h, b  = map(int, input().split())\n",
    "size = w * h * b / 8\n",
    "value = size / 1024 / 1024\n",
    "print(\"%0.2f MB\" %round(value, 2))"
   ]
  },
  {
   "cell_type": "code",
   "execution_count": 192,
   "metadata": {},
   "outputs": [
    {
     "name": "stdout",
     "output_type": "stream",
     "text": [
      "57\n",
      "66\n"
     ]
    }
   ],
   "source": [
    "# 1087\n",
    "\n",
    "a = int(input())\n",
    "sum = 0\n",
    "i = 1\n",
    "while (sum < a):\n",
    "    sum += i\n",
    "    i += 1\n",
    "print(sum)    "
   ]
  },
  {
   "cell_type": "code",
   "execution_count": 195,
   "metadata": {},
   "outputs": [
    {
     "name": "stdout",
     "output_type": "stream",
     "text": [
      "10\n",
      "1 2 4 5 7 8 10 "
     ]
    }
   ],
   "source": [
    "# 1088\n",
    "\n",
    "a = int(input())\n",
    "\n",
    "for i in range(1, a + 1):\n",
    "    if i % 3 == 0:\n",
    "        continue\n",
    "    print(i, end = \" \")"
   ]
  },
  {
   "cell_type": "code",
   "execution_count": 208,
   "metadata": {},
   "outputs": [
    {
     "name": "stdout",
     "output_type": "stream",
     "text": [
      "1 3 5\n",
      "13\n"
     ]
    }
   ],
   "source": [
    "# 1089\n",
    "\n",
    "a, d, n  = map(int, input().split())\n",
    "print(a + d*(n-1))"
   ]
  },
  {
   "cell_type": "code",
   "execution_count": 211,
   "metadata": {},
   "outputs": [
    {
     "name": "stdout",
     "output_type": "stream",
     "text": [
      "2 3 7\n",
      "1458\n"
     ]
    }
   ],
   "source": [
    "# 1090\n",
    "\n",
    "a, r, n  = map(int, input().split())\n",
    "print(a*(r**(n-1)))"
   ]
  },
  {
   "cell_type": "code",
   "execution_count": 216,
   "metadata": {},
   "outputs": [
    {
     "name": "stdout",
     "output_type": "stream",
     "text": [
      "1 -2 1 8\n",
      "-85\n"
     ]
    }
   ],
   "source": [
    "# 1091\n",
    "\n",
    "a, m, d, n  = map(int, input().split())\n",
    "what = a\n",
    "for i in range(n-1):\n",
    "    what = (what * m) + d\n",
    "print(what)"
   ]
  },
  {
   "cell_type": "code",
   "execution_count": 219,
   "metadata": {},
   "outputs": [
    {
     "name": "stdout",
     "output_type": "stream",
     "text": [
      "3 7 9\n",
      "63\n"
     ]
    }
   ],
   "source": [
    "# 1092\n",
    "\n",
    "a, b, c  = map(int, input().split())\n",
    "day = 1\n",
    "\n",
    "while((day % a) != 0 or (day % b) != 0 or (day % c) != 0):\n",
    "    day += 1\n",
    "print(day)"
   ]
  },
  {
   "cell_type": "code",
   "execution_count": 228,
   "metadata": {},
   "outputs": [
    {
     "name": "stdout",
     "output_type": "stream",
     "text": [
      "10\n",
      "1 3 2 2 5 6 7 4 5 9\n",
      "1 2 1 1 2 1 1 0 1 0 0 0 0 0 0 0 0 0 0 0 0 0 0\n"
     ]
    }
   ],
   "source": [
    "# 1093\n",
    "\n",
    "num = int(input())\n",
    "lis  = list(map(int, input().split()))\n",
    "arr = [0 for i in range(24)]\n",
    "\n",
    "\n",
    "for i in lis:\n",
    "    arr[i] =  arr[i] + 1\n",
    "\n",
    "arr.pop(0)\n",
    "print(*arr)"
   ]
  },
  {
   "cell_type": "code",
   "execution_count": 229,
   "metadata": {},
   "outputs": [
    {
     "name": "stdout",
     "output_type": "stream",
     "text": [
      "10\n",
      "10 4 2 3 6 6 7 9 8 5\n",
      "5 8 9 7 6 6 3 2 4 10\n"
     ]
    }
   ],
   "source": [
    "# 1094\n",
    "\n",
    "num = int(input())\n",
    "lis  = list(map(int, input().split()))\n",
    "lis.reverse()\n",
    "print(*lis)"
   ]
  },
  {
   "cell_type": "code",
   "execution_count": 230,
   "metadata": {},
   "outputs": [
    {
     "name": "stdout",
     "output_type": "stream",
     "text": [
      "10\n",
      "10 4 2 3 6 6 7 9 8 5\n",
      "2\n"
     ]
    }
   ],
   "source": [
    "# 1095\n",
    "\n",
    "num = int(input())\n",
    "lis  = list(map(int, input().split()))\n",
    "print(min(lis))"
   ]
  },
  {
   "cell_type": "code",
   "execution_count": 5,
   "metadata": {},
   "outputs": [
    {
     "name": "stdout",
     "output_type": "stream",
     "text": [
      "5\n",
      "1 1\n",
      "2 2\n",
      "3 3\n",
      "4 4\n",
      "5 5\n",
      "1 0 0 0 0 0 0 0 0 0 0 0 0 0 0 0 0 0 0 \n",
      "0 1 0 0 0 0 0 0 0 0 0 0 0 0 0 0 0 0 0 \n",
      "0 0 1 0 0 0 0 0 0 0 0 0 0 0 0 0 0 0 0 \n",
      "0 0 0 1 0 0 0 0 0 0 0 0 0 0 0 0 0 0 0 \n",
      "0 0 0 0 1 0 0 0 0 0 0 0 0 0 0 0 0 0 0 \n",
      "0 0 0 0 0 0 0 0 0 0 0 0 0 0 0 0 0 0 0 \n",
      "0 0 0 0 0 0 0 0 0 0 0 0 0 0 0 0 0 0 0 \n",
      "0 0 0 0 0 0 0 0 0 0 0 0 0 0 0 0 0 0 0 \n",
      "0 0 0 0 0 0 0 0 0 0 0 0 0 0 0 0 0 0 0 \n",
      "0 0 0 0 0 0 0 0 0 0 0 0 0 0 0 0 0 0 0 \n",
      "0 0 0 0 0 0 0 0 0 0 0 0 0 0 0 0 0 0 0 \n",
      "0 0 0 0 0 0 0 0 0 0 0 0 0 0 0 0 0 0 0 \n",
      "0 0 0 0 0 0 0 0 0 0 0 0 0 0 0 0 0 0 0 \n",
      "0 0 0 0 0 0 0 0 0 0 0 0 0 0 0 0 0 0 0 \n",
      "0 0 0 0 0 0 0 0 0 0 0 0 0 0 0 0 0 0 0 \n",
      "0 0 0 0 0 0 0 0 0 0 0 0 0 0 0 0 0 0 0 \n",
      "0 0 0 0 0 0 0 0 0 0 0 0 0 0 0 0 0 0 0 \n",
      "0 0 0 0 0 0 0 0 0 0 0 0 0 0 0 0 0 0 0 \n",
      "0 0 0 0 0 0 0 0 0 0 0 0 0 0 0 0 0 0 0 \n"
     ]
    }
   ],
   "source": [
    "# 1096\n",
    "\n",
    "n = int(input())\n",
    "table = [[0] * 19 for i in range(19)]\n",
    "\n",
    "for i in range(n):\n",
    "    a, b = map(int, input().split())\n",
    "    table[a-1][b-1] = 1\n",
    "for i in range(19):\n",
    "    for j in range(19):\n",
    "        print(table[i][j], end = \" \")\n",
    "    print()   "
   ]
  },
  {
   "cell_type": "code",
   "execution_count": 22,
   "metadata": {},
   "outputs": [
    {
     "name": "stdout",
     "output_type": "stream",
     "text": [
      "0 0 0 0 0 0 0 0 0 1 0 1 0 0 0 0 0 0 0\n",
      "0 0 0 0 0 0 0 0 0 1 0 1 0 0 0 0 0 0 0\n",
      "0 0 0 0 0 0 0 0 0 1 0 1 0 0 0 0 0 0 0\n",
      "0 0 0 0 0 0 0 0 0 1 0 1 0 0 0 0 0 0 0\n",
      "0 0 0 0 0 0 0 0 0 1 0 1 0 0 0 0 0 0 0\n",
      "0 0 0 0 0 0 0 0 0 1 0 1 0 0 0 0 0 0 0\n",
      "0 0 0 0 0 0 0 0 0 1 0 1 0 0 0 0 0 0 0\n",
      "0 0 0 0 0 0 0 0 0 1 0 1 0 0 0 0 0 0 0\n",
      "0 0 0 0 0 0 0 0 0 1 0 1 0 0 0 0 0 0 0\n",
      "1 1 1 1 1 1 1 1 1 1 1 1 1 1 1 1 1 1 1\n",
      "0 0 0 0 0 0 0 0 0 1 0 1 0 0 0 0 0 0 0\n",
      "1 1 1 1 1 1 1 1 1 1 1 1 1 1 1 1 1 1 1\n",
      "0 0 0 0 0 0 0 0 0 1 0 1 0 0 0 0 0 0 0\n",
      "0 0 0 0 0 0 0 0 0 1 0 1 0 0 0 0 0 0 0\n",
      "0 0 0 0 0 0 0 0 0 1 0 1 0 0 0 0 0 0 0\n",
      "0 0 0 0 0 0 0 0 0 1 0 1 0 0 0 0 0 0 0\n",
      "0 0 0 0 0 0 0 0 0 1 0 1 0 0 0 0 0 0 0\n",
      "0 0 0 0 0 0 0 0 0 1 0 1 0 0 0 0 0 0 0\n",
      "0 0 0 0 0 0 0 0 0 1 0 1 0 0 0 0 0 0 0\n",
      "2\n",
      "10 10\n",
      "12 12\n",
      "0 0 0 0 0 0 0 0 0 0 0 1 0 0 0 0 0 0 0 \n",
      "0 0 0 0 0 0 0 0 0 0 0 1 0 0 0 0 0 0 0 \n",
      "0 0 0 0 0 0 0 0 0 0 0 1 0 0 0 0 0 0 0 \n",
      "0 0 0 0 0 0 0 0 0 0 0 1 0 0 0 0 0 0 0 \n",
      "0 0 0 0 0 0 0 0 0 0 0 1 0 0 0 0 0 0 0 \n",
      "0 0 0 0 0 0 0 0 0 0 0 1 0 0 0 0 0 0 0 \n",
      "0 0 0 0 0 0 0 0 0 0 0 1 0 0 0 0 0 0 0 \n",
      "0 0 0 0 0 0 0 0 0 0 0 1 0 0 0 0 0 0 0 \n",
      "0 0 0 0 0 0 0 0 0 0 0 1 0 0 0 0 0 0 0 \n",
      "0 0 0 0 0 0 0 0 0 0 0 1 0 0 0 0 0 0 0 \n",
      "0 0 0 0 0 0 0 0 0 0 0 1 0 0 0 0 0 0 0 \n",
      "1 1 1 1 1 1 1 1 1 1 1 1 1 1 1 1 1 1 1 \n",
      "0 0 0 0 0 0 0 0 0 0 0 1 0 0 0 0 0 0 0 \n",
      "0 0 0 0 0 0 0 0 0 0 0 1 0 0 0 0 0 0 0 \n",
      "0 0 0 0 0 0 0 0 0 0 0 1 0 0 0 0 0 0 0 \n",
      "0 0 0 0 0 0 0 0 0 0 0 1 0 0 0 0 0 0 0 \n",
      "0 0 0 0 0 0 0 0 0 0 0 1 0 0 0 0 0 0 0 \n",
      "0 0 0 0 0 0 0 0 0 0 0 1 0 0 0 0 0 0 0 \n",
      "0 0 0 0 0 0 0 0 0 0 0 1 0 0 0 0 0 0 0 \n"
     ]
    }
   ],
   "source": [
    "# 1097\n",
    "\n",
    "table = [[0] * 19 for i in range(19)]\n",
    "\n",
    "for i in range(19):\n",
    "    lis = list(map(int, input().split()))\n",
    "    for j in range(19):\n",
    "        table[i][j] = lis[j] \n",
    "        \n",
    "n = int(input())\n",
    "\n",
    "nn = 0\n",
    "for _ in range(n):\n",
    "    a, b = map(int, input().split())\n",
    "    for i in range(19):\n",
    "        for j in range(19):\n",
    "            if i == a-1 or j == b-1:\n",
    "                table[i][j] = nn\n",
    "for i in range(19):\n",
    "    for j in range(19):\n",
    "        print(table[i][j], end = \" \")\n",
    "    print()   "
   ]
  },
  {
   "cell_type": "code",
   "execution_count": 23,
   "metadata": {},
   "outputs": [],
   "source": [
    "# 1098\n",
    "# 일어나서 하기\n"
   ]
  },
  {
   "cell_type": "code",
   "execution_count": null,
   "metadata": {},
   "outputs": [],
   "source": [
    "# 1099\n"
   ]
  }
 ],
 "metadata": {
  "kernelspec": {
   "display_name": "Python 3",
   "language": "python",
   "name": "python3"
  }
 },
 "nbformat": 4,
 "nbformat_minor": 2
}
