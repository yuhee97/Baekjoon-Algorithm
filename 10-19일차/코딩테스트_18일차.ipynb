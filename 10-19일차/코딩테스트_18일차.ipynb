{
 "cells": [
  {
   "cell_type": "markdown",
   "metadata": {},
   "source": [
    "### 2021-01-14 18일차"
   ]
  },
  {
   "cell_type": "code",
   "execution_count": 1,
   "metadata": {},
   "outputs": [],
   "source": [
    "# 오늘 할 일\n",
    "\n",
    "# 1. 이사 준비하기!!!\n",
    "# 2. 동빈나 강의 듣기 https://www.youtube.com/watch?v=gLkOkeRdd8g&list=PLRx0vPvlEmdBFBFOoK649FlEMouHISo8N&index=4\n",
    "# 3. 코딩테스트 문제 풀기\n",
    "\n",
    "# 파이팅 하자!! 할 수 있다!!!!"
   ]
  },
  {
   "cell_type": "markdown",
   "metadata": {},
   "source": [
    "##### 정렬 문제 1. 수 정렬하기 2 (실버 5)\n",
    "https://www.acmicpc.net/problem/2751"
   ]
  },
  {
   "cell_type": "code",
   "execution_count": 3,
   "metadata": {},
   "outputs": [
    {
     "name": "stdout",
     "output_type": "stream",
     "text": [
      "5\n",
      "5\n",
      "4\n",
      "3\n",
      "2\n",
      "1\n",
      "1\n",
      "2\n",
      "3\n",
      "4\n",
      "5\n"
     ]
    }
   ],
   "source": [
    "import sys\n",
    " \n",
    "N = int(sys.stdin.readline()) # input()\n",
    "lis = []\n",
    "\n",
    "for _ in range(N):\n",
    "    lis.append(int(sys.stdin.readline()))\n",
    "\n",
    "lis.sort()\n",
    "\n",
    "for i in lis:\n",
    "    print(i)"
   ]
  },
  {
   "cell_type": "markdown",
   "metadata": {},
   "source": [
    "##### 정렬 문제 2. 소트인사이드(실버 5)\n",
    "https://www.acmicpc.net/problem/1427"
   ]
  },
  {
   "cell_type": "code",
   "execution_count": 17,
   "metadata": {},
   "outputs": [
    {
     "name": "stdout",
     "output_type": "stream",
     "text": [
      "2432\n",
      "4322\n"
     ]
    }
   ],
   "source": [
    "num = input() # sys.stdin.readline() -> 개행문자가 포함되므로 input().\n",
    "lis = []\n",
    "\n",
    "for i in range(len(num)):\n",
    "    lis.append(int(num[i]))\n",
    "\n",
    "lis.sort(reverse = True)\n",
    "\n",
    "print(*lis, sep='')"
   ]
  },
  {
   "cell_type": "markdown",
   "metadata": {},
   "source": [
    "##### 정렬 문제 3. 수 정렬하기 3 (실버 5) 메모리를 신경쓰는 경우\n",
    "https://www.acmicpc.net/problem/10989"
   ]
  },
  {
   "cell_type": "code",
   "execution_count": 4,
   "metadata": {},
   "outputs": [
    {
     "name": "stdout",
     "output_type": "stream",
     "text": [
      "10\n",
      "5\n",
      "2\n",
      "3\n",
      "1\n",
      "4\n",
      "2\n",
      "3\n",
      "5\n",
      "1\n",
      "7\n",
      "1\n",
      "1\n",
      "2\n",
      "2\n",
      "3\n",
      "3\n",
      "4\n",
      "5\n",
      "5\n",
      "7\n"
     ]
    }
   ],
   "source": [
    "import sys\n",
    " \n",
    "N = int(sys.stdin.readline()) # input()\n",
    "lis = [0 for _ in range(10001)]\n",
    "\n",
    "for _ in range(N):\n",
    "    i = int(sys.stdin.readline())\n",
    "    lis[i] += 1\n",
    "\n",
    "for j in range(10001):\n",
    "    if lis[j] != 0:\n",
    "        for _ in range(lis[j]):\n",
    "            print(j)"
   ]
  },
  {
   "cell_type": "markdown",
   "metadata": {},
   "source": [
    "##### 정렬 문제 4. 회의실 배정 (실버 2)\n",
    "https://www.acmicpc.net/problem/1931"
   ]
  },
  {
   "cell_type": "code",
   "execution_count": 39,
   "metadata": {},
   "outputs": [
    {
     "name": "stdout",
     "output_type": "stream",
     "text": [
      "11\n",
      "1 4\n",
      "3 5\n",
      "0 6\n",
      "5 7\n",
      "3 8\n",
      "5 9\n",
      "6 10\n",
      "8 11\n",
      "8 12\n",
      "2 13\n",
      "12 14\n",
      "4\n"
     ]
    }
   ],
   "source": [
    "import sys\n",
    " \n",
    "N = int(sys.stdin.readline()) # input()\n",
    "lis = []\n",
    "\n",
    "for _ in range(N):\n",
    "    a, b = map(int, sys.stdin.readline().split())\n",
    "    lis.append([a, b,])\n",
    "\n",
    "lis = sorted(lis, key = lambda x: x[0])\n",
    "lis = sorted(lis, key = lambda x: x[1])\n",
    "\n",
    "count = 1; num = 0\n",
    "for i in range(1, N):\n",
    "    if lis[i][0]  >= lis[num][1] :\n",
    "        count += 1\n",
    "        num = i\n",
    "print(count)"
   ]
  },
  {
   "cell_type": "markdown",
   "metadata": {},
   "source": [
    "##### 정렬 문제 5. 단어 정렬 (실버 5)\n",
    "https://www.acmicpc.net/problem/1181"
   ]
  },
  {
   "cell_type": "code",
   "execution_count": 46,
   "metadata": {},
   "outputs": [
    {
     "name": "stdout",
     "output_type": "stream",
     "text": [
      "13\n",
      "but\n",
      "i\n",
      "wont\n",
      "hesitate\n",
      "no\n",
      "more\n",
      "no\n",
      "more\n",
      "it\n",
      "cannot\n",
      "wait\n",
      "im\n",
      "youes\n",
      "i\n",
      "im\n",
      "it\n",
      "no\n",
      "but\n",
      "more\n",
      "wait\n",
      "wont\n",
      "youes\n",
      "cannot\n",
      "hesitate\n"
     ]
    }
   ],
   "source": [
    "N = int(input()) \n",
    "lis = []\n",
    "\n",
    "for _ in range(N):\n",
    "    lis.append(input().strip())\n",
    "\n",
    "lis = list(set(lis))\n",
    "lis = sorted(lis, key = lambda x: (len(x), x))\n",
    "\n",
    "for i in lis:\n",
    "    print(i)"
   ]
  },
  {
   "cell_type": "markdown",
   "metadata": {},
   "source": [
    "##### 정렬 문제 6. 좌표 정렬하기 (실버 5)\n",
    "https://www.acmicpc.net/problem/11650"
   ]
  },
  {
   "cell_type": "code",
   "execution_count": 52,
   "metadata": {},
   "outputs": [
    {
     "name": "stdout",
     "output_type": "stream",
     "text": [
      "5\n",
      "3 4\n",
      "1 1\n",
      "1 -1\n",
      "2 2\n",
      "3 3\n",
      "1 -1\n",
      "1 1\n",
      "2 2\n",
      "3 3\n",
      "3 4\n"
     ]
    }
   ],
   "source": [
    "N = int(input()) \n",
    "lis = []\n",
    "\n",
    "for _ in range(N):\n",
    "    lis.append(list(map(int, input().split())))\n",
    "\n",
    "lis = sorted(lis, key = lambda x: (x[0], x[1]))\n",
    "\n",
    "for i in range(N):\n",
    "    print(*lis[i])"
   ]
  },
  {
   "cell_type": "markdown",
   "metadata": {},
   "source": [
    "##### 탐색 문제 1. 수 찾기 (실버: 4)\n",
    "https://www.acmicpc.net/problem/1920"
   ]
  },
  {
   "cell_type": "code",
   "execution_count": 87,
   "metadata": {},
   "outputs": [
    {
     "name": "stdout",
     "output_type": "stream",
     "text": [
      "5\n",
      "4 1 5 2 3\n",
      "5\n",
      "1 3 7 9 5\n",
      "1\n",
      "1\n",
      "0\n",
      "0\n",
      "1\n"
     ]
    }
   ],
   "source": [
    "from bisect import bisect_right, bisect_left\n",
    "import sys\n",
    "\n",
    "N = int(sys.stdin.readline())\n",
    "N_list = list(map(int, sys.stdin.readline().split()))\n",
    "M = int(sys.stdin.readline())\n",
    "M_list = list(map(int, sys.stdin.readline().split()))\n",
    "N_list.sort()\n",
    "\n",
    "def binary_search(array, target, start, end):\n",
    "    while start <= end:\n",
    "        mid = (start + end) // 2\n",
    "        if array[mid] == target:\n",
    "            return mid\n",
    "        elif array[mid] > target:\n",
    "            end = mid - 1\n",
    "        else:\n",
    "            start = mid + 1\n",
    "    return None\n",
    "\n",
    "for i in M_list:\n",
    "    result = binary_search(N_list, i, 0, N-1)\n",
    "    if  result == None:\n",
    "        print(0)\n",
    "    else:\n",
    "        print(1)\n",
    "        \n",
    "# 정렬을 까먹지 말자!!!!!!!!!!!!"
   ]
  }
 ],
 "metadata": {
  "kernelspec": {
   "display_name": "Python 3",
   "language": "python",
   "name": "python3"
  },
  "language_info": {
   "codemirror_mode": {
    "name": "ipython",
    "version": 3
   },
   "file_extension": ".py",
   "mimetype": "text/x-python",
   "name": "python",
   "nbconvert_exporter": "python",
   "pygments_lexer": "ipython3",
   "version": "3.7.1"
  }
 },
 "nbformat": 4,
 "nbformat_minor": 2
}
