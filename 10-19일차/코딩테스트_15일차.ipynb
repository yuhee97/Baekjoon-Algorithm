{
 "cells": [
  {
   "cell_type": "markdown",
   "metadata": {},
   "source": [
    "### 15일차 2021-01-08 "
   ]
  },
  {
   "cell_type": "code",
   "execution_count": 1,
   "metadata": {},
   "outputs": [],
   "source": [
    "# 오늘 할 일\n",
    "\n",
    "# 1. 프로그래밍언어론 강의 듣기\n",
    "# 2. 나동빈 유튜버 강의 듣기(dfs, bfs) / clear\n",
    "# 3. 생활코딩 강의 듣기(웹 어플리케이션) 20회까지 / clear\n",
    "# 4. 코딩테스트 문제 풀기 3개"
   ]
  },
  {
   "cell_type": "markdown",
   "metadata": {},
   "source": [
    "##### 그래프 탐색 문제 1: 미로 탐색(실버 1)\n",
    "https://www.acmicpc.net/problem/2178"
   ]
  },
  {
   "cell_type": "code",
   "execution_count": 8,
   "metadata": {},
   "outputs": [
    {
     "name": "stdout",
     "output_type": "stream",
     "text": [
      "4 6\n",
      "110110\n",
      "110110\n",
      "111111\n",
      "111101\n"
     ]
    },
    {
     "data": {
      "text/plain": [
       "9"
      ]
     },
     "execution_count": 8,
     "metadata": {},
     "output_type": "execute_result"
    }
   ],
   "source": [
    "import sys\n",
    "from collections import deque\n",
    "\n",
    "# N, M 입력 받기\n",
    "N, M = map(int, sys.stdin.readline().split())\n",
    "graph = [[] for i in range(N)]\n",
    "visited = [[0] * M for i in range(N)]\n",
    "\n",
    "# graph 행렬 만들기\n",
    "for i in range(N):\n",
    "    num = sys.stdin.readline()\n",
    "    for j in range(M):\n",
    "        graph[i].append(int(num[j]))\n",
    "# 북서남동\n",
    "dx = (-1, 0, 1, 0); dy = (0, -1, 0, 1)\n",
    "\n",
    "# bfs : 최단 거리\n",
    "def bfs(x, y):\n",
    "    queue = deque()\n",
    "    visited[x][y] = 1\n",
    "    queue.append((x, y))         \n",
    "    while queue:\n",
    "        x, y = queue.popleft()\n",
    "        for i in range(4):\n",
    "            nx = x + dx[i]\n",
    "            ny = y + dy[i]\n",
    "            if 0 <= nx < N and 0 <= ny < M:\n",
    "                if visited[nx][ny] == 0 and graph[nx][ny] == 1 :\n",
    "                    queue.append((nx, ny))\n",
    "                    visited[nx][ny] = visited[x][y] + 1\n",
    "                \n",
    "    return (visited[N-1][M-1])\n",
    "\n",
    "print(bfs(0, 0))"
   ]
  },
  {
   "cell_type": "markdown",
   "metadata": {},
   "source": [
    "##### 그래프 탐색 문제 2: 단지번호붙이기(실버 1)\n",
    "https://www.acmicpc.net/problem/2667"
   ]
  },
  {
   "cell_type": "code",
   "execution_count": 26,
   "metadata": {},
   "outputs": [
    {
     "name": "stdout",
     "output_type": "stream",
     "text": [
      "7\n",
      "0110100\n",
      "0110101\n",
      "1110101\n",
      "0000111\n",
      "0100000\n",
      "0111110\n",
      "0111000\n",
      "3\n",
      "7\n",
      "8\n",
      "9\n"
     ]
    }
   ],
   "source": [
    "import sys\n",
    "from collections import deque\n",
    "\n",
    "N = int(sys.stdin.readline()) \n",
    "graph = [[] for i in range(N)]\n",
    "visited = [[0] * N for i in range(N)]; sums=[]\n",
    "\n",
    "# graph 행렬 만들기\n",
    "for i in range(N):\n",
    "    num = sys.stdin.readline()\n",
    "    for j in range(N):\n",
    "        graph[i].append(int(num[j]))\n",
    "\n",
    "# 북서남동\n",
    "dx = [-1, 0, 1, 0]\n",
    "dy = [0, -1, 0, 1]\n",
    "        \n",
    "def bfs(x, y):\n",
    "    queue = deque()\n",
    "    for k in range(N):\n",
    "        for h in range(N):\n",
    "            if graph[k][h] == 1 and visited[k][h] == 0:\n",
    "                queue.append((k, h))\n",
    "                visited[k][h] = 1\n",
    "                c = 1\n",
    "                while queue:\n",
    "                    x, y = queue.popleft()\n",
    "                    for i in range(4):\n",
    "                        nx = x + dx[i]\n",
    "                        ny = y + dy[i]\n",
    "                        if 0 <= nx < N and 0 <= ny < N:\n",
    "                            if visited[nx][ny] == 0 and graph[nx][ny] == 1:\n",
    "                                queue.append((nx, ny))\n",
    "                                visited[nx][ny] = 1\n",
    "                                c += 1\n",
    "                sums.append(c)\n",
    "\n",
    "bfs(0, 0)\n",
    "print(len(sums))\n",
    "sums.sort()\n",
    "for i in sums:\n",
    "    print(i)"
   ]
  },
  {
   "cell_type": "markdown",
   "metadata": {},
   "source": [
    "##### 그래프 탐색 문제 3: 토마토(실버 1)\n",
    "https://www.acmicpc.net/problem/7576"
   ]
  },
  {
   "cell_type": "code",
   "execution_count": 66,
   "metadata": {},
   "outputs": [
    {
     "name": "stdout",
     "output_type": "stream",
     "text": [
      "6 4\n",
      "1 -1 0 0 0 0\n",
      "0 -1 0 0 0 0\n",
      "0 0 0 0 -1 0\n",
      "0 0 0 0 -1 1\n",
      "6\n"
     ]
    }
   ],
   "source": [
    "import sys\n",
    "from collections import deque\n",
    "\n",
    "# N(가로), M(세로) 입력 받기\n",
    "N, M = map(int, sys.stdin.readline().split())\n",
    "graph = []\n",
    "visited = [[0] * N for i in range(M)]\n",
    "\n",
    "# graph 행렬 만들기\n",
    "for i in range(M):\n",
    "    graph.append(list(map(int, sys.stdin.readline().split())))\n",
    "\n",
    "# 북서남동\n",
    "dx = [-1, 0, 1, 0]\n",
    "dy = [0, -1, 0, 1]\n",
    "\n",
    "def bfs(x, y):\n",
    "    queue = deque()\n",
    "    for i in range(M):\n",
    "        for j in range(N):\n",
    "            if visited[i][j] == 0 and graph[i][j] == 1:\n",
    "                visited[i][j] = 1\n",
    "                queue.append((i, j))\n",
    "    while queue:\n",
    "        x, y = queue.popleft()\n",
    "        for k in range(4):\n",
    "            nx = x + dx[k]\n",
    "            ny = y + dy[k]\n",
    "            if 0 <= nx < M and 0 <= ny < N and visited[nx][ny] == 0 and graph[nx][ny] == 0:\n",
    "                visited[nx][ny] = 1\n",
    "                graph[nx][ny] = graph[x][y] + 1\n",
    "                queue.append((nx, ny))\n",
    "                \n",
    "bfs(0, 0); exist = False; maxx = 0\n",
    "\n",
    "for i in range(M):\n",
    "    for j in range(N):\n",
    "        if graph[i][j] == 0:\n",
    "            exist = True\n",
    "        if maxx < graph[i][j]:\n",
    "            maxx = graph[i][j]\n",
    "\n",
    "if not exist:\n",
    "    if maxx == 1:\n",
    "        print(0)\n",
    "    else:\n",
    "        print(maxx - 1)\n",
    "else:\n",
    "    print(-1)"
   ]
  }
 ],
 "metadata": {
  "kernelspec": {
   "display_name": "Python 3",
   "language": "python",
   "name": "python3"
  },
  "language_info": {
   "codemirror_mode": {
    "name": "ipython",
    "version": 3
   },
   "file_extension": ".py",
   "mimetype": "text/x-python",
   "name": "python",
   "nbconvert_exporter": "python",
   "pygments_lexer": "ipython3",
   "version": "3.7.1"
  }
 },
 "nbformat": 4,
 "nbformat_minor": 2
}
