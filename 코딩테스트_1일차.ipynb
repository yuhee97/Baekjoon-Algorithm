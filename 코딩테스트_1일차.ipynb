{
 "cells": [
  {
   "cell_type": "markdown",
   "metadata": {},
   "source": [
    "### 1일차 2020-12-22"
   ]
  },
  {
   "cell_type": "markdown",
   "metadata": {},
   "source": [
    "##### 1~N까지의 합을 구해보자"
   ]
  },
  {
   "cell_type": "code",
   "execution_count": 5,
   "metadata": {},
   "outputs": [
    {
     "name": "stdout",
     "output_type": "stream",
     "text": [
      "5\n"
     ]
    },
    {
     "data": {
      "text/plain": [
       "15"
      ]
     },
     "execution_count": 5,
     "metadata": {},
     "output_type": "execute_result"
    }
   ],
   "source": [
    "N = input()\n",
    "N = int(N)\n",
    "sum = 0\n",
    "for i in range(1, N+1):\n",
    "    sum = sum + i\n",
    "sum"
   ]
  },
  {
   "cell_type": "markdown",
   "metadata": {},
   "source": [
    "##### 두 수의 합을 구해보자"
   ]
  },
  {
   "cell_type": "code",
   "execution_count": 12,
   "metadata": {},
   "outputs": [
    {
     "name": "stdout",
     "output_type": "stream",
     "text": [
      "10\n",
      "15\n",
      "25\n"
     ]
    }
   ],
   "source": [
    "a = int(input())\n",
    "b = int(input())\n",
    "sum = 0\n",
    "def asumb(a, b):\n",
    "    sum = a + b\n",
    "    print(sum)\n",
    "asumb(a, b)"
   ]
  },
  {
   "cell_type": "markdown",
   "metadata": {},
   "source": [
    "###### 문자열 변환 (소문자 > 대문자)"
   ]
  },
  {
   "cell_type": "code",
   "execution_count": 13,
   "metadata": {},
   "outputs": [
    {
     "name": "stdout",
     "output_type": "stream",
     "text": [
      "apple\n",
      "APPLE\n"
     ]
    }
   ],
   "source": [
    "str = input()\n",
    "\n",
    "def upp(str):\n",
    "    print(str.upper())\n",
    "upp(str)\n",
    "\n",
    "# lower(): 대문자 > 소문자"
   ]
  },
  {
   "cell_type": "markdown",
   "metadata": {},
   "source": [
    "### queue"
   ]
  },
  {
   "cell_type": "markdown",
   "metadata": {},
   "source": [
    "###### 큐(queue)은 선형 구조의 알고리즘으로 FIFO(First In First Out) 선입 선출의 구조를 가지고 있다.\n",
    "###### 큐에서 자료를 넣는 것을 푸쉬(push), 자료를 꺼내는 것을 팝(pop)이라 한다.\n",
    "##### python에서 'deque' library를 사용해서 간단하게 queue를 구현할 수 있다."
   ]
  },
  {
   "cell_type": "code",
   "execution_count": 28,
   "metadata": {},
   "outputs": [],
   "source": [
    "from collections import deque"
   ]
  },
  {
   "cell_type": "code",
   "execution_count": 29,
   "metadata": {},
   "outputs": [
    {
     "name": "stdout",
     "output_type": "stream",
     "text": [
      "deque([1, 2, 3])\n",
      "1\n",
      "2\n",
      "3\n"
     ]
    }
   ],
   "source": [
    "queue_list = deque()\n",
    "# deque의 내장 함수 append() (=push): 데이터를 큐에 넣기\n",
    "queue_list.append(1)\n",
    "queue_list.append(2)\n",
    "queue_list.append(3)\n",
    "print(queue_list)\n",
    "# deque의 내장 함수 popleft() (=pop):데이터를 큐에서 꺼내기(왼쪽)\n",
    "print(queue_list.popleft())\n",
    "print(queue_list.popleft())\n",
    "print(queue_list.popleft())\n",
    "\n",
    "# appendleft() 왼쪽으로 데이터 추가하기\n",
    "# pop() 동일 기능"
   ]
  },
  {
   "cell_type": "markdown",
   "metadata": {},
   "source": [
    "### stack"
   ]
  },
  {
   "cell_type": "markdown",
   "metadata": {},
   "source": [
    "###### 스택(stack)은 선형 구조의 알고리즘으로 LIFO(Last In First Out) 후입 선출의 구조를 가지고 있다.\n",
    "###### 스택에서 자료를 넣는 것을 푸쉬(push), 자료를 꺼내는 것을 팝(pop)이라 한다.\n",
    "##### python에서는 stack을 기본 구조인 리스트로 사용한다."
   ]
  },
  {
   "cell_type": "code",
   "execution_count": 21,
   "metadata": {},
   "outputs": [
    {
     "name": "stdout",
     "output_type": "stream",
     "text": [
      "[1, 2, 3]\n",
      "3\n",
      "2\n",
      "1\n"
     ]
    }
   ],
   "source": [
    "stack_list = []\n",
    "# 리스트의 기본 함수 append() (=push) : 데이터를 스택에 넣기\n",
    "stack_list.append(1)\n",
    "stack_list.append(2)\n",
    "stack_list.append(3)\n",
    "print(stack_list)\n",
    "# 리스트의 기본 함수 pop() : 데이터를 스택에서 꺼내기(오른쪽)\n",
    "print(stack_list.pop())\n",
    "print(stack_list.pop())\n",
    "print(stack_list.pop())"
   ]
  },
  {
   "cell_type": "markdown",
   "metadata": {},
   "source": [
    "### sort()"
   ]
  },
  {
   "cell_type": "code",
   "execution_count": 33,
   "metadata": {},
   "outputs": [],
   "source": [
    "# .sort()는 리스트명.sort() 형식으로 사용하며 리스트 원본 값을 직접 변경한다."
   ]
  },
  {
   "cell_type": "code",
   "execution_count": 52,
   "metadata": {},
   "outputs": [
    {
     "name": "stdout",
     "output_type": "stream",
     "text": [
      "[1, 3, 4, 2, 6, 8, 9, 44, 2, 52, 9]\n",
      "[1, 2, 2, 3, 4, 6, 8, 9, 9, 44, 52]\n",
      "[52, 44, 9, 9, 8, 6, 4, 3, 2, 2, 1]\n"
     ]
    }
   ],
   "source": [
    "sort_list = [1,3,4,2,6,8,9,44,2,52,9]\n",
    "print(sort_list)\n",
    "sort_list.sort()\n",
    "print(sort_list)\n",
    "# 내림 & 올림 : reverse 이용\n",
    "sort_list.sort(reverse = True)\n",
    "print(sort_list)"
   ]
  },
  {
   "cell_type": "markdown",
   "metadata": {},
   "source": [
    "### sorted()"
   ]
  },
  {
   "cell_type": "code",
   "execution_count": null,
   "metadata": {},
   "outputs": [],
   "source": [
    "# sorted()는 sorted(리스트명) 형식으로 사용하며 리스트 원본 값을 그대로 두고 정렬된 값을 반환한다."
   ]
  },
  {
   "cell_type": "code",
   "execution_count": 53,
   "metadata": {},
   "outputs": [
    {
     "name": "stdout",
     "output_type": "stream",
     "text": [
      "[1, 3, 4, 2, 6, 8, 9, 44, 2, 52, 9]\n",
      "[1, 2, 2, 3, 4, 6, 8, 9, 9, 44, 52]\n",
      "[52, 44, 9, 9, 8, 6, 4, 3, 2, 2, 1]\n"
     ]
    }
   ],
   "source": [
    "sorted_list = [1,3,4,2,6,8,9,44,2,52,9]\n",
    "print(sorted_list)\n",
    "print(sorted(sorted_list))\n",
    "# 내림 & 올림 : reverse 이용\n",
    "print(sorted(sorted_list, reverse = True))"
   ]
  },
  {
   "cell_type": "markdown",
   "metadata": {},
   "source": [
    "### Key Functions"
   ]
  },
  {
   "cell_type": "code",
   "execution_count": 39,
   "metadata": {},
   "outputs": [
    {
     "data": {
      "text/plain": [
       "[(-1, -5), (0, 1), (0, 7), (3, 1), (3, 2), (4, 5), (6, 3)]"
      ]
     },
     "execution_count": 39,
     "metadata": {},
     "output_type": "execute_result"
    }
   ],
   "source": [
    "key_list = [(4, 5),(0, 1),(3, 1),(-1,-5),(3, 2),(6,3),(0, 7)]\n",
    "sorted(key_list)"
   ]
  },
  {
   "cell_type": "code",
   "execution_count": 42,
   "metadata": {},
   "outputs": [
    {
     "data": {
      "text/plain": [
       "[(-1, -5), (0, 1), (0, 7), (3, 1), (3, 2), (4, 5), (6, 3)]"
      ]
     },
     "execution_count": 42,
     "metadata": {},
     "output_type": "execute_result"
    }
   ],
   "source": [
    "# 정렬 기준 x[0]\n",
    "sorted(key_list, key = lambda x : x[0])"
   ]
  },
  {
   "cell_type": "code",
   "execution_count": 43,
   "metadata": {},
   "outputs": [
    {
     "data": {
      "text/plain": [
       "[(-1, -5), (0, 1), (3, 1), (3, 2), (6, 3), (4, 5), (0, 7)]"
      ]
     },
     "execution_count": 43,
     "metadata": {},
     "output_type": "execute_result"
    }
   ],
   "source": [
    "# 정렬 기준 x[1]\n",
    "sorted(key_list, key = lambda x : x[1])"
   ]
  },
  {
   "cell_type": "markdown",
   "metadata": {},
   "source": [
    "##### 완주하지 못한 선수\n",
    "https://programmers.co.kr/learn/courses/30/lessons/42576?language=python3"
   ]
  },
  {
   "cell_type": "code",
   "execution_count": 58,
   "metadata": {},
   "outputs": [],
   "source": [
    "def solution(participant, completion):\n",
    "    answer = ''\n",
    "    participant.sort()\n",
    "    completion.sort()\n",
    "    for i in range(0, len(completion)):\n",
    "        if completion[i] != participant[i]:\n",
    "            answer = participant[i]\n",
    "            break\n",
    "        answer = participant[-1]\n",
    "    return answer\n",
    "# .remove 사용하면 n^2 되버려서 효율성 초과됨... 기억하기!"
   ]
  },
  {
   "cell_type": "code",
   "execution_count": 56,
   "metadata": {},
   "outputs": [],
   "source": [
    "participant = ['yuhee', 'chaeyoung']\n",
    "completion = ['chaeyoung']"
   ]
  },
  {
   "cell_type": "code",
   "execution_count": 59,
   "metadata": {},
   "outputs": [
    {
     "data": {
      "text/plain": [
       "'yuhee'"
      ]
     },
     "execution_count": 59,
     "metadata": {},
     "output_type": "execute_result"
    }
   ],
   "source": [
    "solution(participant, completion)"
   ]
  }
 ],
 "metadata": {
  "kernelspec": {
   "display_name": "Python 3",
   "language": "python",
   "name": "python3"
  },
  "language_info": {
   "codemirror_mode": {
    "name": "ipython",
    "version": 3
   },
   "file_extension": ".py",
   "mimetype": "text/x-python",
   "name": "python",
   "nbconvert_exporter": "python",
   "pygments_lexer": "ipython3",
   "version": "3.7.1"
  }
 },
 "nbformat": 4,
 "nbformat_minor": 2
}
