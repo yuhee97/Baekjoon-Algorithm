{
 "cells": [
  {
   "cell_type": "markdown",
   "metadata": {},
   "source": [
    "### 2021-01-29 29일차"
   ]
  },
  {
   "cell_type": "markdown",
   "metadata": {},
   "source": [
    "##### 문제 1: 친구(실버 1)\n",
    "https://www.acmicpc.net/problem/1058"
   ]
  },
  {
   "cell_type": "code",
   "execution_count": 21,
   "metadata": {},
   "outputs": [
    {
     "name": "stdout",
     "output_type": "stream",
     "text": [
      "3\n",
      "NYY\n",
      "YNY\n",
      "YYN\n",
      "2\n"
     ]
    }
   ],
   "source": [
    "import sys\n",
    "from collections import deque\n",
    "\n",
    "N = int(input())\n",
    "graph = [[] for _ in range(N)]\n",
    "c_list = []\n",
    "\n",
    "for i in range(N):\n",
    "    strr = list(input().strip())\n",
    "    for j in range(len(strr)):\n",
    "        if strr[j] == 'Y':\n",
    "            graph[i].append(j)\n",
    "        else:\n",
    "            continue\n",
    "\n",
    "def bfs(start):\n",
    "    visited = [0] * N\n",
    "    queue = deque()\n",
    "    queue.append(start)\n",
    "    visited[start] = 1\n",
    "    count = 0\n",
    "    for _ in range(len(graph[start]) + 1):\n",
    "        x = queue.popleft()\n",
    "        for i in graph[x]:\n",
    "            if visited[i] == 0:\n",
    "                queue.append(i)\n",
    "                visited[i] = 1\n",
    "                count += 1\n",
    "    return count\n",
    "\n",
    "for i in range(N):\n",
    "    c_list.append(bfs(i))\n",
    "    \n",
    "print(max(c_list))"
   ]
  },
  {
   "cell_type": "markdown",
   "metadata": {},
   "source": [
    "##### 문제 2: 리모컨(골드 5)\n",
    "https://www.acmicpc.net/problem/1107"
   ]
  },
  {
   "cell_type": "code",
   "execution_count": 44,
   "metadata": {},
   "outputs": [
    {
     "name": "stdout",
     "output_type": "stream",
     "text": [
      "500000\n",
      "8\n",
      "0 2 3 4 6 7 8 9\n",
      "11117\n"
     ]
    }
   ],
   "source": [
    "import sys\n",
    "\n",
    "N = int(sys.stdin.readline()); M = int(sys.stdin.readline()) # input()\n",
    "start = 100; result = abs(N - start) # +, - 로 가능\n",
    "but_x = list(sys.stdin.readline().strip())\n",
    "\n",
    "def check(n):\n",
    "    strr = list(str(n))\n",
    "    for i in strr:\n",
    "        if i in but_x:\n",
    "            return -1\n",
    "    return 1\n",
    "    \n",
    "for j in range(1000001):\n",
    "    if check(j) == 1: # 버튼으로 만들어질 수 있는 채널일 경우\n",
    "        result = min(result, len(str(j)) + abs(N-j)) # 두번째 값은 만들어질 수 있는 채널에서 +, - 로 이동한 횟수를 의미함.\n",
    "        \n",
    "print(result)"
   ]
  },
  {
   "cell_type": "markdown",
   "metadata": {},
   "source": [
    "##### 문제 3: 나이트의 이동(실버 2)\n",
    "https://www.acmicpc.net/problem/7562"
   ]
  },
  {
   "cell_type": "code",
   "execution_count": 88,
   "metadata": {},
   "outputs": [
    {
     "name": "stdout",
     "output_type": "stream",
     "text": [
      "3\n",
      "8\n",
      "0 0\n",
      "7 0\n",
      "5\n",
      "100\n",
      "0 0\n",
      "30 50\n",
      "28\n",
      "10\n",
      "1 1\n",
      "1 1\n",
      "0\n"
     ]
    }
   ],
   "source": [
    "import sys\n",
    "from collections import deque\n",
    "\n",
    "N = int(input())\n",
    "dx = [2, 1, 2, 1, -1, -2, -1, -2]\n",
    "dy = [-1, -2, 1, 2, -2, -1, 2, 1]\n",
    "\n",
    "def bfs(graph, I, x, y):\n",
    "    queue = deque()\n",
    "    visited = [[0] * I for _ in range(I)]\n",
    "    queue.append((x, y))\n",
    "    visited[x][y] = 1\n",
    "    while queue:\n",
    "        xx, yy = queue.popleft()\n",
    "        for i in range(8):\n",
    "            nx = xx + dx[i]\n",
    "            ny = yy + dy[i]\n",
    "            if 0 <= nx < I and 0 <= ny < I and visited[nx][ny] == 0:\n",
    "                if graph[nx][ny] == 1:\n",
    "                    return visited[xx][yy]\n",
    "                else:\n",
    "                    visited[nx][ny] = visited[xx][yy] + 1\n",
    "                    queue.append((nx, ny))\n",
    "                \n",
    "\n",
    "for i in range(N):\n",
    "    I = int(input())\n",
    "    graph = [[0] * I for _ in range(I)]\n",
    "    x, y = map(int, input().split())\n",
    "    graph[x][y] = 1\n",
    "    nx, ny = map(int, input().split())\n",
    "    graph[nx][ny] = 1\n",
    "    \n",
    "    if x == nx and y == ny:\n",
    "        print(0)\n",
    "        continue\n",
    "        \n",
    "    print(bfs(graph, I, x, y)) "
   ]
  },
  {
   "cell_type": "markdown",
   "metadata": {},
   "source": [
    "##### 문제 4: 한수(실버 4)\n",
    "https://www.acmicpc.net/problem/1065"
   ]
  },
  {
   "cell_type": "code",
   "execution_count": 76,
   "metadata": {},
   "outputs": [
    {
     "name": "stdout",
     "output_type": "stream",
     "text": [
      "1000\n",
      "144\n"
     ]
    }
   ],
   "source": [
    "N = int(input()); count = 0\n",
    "\n",
    "for i in range(1, N+1):\n",
    "    if i < 100:\n",
    "        count += 1\n",
    "    else:\n",
    "        strr = str(i)\n",
    "        if int(strr[2]) - int(strr[1]) == int(strr[1]) - int(strr[0]):\n",
    "            count += 1\n",
    "            \n",
    "print(count)            "
   ]
  },
  {
   "cell_type": "markdown",
   "metadata": {},
   "source": [
    "##### 문제 5: 블랙잭 (브론즈 2)\n",
    "https://www.acmicpc.net/problem/2798"
   ]
  },
  {
   "cell_type": "code",
   "execution_count": 66,
   "metadata": {},
   "outputs": [
    {
     "name": "stdout",
     "output_type": "stream",
     "text": [
      "10 500\n",
      "93 181 245 214 315 36 185 138 216 295\n",
      "497\n"
     ]
    }
   ],
   "source": [
    "import sys\n",
    "from itertools import combinations\n",
    "\n",
    "N, M = map(int, input().split()) # sys.stdin.readline()\n",
    "num = list(map(int, input().split()))\n",
    "\n",
    "combis = list(combinations(num, 3)); SUM = 0\n",
    "\n",
    "for combi in combis:\n",
    "    if SUM < sum(combi) <= M:\n",
    "        SUM = sum(combi)\n",
    "\n",
    "print(SUM)"
   ]
  },
  {
   "cell_type": "markdown",
   "metadata": {},
   "source": [
    "##### 문제 6: 일곱 난쟁이(브론즈 2)\n",
    "https://www.acmicpc.net/problem/2309"
   ]
  },
  {
   "cell_type": "code",
   "execution_count": 63,
   "metadata": {},
   "outputs": [
    {
     "name": "stdout",
     "output_type": "stream",
     "text": [
      "99\n",
      "100\n",
      "1\n",
      "2\n",
      "3\n",
      "4\n",
      "5\n",
      "6\n",
      "79\n",
      "1\n",
      "2\n",
      "3\n",
      "4\n",
      "5\n",
      "6\n",
      "79\n"
     ]
    }
   ],
   "source": [
    "import sys\n",
    "from itertools import combinations\n",
    "\n",
    "height = []\n",
    "\n",
    "for _ in range(9):\n",
    "    height.append(int(input())) # sys.stdin.readline()\n",
    "\n",
    "height.sort()\n",
    "combis = list(combinations(height, 7))\n",
    "\n",
    "for combi in combis:\n",
    "    Sum = 0\n",
    "    for i in combi:\n",
    "        Sum += i\n",
    "    if Sum == 100:\n",
    "        for j in range(7):\n",
    "            print(combi[j])\n",
    "        break"
   ]
  },
  {
   "cell_type": "markdown",
   "metadata": {},
   "source": [
    "##### 문제 7: 분해합(브론즈 2)\n",
    "https://www.acmicpc.net/problem/2231"
   ]
  },
  {
   "cell_type": "code",
   "execution_count": 48,
   "metadata": {},
   "outputs": [
    {
     "name": "stdout",
     "output_type": "stream",
     "text": [
      "0\n",
      "0\n"
     ]
    }
   ],
   "source": [
    "N = int(input()); exist = False\n",
    "\n",
    "for i in range(1, N+1):\n",
    "    value = str(i); Sum = i;\n",
    "    for j in range(len(value)):\n",
    "        Sum += int(value[j])\n",
    "    if Sum == N:\n",
    "        exist = True\n",
    "        print(i)\n",
    "        break\n",
    "\n",
    "if not exist:\n",
    "    print(0)"
   ]
  },
  {
   "cell_type": "code",
   "execution_count": 50,
   "metadata": {},
   "outputs": [
    {
     "name": "stdout",
     "output_type": "stream",
     "text": [
      "216\n",
      "198\n"
     ]
    }
   ],
   "source": [
    "import sys\n",
    "\n",
    "N = int(sys.stdin.readline()); exist = False # sys.stdin.readline()\n",
    "\n",
    "for i in range(1, N+1):\n",
    "    if N == sum(map(int, str(i))) + i:\n",
    "        exist = True\n",
    "        print(i)\n",
    "        break\n",
    "        \n",
    "if not exist:\n",
    "    print(0)"
   ]
  }
 ],
 "metadata": {
  "kernelspec": {
   "display_name": "Python 3",
   "language": "python",
   "name": "python3"
  },
  "language_info": {
   "codemirror_mode": {
    "name": "ipython",
    "version": 3
   },
   "file_extension": ".py",
   "mimetype": "text/x-python",
   "name": "python",
   "nbconvert_exporter": "python",
   "pygments_lexer": "ipython3",
   "version": "3.7.1"
  }
 },
 "nbformat": 4,
 "nbformat_minor": 2
}
