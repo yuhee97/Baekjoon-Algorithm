{
 "cells": [
  {
   "cell_type": "markdown",
   "metadata": {},
   "source": [
    "### 2021-01-25 26일차"
   ]
  },
  {
   "cell_type": "code",
   "execution_count": 1,
   "metadata": {},
   "outputs": [],
   "source": [
    "# 오늘 할 일\n",
    "\n",
    "# 1. 코딩테스트 문제 풀기 / 완료\n",
    "# 2. 데이터 분석 과제 / ing\n",
    "# 3. 안드로이드 프로그래밍 강의 듣기\n",
    "# 4. 제이콥 자소서 강의 듣기 / 완료"
   ]
  },
  {
   "cell_type": "markdown",
   "metadata": {},
   "source": [
    "##### 문제 1: 나무 자르기(실버 3)\n",
    "https://www.acmicpc.net/problem/2805"
   ]
  },
  {
   "cell_type": "code",
   "execution_count": 14,
   "metadata": {},
   "outputs": [
    {
     "name": "stdout",
     "output_type": "stream",
     "text": [
      "4 7\n",
      "20 15 10 17\n",
      "15\n"
     ]
    }
   ],
   "source": [
    "import sys \n",
    "\n",
    "N, M = map(int, input().split())\n",
    "tree_h = list(map(int, input().split()))\n",
    "\n",
    "left = 1; result = 0\n",
    "right = max(tree_h)\n",
    "\n",
    "while left <= right:\n",
    "    \n",
    "    mid = (left +  right) // 2\n",
    "    v = 0\n",
    "    \n",
    "    for tree in tree_h:\n",
    "        if tree < mid:\n",
    "            continue\n",
    "        v += (tree - mid)\n",
    "        if v >= M:\n",
    "            break\n",
    "    \n",
    "    if v >= M:\n",
    "        left = mid + 1\n",
    "        result = mid\n",
    "    else:\n",
    "        right = mid - 1\n",
    "        \n",
    "print(result)"
   ]
  },
  {
   "cell_type": "markdown",
   "metadata": {},
   "source": [
    "##### 문제 2: 아기상어(골드 4)\n",
    "https://www.acmicpc.net/problem/16236"
   ]
  },
  {
   "cell_type": "code",
   "execution_count": 7,
   "metadata": {},
   "outputs": [
    {
     "name": "stdout",
     "output_type": "stream",
     "text": [
      "6\n",
      "5 4 3 2 3 4\n",
      "4 3 2 3 4 5\n",
      "3 2 9 5 6 6\n",
      "2 1 2 3 4 5\n",
      "3 2 1 6 5 4\n",
      "6 6 6 6 6 6\n",
      "60\n"
     ]
    }
   ],
   "source": [
    "import sys\n",
    "from collections import deque\n",
    "\n",
    "N = int(input())\n",
    "graph = []; shark = 2;\n",
    "dx = [1, 0, -1, 0]; dy = [0, -1, 0, 1]\n",
    "\n",
    "\n",
    "for _ in range(N):\n",
    "    graph.append(list(map(int, input().split())))\n",
    "\n",
    "for i in range(N):\n",
    "    for j in range(N):\n",
    "        if graph[i][j] == 9:\n",
    "            start_x = i; start_y = j\n",
    "            graph[start_x][start_y] = 0\n",
    "            break\n",
    "\n",
    "    \n",
    "def bfs(start_x, start_y):\n",
    "    distance = [[-1] * N for _ in range(N)]\n",
    "    queue = deque()\n",
    "    queue.append((start_x, start_y))\n",
    "    distance[start_x][start_y] = 0\n",
    "    while queue:\n",
    "        x, y = queue.popleft()\n",
    "        for i in range(4):\n",
    "            nx = x + dx[i]\n",
    "            ny = y + dy[i]\n",
    "            if 0 <= nx < N and 0 <= ny < N and distance[nx][ny] == -1 and graph[nx][ny] <= shark:\n",
    "                distance[nx][ny] = distance[x][y] + 1\n",
    "                queue.append((nx, ny))\n",
    "    return distance\n",
    "\n",
    "def fish(distance):\n",
    "    x = 0; y = 0; Min = N**N\n",
    "    for i in range(N):\n",
    "        for j in range(N):\n",
    "            if distance[i][j] != -1 and 1 <= graph[i][j] < shark:\n",
    "                if distance[i][j] < Min:\n",
    "                    x, y = i, j\n",
    "                    Min = distance[i][j]\n",
    "    if Min == N**N:\n",
    "        return -1\n",
    "    else:\n",
    "        return x, y, Min\n",
    "                    \n",
    "time = 0\n",
    "ate_fish = 0\n",
    "\n",
    "while True:\n",
    "    v = fish(bfs(start_x, start_y))\n",
    "    if v == -1:\n",
    "        print(time)\n",
    "        break\n",
    "    start_x, start_y = v[0], v[1]\n",
    "    time += v[2]\n",
    "    graph[start_x][start_y] = 0\n",
    "    ate_fish += 1\n",
    "    if shark <= ate_fish:\n",
    "        shark += 1\n",
    "        ate_fish = 0"
   ]
  }
 ],
 "metadata": {
  "kernelspec": {
   "display_name": "Python 3",
   "language": "python",
   "name": "python3"
  },
  "language_info": {
   "codemirror_mode": {
    "name": "ipython",
    "version": 3
   },
   "file_extension": ".py",
   "mimetype": "text/x-python",
   "name": "python",
   "nbconvert_exporter": "python",
   "pygments_lexer": "ipython3",
   "version": "3.7.1"
  }
 },
 "nbformat": 4,
 "nbformat_minor": 2
}
