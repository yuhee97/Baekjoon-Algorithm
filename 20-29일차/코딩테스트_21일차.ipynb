{
 "cells": [
  {
   "cell_type": "markdown",
   "metadata": {},
   "source": [
    "### 2021-01-20 21일차"
   ]
  },
  {
   "cell_type": "code",
   "execution_count": 1,
   "metadata": {},
   "outputs": [],
   "source": [
    "# 오늘 할 일\n",
    "\n",
    "# 1. 동빈나 마지막 강의 듣기(다익스트라) / clear\n",
    "# 2. 다익스트라 코딩테스트 문제 3개 풀기 / clear"
   ]
  },
  {
   "cell_type": "markdown",
   "metadata": {},
   "source": [
    "##### 다익스트라 문제 1: 특정 거리의 도시 찾기(실버 2)\n",
    "https://www.acmicpc.net/problem/18352"
   ]
  },
  {
   "cell_type": "code",
   "execution_count": 14,
   "metadata": {},
   "outputs": [
    {
     "name": "stdout",
     "output_type": "stream",
     "text": [
      "4 4 1 1\n",
      "1 2\n",
      "1 3\n",
      "2 3\n",
      "2 4\n",
      "2\n",
      "3\n"
     ]
    }
   ],
   "source": [
    "import sys\n",
    "import heapq\n",
    "\n",
    "# 도시의 개수 N, 도로의 개수 M, 거리 정보 K, 출발 도시의 번호 X\n",
    "N, M, K, X = map(int, input().split()) # sys.stdin.readline()\n",
    "INF = int(1e9)\n",
    "graph = [[] for _ in range(N+1)]\n",
    "distance = [INF] * (N+1)\n",
    "\n",
    "for _ in range(M):\n",
    "    a, b = map(int, input().split())\n",
    "    graph[a].append((b, 1))\n",
    "\n",
    "def dijkstra(start):\n",
    "    q = []\n",
    "    heapq.heappush(q, (0, start))\n",
    "    distance[start] = 0\n",
    "    while q:\n",
    "        dist, now = heapq.heappop(q)\n",
    "        if distance[now] < dist:\n",
    "            continue\n",
    "        for i in graph[now]:\n",
    "            cost = dist + i[1] # i[1]는 현재 노드까지 최단 거리\n",
    "            if cost < distance[i[0]]:\n",
    "                distance[i[0]] = cost\n",
    "                heapq.heappush(q, (cost, i[0])) # i[0]는 도착 노드\n",
    "            \n",
    "dijkstra(X)\n",
    "exist = False\n",
    "for k in range(1, N+1):\n",
    "    if distance[k] == K:\n",
    "        exist = True\n",
    "        print(k)\n",
    "if not exist:\n",
    "    print(-1)"
   ]
  },
  {
   "cell_type": "markdown",
   "metadata": {},
   "source": [
    "##### 다익스트라 문제 2: 최단 경로(골드 5)\n",
    "https://www.acmicpc.net/problem/1753"
   ]
  },
  {
   "cell_type": "code",
   "execution_count": 15,
   "metadata": {},
   "outputs": [
    {
     "name": "stdout",
     "output_type": "stream",
     "text": [
      "5 6\n",
      "1\n",
      "5 1 1\n",
      "1 2 2\n",
      "1 3 3\n",
      "2 3 4\n",
      "2 4 5\n",
      "3 4 6\n",
      "0\n",
      "2\n",
      "3\n",
      "7\n",
      "INF\n"
     ]
    }
   ],
   "source": [
    "import sys\n",
    "import heapq\n",
    "\n",
    "INF = int(1e9)\n",
    "V, E = map(int, input().split()) # sys.stdin.readline()\n",
    "K = int(input()) \n",
    "distance = [INF] * (V+1)\n",
    "graph = [[] for _ in range(V+1)]\n",
    "\n",
    "for _ in range(E):\n",
    "    u, v, w = map(int, input().split())\n",
    "    graph[u].append((v, w))\n",
    "\n",
    "def dijkstra(start):\n",
    "    q = []\n",
    "    heapq.heappush(q, (0, start))\n",
    "    distance[start] = 0\n",
    "    while q:\n",
    "        dist, now = heapq.heappop(q)\n",
    "        if distance[now] < dist:\n",
    "            continue\n",
    "        for i in graph[now]:\n",
    "            cost = distance[now] + i[1]\n",
    "            if cost < distance[i[0]]:\n",
    "                distance[i[0]] = cost\n",
    "                heapq.heappush(q, (cost, i[0]))\n",
    "\n",
    "dijkstra(K)\n",
    "for x in range(1, V+1):\n",
    "    if distance[x] == INF:\n",
    "        print(\"INF\")\n",
    "        continue\n",
    "    print(distance[x])"
   ]
  },
  {
   "cell_type": "markdown",
   "metadata": {},
   "source": [
    "##### 다익스트라 문제 3: 최단 경로(골드 5)\n",
    "https://www.acmicpc.net/problem/1916"
   ]
  },
  {
   "cell_type": "code",
   "execution_count": 17,
   "metadata": {},
   "outputs": [
    {
     "name": "stdout",
     "output_type": "stream",
     "text": [
      "5\n",
      "8\n",
      "1 2 2\n",
      "1 3 3\n",
      "1 4 1\n",
      "1 5 10\n",
      "2 4 2\n",
      "3 4 1\n",
      "3 5 1\n",
      "4 5 3\n",
      "1 5\n",
      "4\n"
     ]
    }
   ],
   "source": [
    "import sys\n",
    "import heapq\n",
    "\n",
    "INF = int(1e9)\n",
    "N = int(input()); M = int(input()) # sys.stdin.readline()\n",
    "graph = [[] for _ in range(N+1)]\n",
    "distance = [INF] * (N+1)\n",
    "\n",
    "for _ in range(M):\n",
    "    a, b, c = map(int, input().split())\n",
    "    graph[a].append((b, c))\n",
    "    \n",
    "def dijkstra(start):\n",
    "    q = []\n",
    "    heapq.heappush(q, (0, start))\n",
    "    distance[start] = 0\n",
    "    while q:\n",
    "        dist, now = heapq.heappop(q)\n",
    "        if distance[now] < dist:\n",
    "            continue\n",
    "        for i in graph[now]:\n",
    "            cost = distance[now] + i[1]\n",
    "            if cost < distance[i[0]]:\n",
    "                distance[i[0]]= cost\n",
    "                heapq.heappush(q, (cost, i[0]))\n",
    "\n",
    "start, final = map(int, input().split())\n",
    "dijkstra(start)\n",
    "print(distance[final])"
   ]
  }
 ],
 "metadata": {
  "kernelspec": {
   "display_name": "Python 3",
   "language": "python",
   "name": "python3"
  },
  "language_info": {
   "codemirror_mode": {
    "name": "ipython",
    "version": 3
   },
   "file_extension": ".py",
   "mimetype": "text/x-python",
   "name": "python",
   "nbconvert_exporter": "python",
   "pygments_lexer": "ipython3",
   "version": "3.7.1"
  }
 },
 "nbformat": 4,
 "nbformat_minor": 2
}
