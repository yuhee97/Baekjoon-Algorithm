{
 "cells": [
  {
   "cell_type": "markdown",
   "metadata": {},
   "source": [
    "### 2021-01-21 22일차"
   ]
  },
  {
   "cell_type": "code",
   "execution_count": 1,
   "metadata": {},
   "outputs": [],
   "source": [
    "# 오늘 할 일\n",
    "\n",
    "# 1. 다익스트라 코딩테스트 문제 4개 풀기(실버1개, 골드 2개) -> 확실하게 이해하면서 풀기!\n",
    "# 2. 인싸담당자 자소서 특강 듣기 /  clear  -> 직무 분석과 경험 분석을 하자. 내 경험을 역량에 맞추는 것이 아닌, 내 역량에 경험을 맞춰라."
   ]
  },
  {
   "cell_type": "markdown",
   "metadata": {},
   "source": [
    "##### 문제 1: 그대, 그머가 되어(실버 1)\n",
    "https://www.acmicpc.net/problem/14496"
   ]
  },
  {
   "cell_type": "code",
   "execution_count": 10,
   "metadata": {},
   "outputs": [
    {
     "name": "stdout",
     "output_type": "stream",
     "text": [
      "2 3\n",
      "3 3\n",
      "1 2\n",
      "1 3\n",
      "3 2\n",
      "1\n"
     ]
    }
   ],
   "source": [
    "import sys\n",
    "import heapq\n",
    "\n",
    "INF = int(1e9)\n",
    "start, last = map(int, input().split()) # sys.stdin.readline()\n",
    "N, M = map(int, input().split())\n",
    "distance = [INF] * (N+1)\n",
    "graph = [[] for _ in range(N+1)]\n",
    "\n",
    "for _ in range(M):\n",
    "    a, b = map(int, map(int, input().split()))\n",
    "    graph[a].append((b, 1))\n",
    "    graph[b].append((a, 1))\n",
    "    \n",
    "def difkstra(start):\n",
    "    q = []\n",
    "    heapq.heappush(q, (0, start))\n",
    "    distance[start] = 0\n",
    "    while q:\n",
    "        dist, now = heapq.heappop(q)\n",
    "        if distance[now] < dist:\n",
    "            continue\n",
    "        for i in graph[now]:\n",
    "            cost = distance[now] + i[1]\n",
    "            if distance[i[0]] > cost:\n",
    "                distance[i[0]] = cost\n",
    "                heapq.heappush(q, (cost, i[0]))\n",
    "                \n",
    "difkstra(start)\n",
    "\n",
    "if distance[last] == INF:\n",
    "    print(-1)\n",
    "else:\n",
    "    print(distance[last])"
   ]
  },
  {
   "cell_type": "markdown",
   "metadata": {},
   "source": [
    "##### 문제 2: 알고스팟(골드 4)\n",
    "https://www.acmicpc.net/problem/1261"
   ]
  },
  {
   "cell_type": "code",
   "execution_count": 13,
   "metadata": {},
   "outputs": [
    {
     "name": "stdout",
     "output_type": "stream",
     "text": [
      "6 6\n",
      "001111\n",
      "010000\n",
      "001111\n",
      "110001\n",
      "011010\n",
      "100010\n",
      "2\n"
     ]
    }
   ],
   "source": [
    "import sys\n",
    "import heapq\n",
    "\n",
    "INF = int(1e9)\n",
    "M, N = map(int, input().split()) # sys.stdin.readline()\n",
    "graph = [[] for _ in range(M*N+1)]\n",
    "g = [[0] * M for _ in range(N)]\n",
    "distance = [INF] * (M*N+1)\n",
    "count = [[0] * M for _ in range(N)]; c = 1\n",
    "\n",
    "# g에 입력으로 들어오는 행렬을 저장하고, 1부터 순차적으로 숫자를 부여하는 count 행렬도 함께 만들어줌\n",
    "# count[i][j] = c 여기서, c는 distance의 index로 쓸거임.\n",
    "for i in range(0, N):\n",
    "    num = input()\n",
    "    for j in range(0, M):\n",
    "        g[i][j] = int(num[j])\n",
    "        count[i][j] = c\n",
    "        c += 1\n",
    "\n",
    "# 동서남북\n",
    "dx = [-1, 0, 1, 0]\n",
    "dy = [0, -1, 0, 1]\n",
    "\n",
    "# for문을 돌면서 [i][j] 인덱스를 기준으로 동서남북으로 돌면서 연결된 distance의 index 및 cost(0 or 1)을 graph에 함께 저장함.\n",
    "for i in range(0, N):\n",
    "    for j in range(0, M):\n",
    "        for k in range(4):\n",
    "            nx = i + dx[k]\n",
    "            ny = j + dy[k]\n",
    "            if 0 <= nx < N and 0 <= ny < M:\n",
    "                   graph[count[i][j]].append((count[nx][ny], g[nx][ny]))\n",
    "\n",
    "# dijkstra\n",
    "def dijkstra(start):\n",
    "    q = []\n",
    "    heapq.heappush(q, (0, start))\n",
    "    distance[start] = 0\n",
    "    while q:\n",
    "        dist, now = heapq.heappop(q)\n",
    "        if dist > distance[now]:\n",
    "            continue\n",
    "        for i in graph[now]:\n",
    "            cost = distance[now] + i[1]\n",
    "            if cost < distance[i[0]]:\n",
    "                distance[i[0]] = cost\n",
    "                heapq.heappush(q, (cost, i[0]))\n",
    "\n",
    "dijkstra(1)\n",
    "print(distance[-1]) # distance 리스트에서 맨 마지막 idex에 해당하는 값을 출력한다. --> <(1, 1) -> (N, M) 으로 가기 위해 부순 벽의 수>"
   ]
  }
 ],
 "metadata": {
  "kernelspec": {
   "display_name": "Python 3",
   "language": "python",
   "name": "python3"
  }
 },
 "nbformat": 4,
 "nbformat_minor": 2
}
