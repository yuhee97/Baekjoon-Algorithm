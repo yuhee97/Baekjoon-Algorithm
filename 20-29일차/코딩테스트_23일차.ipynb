{
 "cells": [
  {
   "cell_type": "markdown",
   "metadata": {},
   "source": [
    "### 2021-01-22 23일차"
   ]
  },
  {
   "cell_type": "code",
   "execution_count": 1,
   "metadata": {},
   "outputs": [],
   "source": [
    "# 오늘 할 일\n",
    "\n",
    "# 1. 인싸담당자 제이콥 자소서 강의 듣기 / clear\n",
    "# 2. 코딩테스트 문제 풀기 / clear"
   ]
  },
  {
   "cell_type": "markdown",
   "metadata": {},
   "source": [
    "##### 문제 1: 쉽게 푸는 문제(실버 4)\n",
    "https://www.acmicpc.net/problem/1292"
   ]
  },
  {
   "cell_type": "code",
   "execution_count": 1,
   "metadata": {},
   "outputs": [
    {
     "name": "stdout",
     "output_type": "stream",
     "text": [
      "3 7\n",
      "15\n"
     ]
    }
   ],
   "source": [
    "import sys\n",
    "\n",
    "A, B = map(int, input().split()) # sys.stdin.readline()\n",
    "lis = [0]; SUM = 0\n",
    "\n",
    "for i in range(1, 100):\n",
    "    for _ in range(i):\n",
    "        if len(lis) == 1001:\n",
    "            break\n",
    "        lis.append(i)\n",
    "\n",
    "for i in range(A, B+1):\n",
    "    SUM += lis[i]\n",
    "\n",
    "print(SUM)"
   ]
  },
  {
   "cell_type": "markdown",
   "metadata": {},
   "source": [
    "##### 문제 2: 파티(골드 3)\n",
    "https://www.acmicpc.net/problem/1238"
   ]
  },
  {
   "cell_type": "code",
   "execution_count": 10,
   "metadata": {},
   "outputs": [
    {
     "name": "stdout",
     "output_type": "stream",
     "text": [
      "4 8 2\n",
      "1 2 4\n",
      "1 3 2\n",
      "1 4 7\n",
      "2 1 1\n",
      "2 3 5\n",
      "3 1 2\n",
      "3 4 4\n",
      "4 2 3\n",
      "10\n"
     ]
    }
   ],
   "source": [
    "import sys\n",
    "import heapq\n",
    "\n",
    "INF = int(1e9)\n",
    "N, M, X = map(int, input().split()) # sys.stdin.readline()\n",
    "graph = [[] for _ in range(N+1)]\n",
    "distance_come = [INF] * (N+1); store = [0] * (N+1); SUM = []\n",
    "\n",
    "for i in range(M):\n",
    "    a, b, t = map(int, input().split())\n",
    "    graph[a].append((b, t))\n",
    "    \n",
    "def dijkstra(start, distance):\n",
    "    q = []\n",
    "    heapq.heappush(q, (0, start))\n",
    "    distance[start] = 0\n",
    "    while q:\n",
    "        dist, now = heapq.heappop(q)\n",
    "        if dist > distance[now]:\n",
    "            continue\n",
    "        for i in graph[now]:\n",
    "            cost = distance[now] + i[1]\n",
    "            if cost < distance[i[0]]:\n",
    "                distance[i[0]] = cost\n",
    "                heapq.heappush(q, (cost, i[0]))\n",
    "    return distance\n",
    "\n",
    "distance_come = dijkstra(X, distance_come)\n",
    "for k in range(1, N+1):\n",
    "    distance_back = [INF] * (N+1)\n",
    "    distance_back = dijkstra(k, distance_back)\n",
    "    store[k] = distance_back[X]\n",
    "\n",
    "for i in range(1, len(store)):\n",
    "    SUM.append(distance_come[i] + store[i])\n",
    "    \n",
    "print(max(SUM))"
   ]
  },
  {
   "cell_type": "markdown",
   "metadata": {},
   "source": [
    "##### 문제 3: 피보나치(실버 3)\n",
    "https://www.acmicpc.net/problem/1003"
   ]
  },
  {
   "cell_type": "code",
   "execution_count": 34,
   "metadata": {},
   "outputs": [
    {
     "name": "stdout",
     "output_type": "stream",
     "text": [
      "3\n",
      "0\n",
      "1\n",
      "3\n",
      "1 0\n",
      "0 1\n",
      "1 2\n"
     ]
    }
   ],
   "source": [
    "import sys\n",
    "\n",
    "N = int(input()) # sys.stdin.readline()\n",
    "lis = []; fibo_list = [0] * 41; fibo_list[1] = 1; v = [[0] * 2 for _ in range(41)]; \n",
    "v[0][0]=1; v[0][1]=0; v[1][0]=0; v[1][1]=1\n",
    "\n",
    "for _ in range(N):\n",
    "    lis.append(int(input()))\n",
    "    \n",
    "def fibo(n):\n",
    "    global zero, one\n",
    "    for i in range(2, n+1):\n",
    "        v[i][0] = v[i-2][0] + v[i-1][0]; v[i][1] = v[i-2][1]+v[i-1][1]\n",
    "        fibo_list[i] = fibo_list[i-1] + fibo_list[i-2]\n",
    "\n",
    "fibo(max(lis))\n",
    "\n",
    "for k in lis:\n",
    "    print(v[k][0], v[k][1])"
   ]
  },
  {
   "cell_type": "markdown",
   "metadata": {},
   "source": [
    "##### 문제 4: 스택(실버 4)\n",
    "https://www.acmicpc.net/problem/10828"
   ]
  },
  {
   "cell_type": "code",
   "execution_count": 1,
   "metadata": {},
   "outputs": [
    {
     "name": "stdout",
     "output_type": "stream",
     "text": [
      "7\n",
      "pop\n",
      "-1\n",
      "top\n",
      "-1\n",
      "push 123\n",
      "top\n",
      "123\n",
      "pop\n",
      "123\n",
      "top\n",
      "-1\n",
      "pop\n",
      "-1\n"
     ]
    }
   ],
   "source": [
    "import sys\n",
    "\n",
    "N = int(input()); stack = [] # sys.stdin.readline()\n",
    "\n",
    "for _ in range(N):\n",
    "    strr = input().rstrip()\n",
    "    if 'push' in strr:\n",
    "        order, num = strr.split(\" \")\n",
    "        stack.append(int(num))\n",
    "    elif 'top' in strr:\n",
    "        if not stack:\n",
    "            print(-1)\n",
    "            continue\n",
    "        print(stack[-1])\n",
    "    elif 'size' in strr:\n",
    "        print(len(stack))\n",
    "    elif 'empty' in strr:\n",
    "        if stack:\n",
    "            print(0)\n",
    "        else:\n",
    "            print(1)\n",
    "    else:\n",
    "        if not stack:\n",
    "            print(-1)\n",
    "            continue\n",
    "        print(stack.pop())"
   ]
  }
 ],
 "metadata": {
  "kernelspec": {
   "display_name": "Python 3",
   "language": "python",
   "name": "python3"
  },
  "language_info": {
   "codemirror_mode": {
    "name": "ipython",
    "version": 3
   },
   "file_extension": ".py",
   "mimetype": "text/x-python",
   "name": "python",
   "nbconvert_exporter": "python",
   "pygments_lexer": "ipython3",
   "version": "3.7.1"
  }
 },
 "nbformat": 4,
 "nbformat_minor": 2
}
