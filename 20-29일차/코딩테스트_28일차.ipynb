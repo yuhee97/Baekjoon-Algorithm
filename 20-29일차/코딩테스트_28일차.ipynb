{
 "cells": [
  {
   "cell_type": "markdown",
   "metadata": {},
   "source": [
    "### 2021-01-28 28일차"
   ]
  },
  {
   "cell_type": "markdown",
   "metadata": {},
   "source": [
    "##### 문제 1: 돌 게임 3(실버 3)\n",
    "https://www.acmicpc.net/problem/9657"
   ]
  },
  {
   "cell_type": "code",
   "execution_count": 1,
   "metadata": {},
   "outputs": [
    {
     "name": "stdout",
     "output_type": "stream",
     "text": [
      "6\n",
      "SK\n"
     ]
    }
   ],
   "source": [
    "N = int(input())\n",
    "\n",
    "if N % 7 == 0 or N % 7 == 2:\n",
    "    print(\"CY\")\n",
    "else:\n",
    "    print(\"SK\")"
   ]
  },
  {
   "cell_type": "markdown",
   "metadata": {},
   "source": [
    "##### 문제 2:  계단 오르기 (실버 3)\n",
    "https://www.acmicpc.net/problem/2579"
   ]
  },
  {
   "cell_type": "code",
   "execution_count": 25,
   "metadata": {},
   "outputs": [
    {
     "name": "stdout",
     "output_type": "stream",
     "text": [
      "6\n",
      "10\n",
      "20\n",
      "15\n",
      "25\n",
      "10\n",
      "20\n",
      "75\n"
     ]
    }
   ],
   "source": [
    "import sys\n",
    "\n",
    "N = int(input()) # sys.stdin.readline()\n",
    "step = [0] * 301; dp = [0] * 301\n",
    "\n",
    "for i in range(1, N+1):\n",
    "    step[i] = int(input())  \n",
    "    \n",
    "dp[1] = step[1]\n",
    "dp[2] = step[1] + step[2]\n",
    "dp[3] = max(step[1] + step[3], step[2] + step[3])\n",
    "\n",
    "for i in range(4, N+1):\n",
    "    dp[i] = max(dp[i-2] + step[i], dp[i-3] + step[i-1] + step[i])\n",
    "    \n",
    "print(dp[N])"
   ]
  },
  {
   "cell_type": "markdown",
   "metadata": {},
   "source": [
    "##### 문제 3:  1, 2, 3 더하기 (실버 3)\n",
    "https://www.acmicpc.net/problem/9095"
   ]
  },
  {
   "cell_type": "code",
   "execution_count": 68,
   "metadata": {},
   "outputs": [
    {
     "name": "stdout",
     "output_type": "stream",
     "text": [
      "3\n",
      "4\n",
      "7\n",
      "10\n",
      "7\n",
      "44\n",
      "274\n"
     ]
    }
   ],
   "source": [
    "N = int(input()); lis = []\n",
    "dp = [0] * 12; dp[1] = 1; dp[2] = 2; dp[3] = 4\n",
    "\n",
    "for _ in range(N):\n",
    "    lis.append(int(input()))\n",
    "    \n",
    "for i in range(4, max(lis)+1):\n",
    "    dp[i] = dp[i-1] + dp[i-2] + dp[i-3]\n",
    "    \n",
    "for i in range(N):\n",
    "    print(dp[lis[i]])"
   ]
  },
  {
   "cell_type": "markdown",
   "metadata": {},
   "source": [
    "##### 문제 4:  2×n 타일링 (실버 3)\n",
    "https://www.acmicpc.net/problem/11726"
   ]
  },
  {
   "cell_type": "code",
   "execution_count": 76,
   "metadata": {},
   "outputs": [
    {
     "name": "stdout",
     "output_type": "stream",
     "text": [
      "1000\n",
      "1115\n"
     ]
    }
   ],
   "source": [
    "n = int(input())\n",
    "\n",
    "dp = [0] * 1001\n",
    "\n",
    "dp[1] = 1; dp[2] = 2; \n",
    "\n",
    "for i in range(3, 1001):\n",
    "    dp[i] = dp[i-1] + dp[i-2]\n",
    "        \n",
    "print(dp[n]%10007)"
   ]
  },
  {
   "cell_type": "markdown",
   "metadata": {},
   "source": [
    "##### 문제 5:  정수 삼각형 (실버 1)\n",
    "https://www.acmicpc.net/problem/1932"
   ]
  },
  {
   "cell_type": "code",
   "execution_count": 111,
   "metadata": {},
   "outputs": [
    {
     "name": "stdout",
     "output_type": "stream",
     "text": [
      "5\n",
      "7\n",
      "3 8\n",
      "8 1 0\n",
      "2 7 4 4\n",
      "4 5 2 6 5\n"
     ]
    }
   ],
   "source": [
    "import sys\n",
    "\n",
    "N = int(input())\n",
    "tri = [[0] * N for _ in range(N)]\n",
    "dp = [[0] * (N+1) for _ in range(N+1)]\n",
    "\n",
    "for i in range(N):\n",
    "    lis = list(map(int, input().split()))\n",
    "    for j in range(len(lis)):\n",
    "        tri[i][j] = lis[j]\n",
    "\n",
    "dp[1][1] = tri[0][0]\n",
    "\n",
    "for i in range(2, N+1):\n",
    "    for j in range(1, N+1):\n",
    "        dp[i][j] = max(dp[i-1][j-1] + tri[i-1][j-1], dp[i-1][j] + tri[i-1][j-1])\n",
    "        \n",
    "print(max(dp[N]))"
   ]
  }
 ],
 "metadata": {
  "kernelspec": {
   "display_name": "Python 3",
   "language": "python",
   "name": "python3"
  },
  "language_info": {
   "codemirror_mode": {
    "name": "ipython",
    "version": 3
   },
   "file_extension": ".py",
   "mimetype": "text/x-python",
   "name": "python",
   "nbconvert_exporter": "python",
   "pygments_lexer": "ipython3",
   "version": "3.7.1"
  }
 },
 "nbformat": 4,
 "nbformat_minor": 2
}
