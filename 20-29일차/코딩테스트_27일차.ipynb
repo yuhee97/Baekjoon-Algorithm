{
 "cells": [
  {
   "cell_type": "markdown",
   "metadata": {},
   "source": [
    "### 2021-01-26 27일차"
   ]
  },
  {
   "cell_type": "markdown",
   "metadata": {},
   "source": [
    "##### 문제 1: 퇴사 (실버 4)\n",
    "https://www.acmicpc.net/problem/14501"
   ]
  },
  {
   "cell_type": "code",
   "execution_count": 10,
   "metadata": {},
   "outputs": [
    {
     "name": "stdout",
     "output_type": "stream",
     "text": [
      "10\n",
      "1 1\n",
      "1 2\n",
      "1 3\n",
      "1 4\n",
      "1 5\n",
      "1 6\n",
      "1 7\n",
      "1 8\n",
      "1 9\n",
      "1 10\n",
      "55\n"
     ]
    }
   ],
   "source": [
    "import sys\n",
    "\n",
    "N = int(input()) # sys.stdin.readline()\n",
    "T = []; P = [];  maxx = 0\n",
    "DP = [0] * (N+1)\n",
    "\n",
    "for _ in range(N):\n",
    "    t, p = map(int, input().split())\n",
    "    T.append(t); P.append(p)\n",
    "\n",
    "for i in range(N):\n",
    "    maxx = max(maxx, DP[i])\n",
    "    if i + T[i] > N:\n",
    "        continue\n",
    "    DP[i+T[i]] = max(maxx + P[i], DP[i+T[i]])\n",
    "\n",
    "print(max(DP))"
   ]
  },
  {
   "cell_type": "markdown",
   "metadata": {},
   "source": [
    "##### 문제 2: 연구소 (골드 5)\n",
    "https://www.acmicpc.net/problem/14502"
   ]
  },
  {
   "cell_type": "code",
   "execution_count": 33,
   "metadata": {},
   "outputs": [
    {
     "name": "stdout",
     "output_type": "stream",
     "text": [
      "4 6\n",
      "0 0 0 0 0 0\n",
      "1 0 0 0 0 2\n",
      "1 1 1 0 0 2\n",
      "0 0 0 0 0 2\n",
      "9\n"
     ]
    }
   ],
   "source": [
    "import sys\n",
    "from collections import deque\n",
    "import copy\n",
    "from itertools import combinations\n",
    "\n",
    "N, M = map(int, input().split()); graph = []\n",
    "dx = [-1, 0, 1, 0]; dy = [0, -1, 0, 1]\n",
    "new_wall = []; maxx = []\n",
    "\n",
    "for i in range(N):\n",
    "    graph.append(list(map(int, input().split())))\n",
    "    \n",
    "def bfs(graph):\n",
    "    visited = [[0] * M for _ in range(N)]\n",
    "    queue = deque()\n",
    "    for i in range(N):\n",
    "        for j in range(M):\n",
    "            if graph[i][j] == 2 and visited[i][j] == 0:\n",
    "                queue.append([i, j])\n",
    "                visited[i][j] == 1\n",
    "                while queue:\n",
    "                    x, y = queue.popleft()\n",
    "                    for k in range(4):\n",
    "                        nx = x + dx[k]\n",
    "                        ny = y + dy[k]\n",
    "                        if 0 <= nx < N and 0 <= ny < M and visited[nx][ny] == 0 and graph[nx][ny] == 0:\n",
    "                            graph[nx][ny] = 2\n",
    "                            visited[nx][ny] = 1\n",
    "                            queue.append([nx, ny])\n",
    "    return graph\n",
    "\n",
    "for i in range(N):\n",
    "    for j in range(M):\n",
    "        if graph[i][j] == 0:\n",
    "            new_wall.append([i, j])\n",
    "\n",
    "combis = list(combinations(new_wall, 3))\n",
    "\n",
    "for combi in combis:\n",
    "    count = 0\n",
    "    graph_c = copy.deepcopy(graph)\n",
    "    for j in combi:\n",
    "        x, y = j[0], j[1]\n",
    "        graph_c[x][y] = 1\n",
    "    g = bfs(graph_c)\n",
    "    for i in range(N):\n",
    "        for j in range(M):\n",
    "            if g[i][j] == 0:\n",
    "                count += 1\n",
    "    maxx.append(count)\n",
    "\n",
    "print(max(maxx))"
   ]
  }
 ],
 "metadata": {
  "kernelspec": {
   "display_name": "Python 3",
   "language": "python",
   "name": "python3"
  },
  "language_info": {
   "codemirror_mode": {
    "name": "ipython",
    "version": 3
   },
   "file_extension": ".py",
   "mimetype": "text/x-python",
   "name": "python",
   "nbconvert_exporter": "python",
   "pygments_lexer": "ipython3",
   "version": "3.7.1"
  }
 },
 "nbformat": 4,
 "nbformat_minor": 2
}
