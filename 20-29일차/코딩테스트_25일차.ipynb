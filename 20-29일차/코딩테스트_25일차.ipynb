{
 "cells": [
  {
   "cell_type": "code",
   "execution_count": 1,
   "metadata": {},
   "outputs": [],
   "source": [
    "# 오늘 할 일\n",
    "\n",
    "# 1. 데이터 분석 과제하기\n",
    "# 2. 동빈나 강의 듣기(플로이드 워셜) / 완료\n",
    "# 3. 코딩테스트 문제 4개 풀기 / 완료\n",
    "# 4. 안드로이드 프로그래밍 강의 듣기"
   ]
  },
  {
   "cell_type": "markdown",
   "metadata": {},
   "source": [
    "##### 문제 1: 경로 찾기 (실버 1)\n",
    "https://www.acmicpc.net/problem/11403"
   ]
  },
  {
   "cell_type": "code",
   "execution_count": 31,
   "metadata": {},
   "outputs": [
    {
     "name": "stdout",
     "output_type": "stream",
     "text": [
      "7\n",
      "0 0 0 1 0 0 0\n",
      "0 0 0 0 0 0 1\n",
      "0 0 0 0 0 0 0\n",
      "0 0 0 0 1 1 0\n",
      "1 0 0 0 0 0 0\n",
      "0 0 0 0 0 0 1\n",
      "0 0 1 0 0 0 0\n",
      "1 0 1 1 1 1 1 \n",
      "0 0 1 0 0 0 1 \n",
      "0 0 0 0 0 0 0 \n",
      "1 0 1 1 1 1 1 \n",
      "1 0 1 1 1 1 1 \n",
      "0 0 1 0 0 0 1 \n",
      "0 0 1 0 0 0 0 \n"
     ]
    }
   ],
   "source": [
    "import sys\n",
    "\n",
    "INF = int(1e9) \n",
    "N = int(input()) # sys.stdin.readline()\n",
    "graph = [[INF] * (N+1)for _ in range(N+1)]\n",
    "           \n",
    "for i in range(N):\n",
    "    lis = list(map(int, input().split()))\n",
    "    for j in range(len(lis)):\n",
    "        if lis[j] == 1:\n",
    "            graph[i+1][j+1] = 1\n",
    "            \n",
    "for i in range(1, N+1):\n",
    "    for j in range(1, N+1):\n",
    "        for k in range(1, N+1):\n",
    "            graph[j][k] = min(graph[j][k], graph[j][i] + graph[i][k])\n",
    "            \n",
    "for i in range(1, N+1):\n",
    "    for j in range(1, N+1):\n",
    "        if graph[i][j] == 1e9 or graph[i][j] == 0:\n",
    "            print(0, end = \" \")\n",
    "        else:\n",
    "            print(1, end = \" \")\n",
    "    print()"
   ]
  },
  {
   "cell_type": "markdown",
   "metadata": {},
   "source": [
    "##### 문제 2: 플로이드(골드 4)\n",
    "https://www.acmicpc.net/problem/11404"
   ]
  },
  {
   "cell_type": "code",
   "execution_count": 41,
   "metadata": {},
   "outputs": [
    {
     "name": "stdout",
     "output_type": "stream",
     "text": [
      "5\n",
      "14\n",
      "1 2 2\n",
      "1 3 3\n",
      "1 4 1\n",
      "1 5 10\n",
      "2 4 2\n",
      "3 4 1\n",
      "3 5 1\n",
      "4 5 3\n",
      "3 5 10\n",
      "3 1 8\n",
      "1 4 2\n",
      "5 1 7\n",
      "3 4 2\n",
      "5 2 4\n",
      "[[1000000000, 1000000000, 1000000000, 1000000000, 1000000000, 1000000000], [1000000000, 0, 2, 3, 1, 10], [1000000000, 1000000000, 0, 1000000000, 2, 1000000000], [1000000000, 8, 1000000000, 0, 1, 1], [1000000000, 1000000000, 1000000000, 1000000000, 0, 3], [1000000000, 7, 4, 1000000000, 1000000000, 0]]\n",
      "0 2 3 1 4 \n",
      "12 0 15 2 5 \n",
      "8 5 0 1 1 \n",
      "10 7 13 0 3 \n",
      "7 4 10 6 0 \n"
     ]
    }
   ],
   "source": [
    "import sys\n",
    "\n",
    "INF = int(1e9)\n",
    "n = int(input()) # sys.stdin.readline()\n",
    "m = int(input())\n",
    "graph = [[INF] * (n+1) for _ in range(n+1)]\n",
    "\n",
    "for i in range(1, n+1):\n",
    "    for j in range(1, n+1):\n",
    "        if i == j:\n",
    "            graph[i][j] = 0\n",
    "            \n",
    "for _ in range(m):\n",
    "    a, b, c = map(int, input().split())\n",
    "    if c < graph[a][b]:\n",
    "        graph[a][b] = c\n",
    "\n",
    "for k in range(1, n+1):\n",
    "    for i in range(1, n+1):\n",
    "        for j in range(1, n+1):\n",
    "            graph[i][j] = min(graph[i][j], graph[i][k] + graph[k][j])\n",
    "            \n",
    "for i in range(1, n+1):\n",
    "    for j in range(1, n+1):\n",
    "        if graph[i][j] == INF:\n",
    "            print(0, end = \" \")\n",
    "        else:\n",
    "            print(graph[i][j], end = \" \")\n",
    "    print()"
   ]
  },
  {
   "cell_type": "markdown",
   "metadata": {},
   "source": [
    "##### 문제 3: 특정한 최단 경로(골드4)\n",
    "https://www.acmicpc.net/problem/1504"
   ]
  },
  {
   "cell_type": "code",
   "execution_count": 50,
   "metadata": {},
   "outputs": [
    {
     "name": "stdout",
     "output_type": "stream",
     "text": [
      "4 6\n",
      "1 2 3\n",
      "2 3 3\n",
      "3 4 1\n",
      "1 3 5\n",
      "2 4 5\n",
      "1 4 4\n",
      "2 3\n",
      "7\n"
     ]
    }
   ],
   "source": [
    "import sys\n",
    "import heapq\n",
    "\n",
    "INF = int(1e9)\n",
    "N, M = map(int, input().split()) # sys.stdin.readline()\n",
    "graph = [[] * (N+1) for _ in range(N+1)]\n",
    "distance = [INF] * (N+1)\n",
    "\n",
    "for _ in range(M):\n",
    "    a, b, c = map(int, input().split())\n",
    "    graph[a].append((b, c))\n",
    "    graph[b].append((a, c))\n",
    "    \n",
    "def dijkstra(start):\n",
    "    distance = [INF] * (N+1)\n",
    "    q = []\n",
    "    heapq.heappush(q, (0, start))\n",
    "    distance[start] = 0\n",
    "    while q:\n",
    "        dist, now = heapq.heappop(q)\n",
    "        if dist > distance[now]:\n",
    "            continue\n",
    "        for i in graph[now]:\n",
    "            cost = distance[now] + i[1]\n",
    "            if cost < distance[i[0]]:\n",
    "                distance[i[0]] = cost\n",
    "                heapq.heappush(q, (cost, i[0]))\n",
    "                \n",
    "    return distance\n",
    "\n",
    "a, b = map(int, input().split())\n",
    "\n",
    "first_distance = dijkstra(1)\n",
    "distance_mid1 = dijkstra(a)\n",
    "distance_mid2 = dijkstra(b)\n",
    "\n",
    "result = min(first_distance[a] + distance_mid1[b] + distance_mid2[N], first_distance[b] + distance_mid2[a] + distance_mid1[N])\n",
    "\n",
    "if result > 1e9-1:\n",
    "    print(-1)\n",
    "else:\n",
    "    print(result)"
   ]
  },
  {
   "cell_type": "markdown",
   "metadata": {},
   "source": [
    "##### 문제 4: 랜선 자르기(실버3)\n",
    "https://www.acmicpc.net/problem/1654"
   ]
  },
  {
   "cell_type": "code",
   "execution_count": 15,
   "metadata": {},
   "outputs": [
    {
     "name": "stdout",
     "output_type": "stream",
     "text": [
      "4 11\n",
      "802\n",
      "743\n",
      "457\n",
      "539\n",
      "200\n"
     ]
    }
   ],
   "source": [
    "import sys\n",
    "\n",
    "K, N = map(int, input().split()); lis = [] # sys.stdin.readline()\n",
    "for _ in range(K):\n",
    "    lis.append(int(input()))\n",
    "    \n",
    "def binary(left, right, N, lis):\n",
    "    while left <= right:\n",
    "        mid = (left + right) // 2\n",
    "        value = 0\n",
    "        \n",
    "        for lst in lis:\n",
    "            value += (lst // mid)\n",
    "            \n",
    "        if value >= N:\n",
    "            left = mid + 1\n",
    "            result = mid\n",
    "        else:\n",
    "            right = mid - 1\n",
    "    return result\n",
    "            \n",
    "print(binary(1, max(lis), N, lis))            "
   ]
  }
 ],
 "metadata": {
  "kernelspec": {
   "display_name": "Python 3",
   "language": "python",
   "name": "python3"
  },
  "language_info": {
   "codemirror_mode": {
    "name": "ipython",
    "version": 3
   },
   "file_extension": ".py",
   "mimetype": "text/x-python",
   "name": "python",
   "nbconvert_exporter": "python",
   "pygments_lexer": "ipython3",
   "version": "3.7.1"
  }
 },
 "nbformat": 4,
 "nbformat_minor": 2
}
