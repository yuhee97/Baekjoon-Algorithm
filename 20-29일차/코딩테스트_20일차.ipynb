{
 "cells": [
  {
   "cell_type": "markdown",
   "metadata": {},
   "source": [
    "### 2021-01-19 20일차"
   ]
  },
  {
   "cell_type": "code",
   "execution_count": 1,
   "metadata": {},
   "outputs": [],
   "source": [
    "# 오늘 할 일\n",
    "\n",
    "# 1. 동빈나 강의 듣기(다이나믹) / clear\n",
    "# 2. 코딩테스트 문제 풀기 / clear\n",
    "# 3. https://www.boostcourse.org/opencourse 강의 듣기"
   ]
  },
  {
   "cell_type": "markdown",
   "metadata": {},
   "source": [
    "##### 다이나믹 프로그래밍 문제 1: 설탕 배달(브론즈 1)\n",
    "https://www.acmicpc.net/problem/2839"
   ]
  },
  {
   "cell_type": "code",
   "execution_count": 9,
   "metadata": {},
   "outputs": [
    {
     "name": "stdout",
     "output_type": "stream",
     "text": [
      "11\n",
      "3\n"
     ]
    }
   ],
   "source": [
    "import sys\n",
    "\n",
    "N = int(sys.stdin.readline()) # input()\n",
    "lis = [5001] * 5001; kg = [3, 5]\n",
    "lis[3] = 1; lis[5] = 1\n",
    "\n",
    "for i in range(3, len(lis)):\n",
    "    for j in range(2):\n",
    "        if lis[i - kg[j]] == -1:\n",
    "            continue\n",
    "        lis[i] = min(lis[i],lis[i - kg[j]] + 1)\n",
    "    if lis[i] == 5001:\n",
    "        lis[i] = -1\n",
    "        \n",
    "print(lis[N])"
   ]
  },
  {
   "cell_type": "markdown",
   "metadata": {},
   "source": [
    "##### 다이나믹 프로그래밍 문제 2: 1로 만들기(실버 3)\n",
    "https://www.acmicpc.net/problem/1463"
   ]
  },
  {
   "cell_type": "code",
   "execution_count": 15,
   "metadata": {},
   "outputs": [
    {
     "name": "stdout",
     "output_type": "stream",
     "text": [
      "10\n",
      "3\n"
     ]
    }
   ],
   "source": [
    "import sys\n",
    "\n",
    "N = int(input()) # sys.stdin.readline()\n",
    "lis = [0] * (int(10e6 + 1))\n",
    "\n",
    "for i in range(2, N + 1):\n",
    "    lis[i] = lis[i-1] + 1\n",
    "    if i % 2 == 0:\n",
    "        lis[i] = min(lis[i], lis[i//2] + 1)\n",
    "    if i % 3 == 0:\n",
    "        lis[i] = min(lis[i], lis[i//3] + 1)\n",
    "print(lis[N])"
   ]
  },
  {
   "cell_type": "markdown",
   "metadata": {},
   "source": [
    "##### 다이나믹 프로그래밍 문제 3: LCS(골드 5)\n",
    "https://www.acmicpc.net/problem/9251"
   ]
  },
  {
   "cell_type": "code",
   "execution_count": 27,
   "metadata": {},
   "outputs": [
    {
     "name": "stdout",
     "output_type": "stream",
     "text": [
      "ACAYKP\n",
      "CAPCAK\n",
      "4\n"
     ]
    }
   ],
   "source": [
    "import sys\n",
    "\n",
    "first = sys.stdin.readline().strip() # input()\n",
    "second = sys.stdin.readline().strip()\n",
    "\n",
    "arr = [[0] * (len(first) + 1) for _ in range(len(second) + 1)]\n",
    "\n",
    "for i in range(1, len(second) + 1):\n",
    "    for j in range(1, len(first) + 1):\n",
    "        if second[i-1] == first[j-1]:\n",
    "            arr[i][j] = arr[i-1][j-1] + 1\n",
    "        else:\n",
    "            arr[i][j] = max(arr[i][j-1], arr[i-1][j])     \n",
    "            \n",
    "print(arr[len(second)][len(first)])"
   ]
  }
 ],
 "metadata": {
  "kernelspec": {
   "display_name": "Python 3",
   "language": "python",
   "name": "python3"
  },
  "language_info": {
   "codemirror_mode": {
    "name": "ipython",
    "version": 3
   },
   "file_extension": ".py",
   "mimetype": "text/x-python",
   "name": "python",
   "nbconvert_exporter": "python",
   "pygments_lexer": "ipython3",
   "version": "3.7.1"
  }
 },
 "nbformat": 4,
 "nbformat_minor": 2
}
