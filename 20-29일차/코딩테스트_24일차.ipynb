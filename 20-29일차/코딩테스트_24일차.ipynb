{
 "cells": [
  {
   "cell_type": "markdown",
   "metadata": {},
   "source": [
    "### 2021-01-23 24일차"
   ]
  },
  {
   "cell_type": "code",
   "execution_count": 54,
   "metadata": {},
   "outputs": [],
   "source": [
    "# 오늘 할 일\n",
    "\n",
    "# 1. 코딩테스트 문제 풀기 \n",
    "# 2. 과제 **"
   ]
  },
  {
   "cell_type": "markdown",
   "metadata": {},
   "source": [
    "##### 문제 1. 효율적인 해킹(실버 2)\n",
    "https://www.acmicpc.net/problem/1325"
   ]
  },
  {
   "cell_type": "code",
   "execution_count": 12,
   "metadata": {},
   "outputs": [
    {
     "name": "stdout",
     "output_type": "stream",
     "text": [
      "5 4\n",
      "3 1\n",
      "3 2\n",
      "4 3\n",
      "5 3\n",
      "1 2 "
     ]
    }
   ],
   "source": [
    "import sys\n",
    "from collections import deque\n",
    "\n",
    "N, M = map(int, input().split()) # sys.stdin.readline()\n",
    "graph = [[] for _ in range(N+1)]; lis = [0]\n",
    "\n",
    "for _ in range(M):\n",
    "    a, b = map(int, input().split())\n",
    "    graph[b].append(a)\n",
    "    \n",
    "def bfs(start):\n",
    "    visited = [0] * (N+1)\n",
    "    queue = deque()\n",
    "    queue.append(start)\n",
    "    visited[start] = 1\n",
    "    while queue:\n",
    "        new = queue.popleft()\n",
    "        for i in graph[new]:\n",
    "            if visited[i] == 0:\n",
    "                queue.append(i)\n",
    "                visited[i] = 1\n",
    "    return sum(visited)\n",
    "\n",
    "for k in range(1, N+1):\n",
    "    lis.append(bfs(k))\n",
    "    \n",
    "for k in range(1, N+1):\n",
    "    if max(lis) == lis[k]:\n",
    "        print(k, end = \" \")"
   ]
  },
  {
   "cell_type": "markdown",
   "metadata": {},
   "source": [
    "##### 문제 2. 치킨 배달(골드 5)\n",
    "https://www.acmicpc.net/problem/15686"
   ]
  },
  {
   "cell_type": "code",
   "execution_count": 53,
   "metadata": {},
   "outputs": [
    {
     "name": "stdout",
     "output_type": "stream",
     "text": [
      "5 2\n",
      "0 2 0 1 0\n",
      "1 0 1 0 0\n",
      "0 0 0 0 0\n",
      "2 0 0 1 1\n",
      "2 2 0 1 2\n",
      "10\n"
     ]
    }
   ],
   "source": [
    "import sys\n",
    "from itertools import combinations\n",
    "\n",
    "N, M = map(int, input().split()) # sys.stdin.readline()\n",
    "lis = []; house = []; chicken = []; SUM_list = []; \n",
    "\n",
    "for _ in range(N):\n",
    "    lis.append(list(map(int, input().split())))\n",
    "\n",
    "for i in range(N):\n",
    "    for j in range(N):\n",
    "        if lis[i][j] == 1:\n",
    "            house.append((i, j))\n",
    "        if lis[i][j] == 2:\n",
    "            chicken.append((i, j))\n",
    "            \n",
    "combi = list(combinations(chicken, M))\n",
    "\n",
    "for kk in range(len(combi)):\n",
    "    sum_min = [1e9] * len(house)\n",
    "    for h in range(M):\n",
    "        for k in range(len(house)):\n",
    "            r1 = abs(combi[kk][h][0] - house[k][0])\n",
    "            r2 = abs(combi[kk][h][1] - house[k][1])\n",
    "            if  (r1 + r2) < sum_min[k]:\n",
    "                sum_min[k] = r1 + r2\n",
    "    SUM_list.append(sum(sum_min))\n",
    "    \n",
    "print(min(SUM_list))"
   ]
  },
  {
   "cell_type": "markdown",
   "metadata": {},
   "source": [
    "##### 문제 3. 적록색약(골드 5)\n",
    "https://www.acmicpc.net/problem/10026"
   ]
  },
  {
   "cell_type": "code",
   "execution_count": 82,
   "metadata": {
    "scrolled": false
   },
   "outputs": [
    {
     "name": "stdout",
     "output_type": "stream",
     "text": [
      "5\n",
      "RRRBB\n",
      "GGBBB\n",
      "BBBRR\n",
      "BBRRR\n",
      "RRRRR\n",
      "4 3\n"
     ]
    }
   ],
   "source": [
    "import sys\n",
    "from collections import deque\n",
    "\n",
    "N = int(input()) # sys.stdin.readline()\n",
    "graph = [[] for _ in range(N)]\n",
    "dx = [-1, 0, 1, 0] # 북남\n",
    "dy = [0, -1, 0, 1] # 서동\n",
    "\n",
    "for i in range(N):\n",
    "    strr = input() # sys.stdin.readline().strip()\n",
    "    for j in range(len(strr)):\n",
    "        graph[i].append(strr[j])\n",
    "        \n",
    "def bfs(): # 적록색약이 아닌 사람\n",
    "    visited1 = [[0] * N for _ in range(N)]\n",
    "    count = 0\n",
    "    queue = deque()\n",
    "    for k in range(N):\n",
    "        for h in range(N):\n",
    "            if visited1[k][h] == 0:\n",
    "                queue.append((k, h))\n",
    "                visited1[k][h] = 1\n",
    "                count += 1\n",
    "                while queue:\n",
    "                    x, y = queue.popleft()\n",
    "                    for i in range(4):\n",
    "                        nx = x + dx[i]\n",
    "                        ny = y + dy[i]\n",
    "                        if 0 <= nx < N and 0 <= ny < N and visited1[nx][ny] == 0 and graph[nx][ny] == graph[x][y]:\n",
    "                            queue.append((nx, ny))\n",
    "                            visited1[nx][ny] = 1\n",
    "    return count\n",
    "\n",
    "print(bfs(), end = \" \")\n",
    "    \n",
    "for i in range(N):\n",
    "    for j in range(N):\n",
    "        if graph[i][j] == 'G':\n",
    "            graph[i][j] = 'R'\n",
    "        \n",
    "print(bfs())"
   ]
  }
 ],
 "metadata": {
  "kernelspec": {
   "display_name": "Python 3",
   "language": "python",
   "name": "python3"
  },
  "language_info": {
   "codemirror_mode": {
    "name": "ipython",
    "version": 3
   },
   "file_extension": ".py",
   "mimetype": "text/x-python",
   "name": "python",
   "nbconvert_exporter": "python",
   "pygments_lexer": "ipython3",
   "version": "3.7.1"
  }
 },
 "nbformat": 4,
 "nbformat_minor": 2
}
