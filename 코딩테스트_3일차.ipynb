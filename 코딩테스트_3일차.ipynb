{
 "cells": [
  {
   "cell_type": "markdown",
   "metadata": {},
   "source": [
    "### 3일차 2020-12-24"
   ]
  },
  {
   "cell_type": "code",
   "execution_count": 5,
   "metadata": {},
   "outputs": [
    {
     "name": "stdout",
     "output_type": "stream",
     "text": [
      "1\n",
      "654\n",
      "754\n"
     ]
    }
   ],
   "source": [
    "what_list = [1,4,5,2,654,2,54,32]\n",
    "\n",
    "# min 최소값은? -> python에서 내장함수 min(something)\n",
    "print(min(what_list))\n",
    "\n",
    "# max 최대값은? -> python에서 내장함수 max(something)\n",
    "print(max(what_list))\n",
    "\n",
    "# sum 합은? -> python에서 내장함수 sum(something)\n",
    "print(sum(what_list))"
   ]
  },
  {
   "cell_type": "markdown",
   "metadata": {},
   "source": [
    "##### math: 필수적인 수학적 기능을 제공하는 library. 팩토리얼, 제곱근, 최대공약수, 삼각함수, 파이(pi)와 같은 상수를 포함하고 있다."
   ]
  },
  {
   "cell_type": "code",
   "execution_count": 18,
   "metadata": {},
   "outputs": [
    {
     "name": "stdout",
     "output_type": "stream",
     "text": [
      "3.141592653589793\n",
      "2.718281828459045\n",
      "3\n",
      "3.1\n",
      "3\n",
      "24\n",
      "4.0\n",
      "2.0\n"
     ]
    }
   ],
   "source": [
    "import math\n",
    "\n",
    "# math.pi: 원주율\n",
    "print(math.pi)\n",
    "\n",
    "# math.e : 자연상수\n",
    "print(math.e)\n",
    "\n",
    "# abs(): 절대값(내장함수)\n",
    "print(abs(-3))\n",
    "\n",
    "# round(): 반올림(내장함수)\n",
    "print(round(3.14, 1))\n",
    "\n",
    "# math.trunc(): 버림 함수\n",
    "print(math.trunc(3.21))\n",
    "\n",
    "# math.factorial(): 펙토리얼 계산 함수\n",
    "print(math.factorial(4))\n",
    "\n",
    "# math.pow(): 제곱\n",
    "print(math.pow(2, 2))\n",
    "\n",
    "# math.sqrt(): 제곱근\n",
    "print(math.sqrt(4))\n",
    "\n",
    "# math.cos(), math.sin(), math.tan(), math.acos(), math.asin(), math.atan(), math.log10(), math.log()"
   ]
  },
  {
   "cell_type": "markdown",
   "metadata": {},
   "source": [
    "##### itertools library"
   ]
  },
  {
   "cell_type": "code",
   "execution_count": 21,
   "metadata": {},
   "outputs": [],
   "source": [
    "from itertools import permutations, combinations, product, combinations_with_replacement"
   ]
  },
  {
   "cell_type": "code",
   "execution_count": 33,
   "metadata": {},
   "outputs": [
    {
     "name": "stdout",
     "output_type": "stream",
     "text": [
      "[('H', 'B', 'D'), ('H', 'D', 'B'), ('B', 'H', 'D'), ('B', 'D', 'H'), ('D', 'H', 'B'), ('D', 'B', 'H')]\n",
      "[('H', 'B'), ('H', 'D'), ('B', 'D')]\n",
      "[('H', 'H'), ('H', 'B'), ('H', 'D'), ('B', 'H'), ('B', 'B'), ('B', 'D'), ('D', 'H'), ('D', 'B'), ('D', 'D')]\n",
      "[('H', 'H'), ('H', 'B'), ('H', 'D'), ('B', 'B'), ('B', 'D'), ('D', 'D')]\n"
     ]
    }
   ],
   "source": [
    "data_list = ['H', 'B', 'D']\n",
    "\n",
    "# permutations: 순열\n",
    "print(list(permutations(data_list, 3)))\n",
    "\n",
    "# combinations: 조합\n",
    "print(list(combinations(data_list, 2)))\n",
    "\n",
    "# product: 중복 허용 순열\n",
    "print(list(product(data_list, data_list)))\n",
    "\n",
    "# combinations_with_replacement: 중복 허용 조합\n",
    "print(list(combinations_with_replacement(data_list, 2)))"
   ]
  },
  {
   "cell_type": "markdown",
   "metadata": {},
   "source": [
    "##### 문제 1. 알파벳 소문자로 이루어진 N개의 단어가 들어오면 조건에 따라 정렬하는 프로그램 (PDF 2회차 3번째 문제)"
   ]
  },
  {
   "cell_type": "code",
   "execution_count": 3,
   "metadata": {},
   "outputs": [
    {
     "name": "stdout",
     "output_type": "stream",
     "text": [
      "13 but i wont hesitate no more no more it cannot wait im  yours\n"
     ]
    },
    {
     "data": {
      "text/plain": [
       "['i',\n",
       " 'im',\n",
       " 'it',\n",
       " 'no',\n",
       " 'but',\n",
       " 'more',\n",
       " 'wait',\n",
       " 'wont',\n",
       " 'yours',\n",
       " 'cannot',\n",
       " 'hesitate']"
      ]
     },
     "execution_count": 3,
     "metadata": {},
     "output_type": "execute_result"
    }
   ],
   "source": [
    "data = list(input().split())\n",
    "data = list(set(data[1:]))\n",
    "data.sort()\n",
    "data = sorted(data, key = lambda x: len(x))\n",
    "data"
   ]
  },
  {
   "cell_type": "markdown",
   "metadata": {},
   "source": [
    "##### 문제 2. 뉴스 클러스터링\n",
    "http://tech.kakao.com/2017/09/27/kakao-blind-recruitment-round-1/"
   ]
  },
  {
   "cell_type": "code",
   "execution_count": 122,
   "metadata": {},
   "outputs": [],
   "source": [
    "import re\n",
    "\n",
    "def news(str1, str2):\n",
    "    str1 = str1.upper(); strs1 = []\n",
    "    str2 = str2.upper(); strs2 = []\n",
    "    union = []; inter = []\n",
    "    for i in range(0, len(str1)-1):\n",
    "        str1_ = str1[i] + str1[i+1]\n",
    "        str1_ = re.sub('[^A-Z]+', '', str1_).strip()\n",
    "        if len(str1_) == 2:\n",
    "            strs1.append(str1_)\n",
    "    for i in range(0, len(str2)-1):\n",
    "        str2_ = str2[i] + str2[i+1]\n",
    "        str2_ = re.sub('[^A-Z]+', '', str2_).strip()\n",
    "        if len(str2_) == 2:\n",
    "            strs2.append(str2_)\n",
    "    if len(strs1) >= len(strs2):\n",
    "        for i in range(0, len(strs2)):\n",
    "            if strs2[i] in strs1:\n",
    "                inter.append(strs2[i])\n",
    "            else:\n",
    "                union.append(strs2[i])\n",
    "        union = union + strs1\n",
    "    else:\n",
    "        for i in range(0, len(strs1)):\n",
    "            if strs1[i] in strs2:\n",
    "                inter.append(strs1[i])\n",
    "            else:\n",
    "                union.append(strs1[i])\n",
    "        union = union + strs2 \n",
    "    try: \n",
    "        jaccard = (len(inter)/len(union))*65536\n",
    "    except:\n",
    "        jaccard = 1*65536\n",
    "    return int(jaccard)"
   ]
  },
  {
   "cell_type": "code",
   "execution_count": 123,
   "metadata": {},
   "outputs": [
    {
     "data": {
      "text/plain": [
       "16384"
      ]
     },
     "execution_count": 123,
     "metadata": {},
     "output_type": "execute_result"
    }
   ],
   "source": [
    "str1 = 'FRANCE'\n",
    "str2 = 'french'\n",
    "news(str1, str2)"
   ]
  },
  {
   "cell_type": "code",
   "execution_count": 124,
   "metadata": {},
   "outputs": [
    {
     "data": {
      "text/plain": [
       "65536"
      ]
     },
     "execution_count": 124,
     "metadata": {},
     "output_type": "execute_result"
    }
   ],
   "source": [
    "str1 = 'handshake'\n",
    "str2 = 'shake hands'\n",
    "news(str1, str2)"
   ]
  },
  {
   "cell_type": "code",
   "execution_count": 125,
   "metadata": {},
   "outputs": [
    {
     "data": {
      "text/plain": [
       "43690"
      ]
     },
     "execution_count": 125,
     "metadata": {},
     "output_type": "execute_result"
    }
   ],
   "source": [
    "str1 = 'aa1+aa2'\n",
    "str2 = 'AAAA12'\n",
    "news(str1, str2)"
   ]
  },
  {
   "cell_type": "code",
   "execution_count": 126,
   "metadata": {},
   "outputs": [
    {
     "data": {
      "text/plain": [
       "65536"
      ]
     },
     "execution_count": 126,
     "metadata": {},
     "output_type": "execute_result"
    }
   ],
   "source": [
    "str1 = 'M*C^2'\n",
    "str2 = 'm*c^2'\n",
    "news(str1, str2) "
   ]
  }
 ],
 "metadata": {
  "kernelspec": {
   "display_name": "Python 3",
   "language": "python",
   "name": "python3"
  },
  "language_info": {
   "codemirror_mode": {
    "name": "ipython",
    "version": 3
   },
   "file_extension": ".py",
   "mimetype": "text/x-python",
   "name": "python",
   "nbconvert_exporter": "python",
   "pygments_lexer": "ipython3",
   "version": "3.7.1"
  }
 },
 "nbformat": 4,
 "nbformat_minor": 2
}
