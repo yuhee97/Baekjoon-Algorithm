{
 "cells": [
  {
   "cell_type": "markdown",
   "metadata": {},
   "source": [
    "### 2일차 2020-12-23"
   ]
  },
  {
   "cell_type": "markdown",
   "metadata": {},
   "source": [
    "##### deque library의 여러 함수 기능"
   ]
  },
  {
   "cell_type": "code",
   "execution_count": 9,
   "metadata": {},
   "outputs": [],
   "source": [
    "from collections import deque"
   ]
  },
  {
   "cell_type": "code",
   "execution_count": 21,
   "metadata": {},
   "outputs": [
    {
     "name": "stdout",
     "output_type": "stream",
     "text": [
      "deque([1, 4, 3, 7, 16])\n",
      "5\n",
      "1\n",
      "deque([1, 4, 3, 7, 16, 11, 44])\n",
      "deque([44, 11, 1, 4, 3, 7, 16, 11, 44])\n",
      "0\n",
      "deque([1611888, 44, 11, 1, 4, 3, 7, 16, 11, 44])\n",
      "deque([44, 11, 1, 4, 3, 7, 16, 11, 44])\n",
      "deque([44, 11, 16, 7, 3, 4, 1, 11, 44])\n",
      "deque([44, 44, 11, 16, 7, 3, 4, 1, 11])\n",
      "deque([1, 11, 44, 44, 11, 16, 7, 3, 4])\n",
      "deque([])\n"
     ]
    }
   ],
   "source": [
    "deque_list = deque()\n",
    "deque_list.append(1);deque_list.append(4);deque_list.append(3);deque_list.append(7);deque_list.append(16)\n",
    "print(deque_list)\n",
    "\n",
    "# len(a): 요소 개수\n",
    "print(len(deque_list))\n",
    "\n",
    "# .count(s): s의 개수를 반환\n",
    "print(deque_list.count(1))\n",
    "\n",
    "deque_list1 = deque()\n",
    "deque_list1.append(11);deque_list1.append(44)\n",
    "\n",
    "# .extend(something): 오른쪽에 합치기\n",
    "deque_list.extend(deque_list1)\n",
    "print(deque_list)\n",
    "\n",
    "# .extendleft(something): 왼쪽에 합치기\n",
    "deque_list.extendleft(deque_list1)\n",
    "print(deque_list)\n",
    "\n",
    "# .index(something): something의 위치 반환 -> 처음 확인되는 값의 인덱스로\n",
    "print(deque_list.index(44))\n",
    "\n",
    "# .insert(index, something): index 위치에 something 삽입\n",
    "deque_list.insert(0, 1611888)\n",
    "print(deque_list)\n",
    "\n",
    "# .remove(something): something 값을 삭제, 없으면 에러 발생\n",
    "deque_list.remove(1611888)\n",
    "print(deque_list)\n",
    "\n",
    "# .reverse(): 순서를 뒤집는다.\n",
    "deque_list.reverse()\n",
    "print(deque_list)\n",
    "\n",
    "# .rotate(n=1): .appendleft(.pop()) 와 같은 값, 오른쪽 값을 왼쪽 끝으로 보낸다.\n",
    "deque_list.rotate(1)\n",
    "print(deque_list)\n",
    "deque_list.rotate(2)\n",
    "print(deque_list)\n",
    "\n",
    "# .clear(): 비운다.\n",
    "deque_list.clear()\n",
    "print(deque_list)"
   ]
  },
  {
   "cell_type": "markdown",
   "metadata": {},
   "source": [
    "##### list의 여러 함수 기능"
   ]
  },
  {
   "cell_type": "code",
   "execution_count": 30,
   "metadata": {},
   "outputs": [],
   "source": [
    "# deque와 동일 (rotate() x, popleft() x, extendleft() x) "
   ]
  },
  {
   "cell_type": "code",
   "execution_count": 103,
   "metadata": {},
   "outputs": [],
   "source": [
    "a = []    \n",
    "for i in range(n):\n",
    "    line = []              \n",
    "    for j in range(2):\n",
    "        line.append(0)     \n",
    "    a.append(line)        "
   ]
  },
  {
   "cell_type": "code",
   "execution_count": 156,
   "metadata": {},
   "outputs": [],
   "source": [
    "arr1_arr2 = [[1,2], [2, 3]]\n",
    "arr2_arr1 = [[1,4], [7, 3]]"
   ]
  },
  {
   "cell_type": "code",
   "execution_count": 158,
   "metadata": {},
   "outputs": [
    {
     "data": {
      "text/plain": [
       "0"
      ]
     },
     "execution_count": 158,
     "metadata": {},
     "output_type": "execute_result"
    }
   ],
   "source": [
    "1 if 1>4 else 0    "
   ]
  },
  {
   "cell_type": "markdown",
   "metadata": {},
   "source": [
    "##### 문제 1. 비밀지도\n",
    "\n",
    "https://tech.kakao.com/2017/09/27/kakao-blind-recruitment-round-1/"
   ]
  },
  {
   "cell_type": "code",
   "execution_count": 174,
   "metadata": {},
   "outputs": [],
   "source": [
    "def secret_map(n, arr1, arr2):\n",
    "    arr1_arr2 = []; arr2_arr1 = []; total_sum = []\n",
    "    for i in range(0, n):\n",
    "        j = 0\n",
    "        arr_1 = []; arr_2 = []\n",
    "        arr1_v = arr1[i]\n",
    "        arr2_v = arr2[i]\n",
    "        while(True):\n",
    "            arr_1.insert(0, arr1_v%2)\n",
    "            arr_2.insert(0, arr2_v%2)\n",
    "            arr1_v = arr1_v//2\n",
    "            arr2_v = arr2_v//2\n",
    "            j+=1\n",
    "            if j == n:\n",
    "                break\n",
    "        arr1_arr2.append(arr_1)\n",
    "        arr2_arr1.append(arr_2)\n",
    "    for k in range(0, n):\n",
    "        total = '';\n",
    "        for h in range(0, n):\n",
    "            total = total + (\"#\" if (arr1_arr2[k][h]==1) or (arr2_arr1[k][h]==1) else \" \")\n",
    "        total_sum.append(total)\n",
    "    return total_sum"
   ]
  },
  {
   "cell_type": "code",
   "execution_count": 168,
   "metadata": {},
   "outputs": [],
   "source": [
    "n = 5\n",
    "arr1 = [9, 20, 28, 18, 11]\n",
    "arr2 = [30, 1, 21, 17, 28]"
   ]
  },
  {
   "cell_type": "code",
   "execution_count": 175,
   "metadata": {},
   "outputs": [
    {
     "data": {
      "text/plain": [
       "['#####', '# # #', '### #', '#  ##', '#####']"
      ]
     },
     "execution_count": 175,
     "metadata": {},
     "output_type": "execute_result"
    }
   ],
   "source": [
    "secret_map(n, arr1, arr2)"
   ]
  },
  {
   "cell_type": "code",
   "execution_count": 176,
   "metadata": {},
   "outputs": [],
   "source": [
    "n = 6\n",
    "arr1= [46, 33, 33, 22, 31, 50]\n",
    "arr2 = [27, 56, 19, 14, 14, 10]"
   ]
  },
  {
   "cell_type": "code",
   "execution_count": 177,
   "metadata": {},
   "outputs": [
    {
     "data": {
      "text/plain": [
       "['######', '###  #', '##  ##', ' #### ', ' #####', '### # ']"
      ]
     },
     "execution_count": 177,
     "metadata": {},
     "output_type": "execute_result"
    }
   ],
   "source": [
    "secret_map(n, arr1, arr2)"
   ]
  }
 ],
 "metadata": {
  "kernelspec": {
   "display_name": "Python 3",
   "language": "python",
   "name": "python3"
  },
  "language_info": {
   "codemirror_mode": {
    "name": "ipython",
    "version": 3
   },
   "file_extension": ".py",
   "mimetype": "text/x-python",
   "name": "python",
   "nbconvert_exporter": "python",
   "pygments_lexer": "ipython3",
   "version": "3.7.1"
  }
 },
 "nbformat": 4,
 "nbformat_minor": 2
}
