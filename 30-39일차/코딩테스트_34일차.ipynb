{
 "cells": [
  {
   "cell_type": "markdown",
   "metadata": {},
   "source": [
    "### 2021-02-05 34일차"
   ]
  },
  {
   "cell_type": "markdown",
   "metadata": {},
   "source": [
    "##### 문제 1:  영화감독 숌(실버 5)\n",
    "https://www.acmicpc.net/problem/1436"
   ]
  },
  {
   "cell_type": "code",
   "execution_count": 7,
   "metadata": {},
   "outputs": [
    {
     "name": "stdout",
     "output_type": "stream",
     "text": [
      "2\n",
      "1666\n"
     ]
    }
   ],
   "source": [
    "# 완탐\n",
    "\n",
    "# 숫자 N 입력 받기\n",
    "N = int(input()); c = 0\n",
    "\n",
    "for i in range(666, 10000001):\n",
    "    if '666' in str(i):\n",
    "        c += 1\n",
    "        if N == c:\n",
    "            print(i)\n",
    "            break"
   ]
  },
  {
   "cell_type": "markdown",
   "metadata": {},
   "source": [
    "##### 문제 2:  보물섬(골드 5)\n",
    "https://www.acmicpc.net/problem/2589"
   ]
  },
  {
   "cell_type": "code",
   "execution_count": 42,
   "metadata": {},
   "outputs": [
    {
     "name": "stdout",
     "output_type": "stream",
     "text": [
      "5 7\n",
      "WLLWWWL\n",
      "LLLWLLL\n",
      "LWLWLWW\n",
      "LWLWLLL\n",
      "WLLWLWW\n",
      "8\n"
     ]
    }
   ],
   "source": [
    "import sys\n",
    "from collections import deque\n",
    "from itertools import combinations\n",
    "\n",
    "# 보물 지도의 세로, 가로의 크기\n",
    "N, M = map(int, input().split()) # sys.stdin.readline()\n",
    "# L, W로 표시된 보물 지도 저장 공간\n",
    "graph = []\n",
    "\n",
    "# L, W로 표시된 보물 지도 입력 받기(세로를 기준으로)\n",
    "for _ in range(N):\n",
    "    graph.append(list(input()))\n",
    "    \n",
    "# 상하좌우 이동\n",
    "dx = [-1, 0, 1, 0]\n",
    "dy = [0, -1, 0, 1]\n",
    "\n",
    "# 육지인 경우만 index 저장\n",
    "\n",
    "idx = [] # 저장소\n",
    "\n",
    "for i in range(N):\n",
    "    for j in range(M):\n",
    "        if graph[i][j] == 'L':\n",
    "            idx.append((i, j))\n",
    "\n",
    "\n",
    "# 너비우선탐색\n",
    "def bfs(start_x, start_y):\n",
    "    queue = deque()\n",
    "    visited = [[0] * M for _ in range(N)]\n",
    "    queue.append((start_x, start_y))\n",
    "    visited[start_x][start_y] = 1\n",
    "    while queue:\n",
    "        x, y = queue.popleft()\n",
    "        for i in range(4):\n",
    "            nx = x + dx[i]\n",
    "            ny = y + dy[i]\n",
    "            if 0 <= nx < N and 0 <= ny < M and visited[nx][ny] == 0 and graph[nx][ny] == 'L':\n",
    "                visited[nx][ny] = visited[x][y] + 1\n",
    "                queue.append((nx, ny))\n",
    "    return visited\n",
    "\n",
    "long = [] # 저장소\n",
    "\n",
    "for i in idx:\n",
    "    v = bfs(i[0], i[1]); lonng = 0\n",
    "    for j in range(N):\n",
    "        for k in range(M):\n",
    "            if v[j][k] > lonng:\n",
    "                lonng = v[j][k]\n",
    "    long.append(lonng)  \n",
    "    \n",
    "print(max(long)-1)"
   ]
  }
 ],
 "metadata": {
  "kernelspec": {
   "display_name": "Python 3",
   "language": "python",
   "name": "python3"
  },
  "language_info": {
   "codemirror_mode": {
    "name": "ipython",
    "version": 3
   },
   "file_extension": ".py",
   "mimetype": "text/x-python",
   "name": "python",
   "nbconvert_exporter": "python",
   "pygments_lexer": "ipython3",
   "version": "3.7.1"
  }
 },
 "nbformat": 4,
 "nbformat_minor": 2
}
