{
 "cells": [
  {
   "cell_type": "markdown",
   "metadata": {},
   "source": [
    "### 2021-01-30  30일차\n"
   ]
  },
  {
   "cell_type": "markdown",
   "metadata": {},
   "source": [
    "##### 문제 1: 종이의 개수(실버 2)\n",
    "https://www.acmicpc.net/problem/1780"
   ]
  },
  {
   "cell_type": "code",
   "execution_count": 90,
   "metadata": {},
   "outputs": [
    {
     "name": "stdout",
     "output_type": "stream",
     "text": [
      "9\n",
      "0 0 0 1 1 1 -1 -1 -1\n",
      "0 0 0 1 1 1 -1 -1 -1\n",
      "0 0 0 1 1 1 -1 -1 -1\n",
      "1 1 1 0 0 0 0 0 0\n",
      "1 1 1 0 0 0 0 0 0\n",
      "1 1 1 0 0 0 0 0 0\n",
      "0 1 -1 0 1 -1 0 1 -1\n",
      "0 -1 1 0 1 -1 0 1 -1\n",
      "0 1 -1 1 0 -1 0 1 -1\n",
      "10\n",
      "12\n",
      "11\n"
     ]
    }
   ],
   "source": [
    "import sys\n",
    "\n",
    "N = int(input()) # sys.stdin.readline()\n",
    "matrix = []; num = [0] * 3\n",
    "\n",
    "for _ in range(N):\n",
    "    matrix.append(list(map(int, input().split())))\n",
    "\n",
    "    \n",
    "def search(N, sx, sy):\n",
    "    for i in range(sx, sx + N):\n",
    "        for j in range(sy, sy + N):\n",
    "            if matrix[i][j] != matrix[sx][sy]:\n",
    "                return False\n",
    "    return True\n",
    "    \n",
    "def cut(N, startx, starty):\n",
    "    global num\n",
    "    if search(N, startx, starty) == True:\n",
    "        num[matrix[startx][starty]] += 1\n",
    "        return\n",
    "    else:\n",
    "        cut(N//3, startx, starty)\n",
    "        cut(N//3, startx, starty + N//3)\n",
    "        cut(N//3, startx, starty + 2*(N//3))\n",
    "        cut(N//3, startx + N//3, starty)\n",
    "        cut(N//3, startx + N//3, starty + N//3)\n",
    "        cut(N//3, startx + N//3, starty + 2*(N//3))\n",
    "        cut(N//3, startx + 2*(N//3), starty)\n",
    "        cut(N//3, startx + 2*(N//3), starty + N//3)\n",
    "        cut(N//3, startx + 2*(N//3), starty + 2*(N//3))\n",
    "        \n",
    "cut(N, 0, 0)\n",
    "\n",
    "print(num[2])\n",
    "print(num[0])\n",
    "print(num[1])"
   ]
  },
  {
   "cell_type": "markdown",
   "metadata": {},
   "source": [
    "##### 문제 2: 두 용액(골드 5)\n",
    "https://www.acmicpc.net/problem/2470"
   ]
  },
  {
   "cell_type": "code",
   "execution_count": 8,
   "metadata": {},
   "outputs": [
    {
     "name": "stdout",
     "output_type": "stream",
     "text": [
      "9\n",
      "-999 -500 -200 7 33 76 455 507 800\n",
      "-500 507\n"
     ]
    }
   ],
   "source": [
    "import sys\n",
    "from itertools import combinations\n",
    "\n",
    "N = int(input()) # sys.stdin.readline()\n",
    "lis = list(map(int, input().split()))\n",
    "\n",
    "combi = list(combinations(lis, 2))\n",
    "combi_sum = list(map(abs, list(map(sum, combi))))\n",
    "idx = combi_sum.index(sorted(combi_sum)[0])\n",
    "\n",
    "if combi[idx][0] > combi[idx][1]:\n",
    "    print(combi[idx][1], combi[idx][0])\n",
    "else:\n",
    "    print(combi[idx][0], combi[idx][1])\n",
    "    \n",
    "# 메모리 초과.."
   ]
  },
  {
   "cell_type": "code",
   "execution_count": 1,
   "metadata": {},
   "outputs": [
    {
     "name": "stdout",
     "output_type": "stream",
     "text": [
      "9\n",
      "-999 -500 -200 7 33 76 455 507 800\n",
      "-500 507 "
     ]
    }
   ],
   "source": [
    "import sys\n",
    "from itertools import combinations\n",
    "\n",
    "N = int(input()) # sys.stdin.readline()\n",
    "lis = list(map(int, input().split()))\n",
    "\n",
    "lis.sort()\n",
    "\n",
    "def binary():\n",
    "    \n",
    "    left = 0 # global 등... 잘 쓰기..\n",
    "    right = N - 1\n",
    "    value = 1e11\n",
    "    v = 1e11\n",
    "    \n",
    "    while left < right:\n",
    "        \n",
    "        v = lis[left] + lis[right]\n",
    "        \n",
    "        if abs(v) < abs(value):\n",
    "            value = v\n",
    "            a = lis[left]\n",
    "            b = lis[right]\n",
    "        \n",
    "        if v > 0:\n",
    "            right -= 1\n",
    "        else:\n",
    "            left += 1\n",
    "            \n",
    "    return a, b\n",
    "            \n",
    "for i in binary():\n",
    "    print(i, end = \" \")"
   ]
  }
 ],
 "metadata": {
  "kernelspec": {
   "display_name": "Python 3",
   "language": "python",
   "name": "python3"
  },
  "language_info": {
   "codemirror_mode": {
    "name": "ipython",
    "version": 3
   },
   "file_extension": ".py",
   "mimetype": "text/x-python",
   "name": "python",
   "nbconvert_exporter": "python",
   "pygments_lexer": "ipython3",
   "version": "3.7.1"
  }
 },
 "nbformat": 4,
 "nbformat_minor": 2
}
