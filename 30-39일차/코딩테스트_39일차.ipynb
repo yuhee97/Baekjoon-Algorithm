{
 "cells": [
  {
   "cell_type": "markdown",
   "metadata": {},
   "source": [
    "### 2021-02-14 39일차"
   ]
  },
  {
   "cell_type": "markdown",
   "metadata": {},
   "source": [
    "##### 문제 1: AC(실버 2)\n",
    "https://www.acmicpc.net/problem/5430"
   ]
  },
  {
   "cell_type": "code",
   "execution_count": 14,
   "metadata": {},
   "outputs": [
    {
     "name": "stdout",
     "output_type": "stream",
     "text": [
      "1\n",
      "RDD\n",
      "4\n",
      "[1,2,3,4]\n",
      "[2,1]\n"
     ]
    }
   ],
   "source": [
    "import sys\n",
    "\n",
    "T = int(input())\n",
    "\n",
    "for _ in range(T):\n",
    "    conf = True\n",
    "    p = input().rstrip() # sys.stdin.readline()\n",
    "    n = int(input())\n",
    "    x = input().rstrip(); x = x[1:len(x)-1]; count = 0\n",
    "    for i in range(len(p)):\n",
    "        if p[i] == 'R':\n",
    "            count += 1\n",
    "        else:\n",
    "            if len(x) == 0:\n",
    "                conf = False\n",
    "                break\n",
    "            if count % 2 == 0:\n",
    "                x = x[2:]\n",
    "            else: \n",
    "                x = x[0:len(x)-2]\n",
    "    if not conf:\n",
    "        print('error')\n",
    "    else:\n",
    "        if count % 2 == 0:\n",
    "            print('[' + x + ']')\n",
    "        else:\n",
    "            x = x[::-1]\n",
    "            print('[' + x + ']')"
   ]
  },
  {
   "cell_type": "markdown",
   "metadata": {},
   "source": [
    "##### 문제 2 트리(실버 1)\n",
    "https://www.acmicpc.net/problem/1068"
   ]
  },
  {
   "cell_type": "code",
   "execution_count": 46,
   "metadata": {},
   "outputs": [
    {
     "name": "stdout",
     "output_type": "stream",
     "text": [
      "5\n",
      "4 4 4 4 -1\n",
      "1\n",
      "3\n"
     ]
    }
   ],
   "source": [
    "import sys\n",
    "\n",
    "N = int(input())\n",
    "g = list(map(int, input().split()))\n",
    "graph = [[] for _ in range(N)]\n",
    "visited = [False] * N  \n",
    "R = int(input()) \n",
    "\n",
    "for i in range(N):\n",
    "    if g[i] == -1:\n",
    "        start = i\n",
    "        continue\n",
    "    if i == R:\n",
    "        continue\n",
    "    graph[g[i]].append(i)\n",
    "    \n",
    "c = 0\n",
    "\n",
    "def dfs(graph, visited, start):\n",
    "    global c\n",
    "    visited[start] = True\n",
    "    if graph[start] == []:\n",
    "        c += 1\n",
    "    for i in graph[start]:\n",
    "        if visited[i] == False:\n",
    "            dfs(graph, visited, i)\n",
    "    return c\n",
    "\n",
    "if start == R:\n",
    "    print(0)\n",
    "else:\n",
    "    print(dfs(graph, visited, start))"
   ]
  }
 ],
 "metadata": {
  "kernelspec": {
   "display_name": "Python 3",
   "language": "python",
   "name": "python3"
  },
  "language_info": {
   "codemirror_mode": {
    "name": "ipython",
    "version": 3
   },
   "file_extension": ".py",
   "mimetype": "text/x-python",
   "name": "python",
   "nbconvert_exporter": "python",
   "pygments_lexer": "ipython3",
   "version": "3.7.1"
  }
 },
 "nbformat": 4,
 "nbformat_minor": 2
}
