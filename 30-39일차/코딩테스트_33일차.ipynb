{
 "cells": [
  {
   "cell_type": "markdown",
   "metadata": {},
   "source": [
    "### 2021-02-04 33일차"
   ]
  },
  {
   "cell_type": "markdown",
   "metadata": {},
   "source": [
    "##### 문제 1: 소수 구하기(실버 2)\n",
    "https://www.acmicpc.net/problem/1929"
   ]
  },
  {
   "cell_type": "code",
   "execution_count": 12,
   "metadata": {},
   "outputs": [
    {
     "name": "stdout",
     "output_type": "stream",
     "text": [
      "3 16\n",
      "3\n",
      "5\n",
      "7\n",
      "11\n",
      "13\n"
     ]
    }
   ],
   "source": [
    "M, N = map(int, input().split()) # sys.stdin.readline()\n",
    "num = []; lis = []\n",
    "\n",
    "for i in range(M, N+1):\n",
    "    num.append(i)\n",
    "    \n",
    "for j in range(2, 1000001):\n",
    "    lis.append(j)\n",
    "    \n",
    "for i in range(M, N+1):\n",
    "    for j in lis:\n",
    "        if j != 1 and i > j and i % j == 0:\n",
    "            num.remove(i)\n",
    "            break\n",
    "            \n",
    "for i in num:\n",
    "    print(i)"
   ]
  },
  {
   "cell_type": "code",
   "execution_count": 75,
   "metadata": {},
   "outputs": [
    {
     "name": "stdout",
     "output_type": "stream",
     "text": [
      "3 16\n",
      "3\n",
      "5\n",
      "7\n",
      "11\n",
      "13\n"
     ]
    }
   ],
   "source": [
    "def prime(n):\n",
    "    if n <= 1:\n",
    "        return False\n",
    "    i = 2\n",
    "    while i * i <= n:\n",
    "        if n % i == 0:\n",
    "            return False\n",
    "        i += 1\n",
    "    return True\n",
    "\n",
    "M, N = map(int, input().split())\n",
    "\n",
    "for i in range(M, N+1):\n",
    "    if prime(i):\n",
    "        print(i)"
   ]
  },
  {
   "cell_type": "markdown",
   "metadata": {},
   "source": [
    "##### 문제 2: 연속합(실버 2)\n",
    "https://www.acmicpc.net/problem/1912"
   ]
  },
  {
   "cell_type": "code",
   "execution_count": 71,
   "metadata": {},
   "outputs": [
    {
     "name": "stdout",
     "output_type": "stream",
     "text": [
      "5\n",
      "-1 -2 -3 -4 -5\n",
      "-1\n"
     ]
    }
   ],
   "source": [
    "import sys\n",
    "\n",
    "N = int(input())\n",
    "num = list(map(int, input().split())) # sys.stdin.readline()\n",
    "\n",
    "dp = [-1000] * N; \n",
    "SUM = num[0]\n",
    "dp[0] = SUM \n",
    "\n",
    "for i in range(1, N):\n",
    "    if num[i] >= 0:\n",
    "        dp[i] = max(dp[i-1], SUM + num[i], num[i])\n",
    "        if SUM + num[i] < 0:\n",
    "            SUM = 0\n",
    "        else:\n",
    "            SUM += num[i]\n",
    "    else:\n",
    "        if SUM + num[i] < 0:\n",
    "            SUM = 0\n",
    "            dp[i] = max(dp[i-1], num[i])\n",
    "        else:\n",
    "            SUM += num[i]\n",
    "            dp[i] = dp[i-1]\n",
    "    \n",
    "if N == 2:\n",
    "    if num[0] > 0 and num[1] > 0:\n",
    "        print(sum(num))\n",
    "    else:\n",
    "        print(max(num))\n",
    "else:\n",
    "    print(max(dp))"
   ]
  }
 ],
 "metadata": {
  "kernelspec": {
   "display_name": "Python 3",
   "language": "python",
   "name": "python3"
  },
  "language_info": {
   "codemirror_mode": {
    "name": "ipython",
    "version": 3
   },
   "file_extension": ".py",
   "mimetype": "text/x-python",
   "name": "python",
   "nbconvert_exporter": "python",
   "pygments_lexer": "ipython3",
   "version": "3.7.1"
  }
 },
 "nbformat": 4,
 "nbformat_minor": 2
}
