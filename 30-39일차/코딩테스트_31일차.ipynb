{
 "cells": [
  {
   "cell_type": "markdown",
   "metadata": {},
   "source": [
    "### 2021-01-31 31일차"
   ]
  },
  {
   "cell_type": "markdown",
   "metadata": {},
   "source": [
    "##### 문제 1: 촌수 계산(실버 2)\n",
    "https://www.acmicpc.net/problem/2644"
   ]
  },
  {
   "cell_type": "code",
   "execution_count": 8,
   "metadata": {},
   "outputs": [
    {
     "name": "stdout",
     "output_type": "stream",
     "text": [
      "9\n",
      "7 3\n",
      "7\n",
      "1 2\n",
      "1 3\n",
      "2 7\n",
      "2 8\n",
      "2 9\n",
      "4 5\n",
      "4 6\n",
      "3\n"
     ]
    }
   ],
   "source": [
    "from collections import deque\n",
    "\n",
    "N = int(input()) # 전체 인원\n",
    "p1, p2 = map(int, input().split()) # 촌수를 구해야하는 2명\n",
    "M = int(input()) # 관계의 갯수\n",
    "graph = [[] for _ in range(N+1)] # 관계를 저장할 공간\n",
    "visited = [0] * (N+1) # 방문 표시\n",
    "\n",
    "for _ in range(1, M+1): # M개의 관계 입력받아서 grpah에 저장\n",
    "    a, b = map(int, input().split())\n",
    "    graph[a].append(b)\n",
    "    graph[b].append(a)\n",
    "\n",
    "def bfs(person1, person2):\n",
    "    queue = deque()\n",
    "    queue.append(person1)\n",
    "    visited[person1] = 1\n",
    "    while queue:\n",
    "        x = queue.popleft()\n",
    "        if x == person2:\n",
    "            break\n",
    "        for i in graph[x]:\n",
    "            if visited[i] == 0:\n",
    "                queue.append(i)\n",
    "                visited[i] = visited[x] + 1\n",
    "    return (visited[person2] - 1)\n",
    "\n",
    "print(bfs(p1, p2))"
   ]
  },
  {
   "cell_type": "markdown",
   "metadata": {},
   "source": [
    "##### 문제 2: 벽 부수고 이동하기 (골드 4)\n",
    "https://www.acmicpc.net/problem/2206"
   ]
  },
  {
   "cell_type": "code",
   "execution_count": 65,
   "metadata": {},
   "outputs": [
    {
     "name": "stdout",
     "output_type": "stream",
     "text": [
      "4 4\n",
      "0111\n",
      "1111\n",
      "1111\n",
      "1110\n",
      "-1\n"
     ]
    }
   ],
   "source": [
    "import sys\n",
    "from collections import deque\n",
    "\n",
    "N, M = map(int, input().split()) # N. M 값 입력받기 sys.stdin.readline()\n",
    "graph = [] # 0, 1 저장 공간 \n",
    "visited =  [[[0 for _ in range(M)] for _ in range(N)] for _ in range(2)] \n",
    "\n",
    "for i in range(N): # 0, 1 여부 저장\n",
    "    graph.append(list(map(int, input().strip())))\n",
    "    \n",
    "dx = [-1, 0, 1, 0] # 동서남북\n",
    "dy = [0, -1, 0, 1]\n",
    "\n",
    "def bfs():\n",
    "    queue = deque()\n",
    "    queue.append((0, 0, 0))\n",
    "    visited[0][0][0] = 1\n",
    "    while queue:\n",
    "        c, x, y = queue.popleft()\n",
    "        if x == N-1 and y == M-1:\n",
    "            return visited[c][x][y]\n",
    "        for i in range(4):\n",
    "            nx = x + dx[i]\n",
    "            ny = y + dy[i]\n",
    "            if 0 <= nx < N and 0 <= ny < M and visited[c][nx][ny] == 0:\n",
    "                if graph[nx][ny] == 0:\n",
    "                    visited[c][nx][ny] = visited[c][x][y] + 1\n",
    "                    queue.append((c, nx, ny))\n",
    "                elif c == 0: # 방문한 적이 없으면\n",
    "                    visited[1][nx][ny] = visited[c][x][y] + 1\n",
    "                    queue.append((1, nx, ny))\n",
    "                    \n",
    "v = bfs()\n",
    "if v == None:\n",
    "    print(-1)\n",
    "else:\n",
    "    print(v)"
   ]
  },
  {
   "cell_type": "code",
   "execution_count": null,
   "metadata": {},
   "outputs": [],
   "source": [
    "import sys\n",
    "from collections import deque\n",
    "import copy\n",
    "\n",
    "N, M = map(int, sys.stdin.readline().split()) # N. M 값 입력받기 sys.stdin.readline()\n",
    "graph = [] # 0, 1 저장 공간 \n",
    "lis = [] # 벽에 따른 최단 경로 저장소\n",
    "INF = int(1e9)\n",
    "visited =  [[0] * M for _ in range(N)] \n",
    "\n",
    "for i in range(N): # 0, 1 여부 저장\n",
    "    graph.append(list(map(int, sys.stdin.readline().strip())))\n",
    "    \n",
    "dx = [-1, 0, 1, 0] # 동서남북\n",
    "dy = [0, -1, 0, 1]\n",
    "idx_0 = [] # 0인 index 저장 공간\n",
    "\n",
    "for i in range(N): # 1인 index 저장하기 \n",
    "    for j in range(M):\n",
    "        if graph[i][j] == 1:\n",
    "            idx_0.append([i, j])\n",
    "\n",
    "def bfs(g):\n",
    "    queue = deque()\n",
    "    visited =  [[0] * M for _ in range(N)] # 방문 여부 파악\n",
    "    visited[0][0] = 1\n",
    "    queue.append((0, 0))\n",
    "    while queue:\n",
    "        x, y = queue.popleft()\n",
    "        for i in range(4):\n",
    "            nx = x + dx[i]\n",
    "            ny = y + dy[i]\n",
    "            if 0 <= nx < N and 0 <= ny < M and visited[nx][ny] == 0 and g[nx][ny] == 0:\n",
    "                visited[nx][ny] = visited[x][y] + 1\n",
    "                queue.append((nx, ny))\n",
    "                if x == N-1 and y == M-1:\n",
    "                    return visited[N-1][M-1]\n",
    "                    break\n",
    "    return INF\n",
    "    \n",
    "for i in range(-1, len(idx_0)):\n",
    "    if i == -1:\n",
    "        lis.append(bfs(graph))\n",
    "        continue\n",
    "    g = copy.deepcopy(graph)\n",
    "    gx, gy = idx_0[i][0], idx_0[i][1]\n",
    "    g[gx][gy] = 0\n",
    "    lis.append(bfs(g))\n",
    "    \n",
    "if min(lis) == INF:\n",
    "    print(-1)\n",
    "else:\n",
    "    print(min(lis))"
   ]
  }
 ],
 "metadata": {
  "kernelspec": {
   "display_name": "Python 3",
   "language": "python",
   "name": "python3"
  },
  "language_info": {
   "codemirror_mode": {
    "name": "ipython",
    "version": 3
   },
   "file_extension": ".py",
   "mimetype": "text/x-python",
   "name": "python",
   "nbconvert_exporter": "python",
   "pygments_lexer": "ipython3",
   "version": "3.7.1"
  }
 },
 "nbformat": 4,
 "nbformat_minor": 2
}
