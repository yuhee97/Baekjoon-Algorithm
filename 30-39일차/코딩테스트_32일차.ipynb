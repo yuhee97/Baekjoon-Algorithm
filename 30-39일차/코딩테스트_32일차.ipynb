{
 "cells": [
  {
   "cell_type": "markdown",
   "metadata": {},
   "source": [
    "### 2021-02-03 32일차"
   ]
  },
  {
   "cell_type": "markdown",
   "metadata": {},
   "source": [
    "##### 문제 1: 통계학(실버 4)\n",
    "https://www.acmicpc.net/problem/2108"
   ]
  },
  {
   "cell_type": "code",
   "execution_count": 47,
   "metadata": {},
   "outputs": [
    {
     "name": "stdout",
     "output_type": "stream",
     "text": [
      "1\n",
      "4000\n",
      "4000\n",
      "4000\n",
      "0\n"
     ]
    }
   ],
   "source": [
    "import sys\n",
    "\n",
    "N = int(input())\n",
    "num1 = []; num2 = []\n",
    "\n",
    "for _ in range(N):\n",
    "    c = 1\n",
    "    input_v = int(input())\n",
    "    if input_v in num2:\n",
    "        c += 1\n",
    "        num1.append([input_v, c]) # sys.stdin.readline()\n",
    "        num2.append(input_v)\n",
    "        continue\n",
    "    num1.append([input_v, c])\n",
    "    num2.append(input_v)\n",
    "\n",
    "if len(set(num2)) != N:\n",
    "    num1 = sorted(num1, key = lambda x : (-x[1], x[0]))\n",
    "num2.sort()\n",
    "\n",
    "print(round(sum(num2)/N))\n",
    "\n",
    "print(num2[N//2])\n",
    "    \n",
    "if len(set(num2)) != N:\n",
    "    if num1[0][1] == num1[1][1]:  \n",
    "        print(num1[1][0])\n",
    "    else:\n",
    "        print(num1[0][0])\n",
    "else:\n",
    "    if N > 1:\n",
    "        num2[1]\n",
    "    else:\n",
    "        num2[0]\n",
    "\n",
    "\n",
    "print(num2[-1] - num2[0])"
   ]
  },
  {
   "cell_type": "code",
   "execution_count": 65,
   "metadata": {},
   "outputs": [
    {
     "name": "stdout",
     "output_type": "stream",
     "text": [
      "5\n",
      "-1\n",
      "-2\n",
      "-3\n",
      "-1\n",
      "-2\n",
      "-2\n",
      "-2\n",
      "-1\n",
      "2\n"
     ]
    }
   ],
   "source": [
    "# 시간 초과... 잘 생각하고 코드 짜기\n",
    "import sys\n",
    "from collections import Counter\n",
    "\n",
    "N = int(input()) # sys.stdin.readline()\n",
    "num = []\n",
    "\n",
    "for _ in range(N):\n",
    "    num.append(int(input()))\n",
    "\n",
    "num.sort()\n",
    "\n",
    "print(round(sum(num)/N))\n",
    "print(num[N//2])\n",
    "    \n",
    "num_counter = Counter(num)\n",
    "\n",
    "if N == 1:\n",
    "    print(num[0])\n",
    "else:\n",
    "    num_counter = sorted(num_counter.most_common(), key = lambda x: (-x[1], x[0]))\n",
    "    if num_counter[0][1] == num_counter[1][1]:\n",
    "        print(num_counter[1][0])\n",
    "    else:\n",
    "        print(num_counter[0][0])\n",
    "        \n",
    "print(num[-1] - num[0])"
   ]
  }
 ],
 "metadata": {
  "kernelspec": {
   "display_name": "Python 3",
   "language": "python",
   "name": "python3"
  },
  "language_info": {
   "codemirror_mode": {
    "name": "ipython",
    "version": 3
   },
   "file_extension": ".py",
   "mimetype": "text/x-python",
   "name": "python",
   "nbconvert_exporter": "python",
   "pygments_lexer": "ipython3",
   "version": "3.7.1"
  }
 },
 "nbformat": 4,
 "nbformat_minor": 2
}
