{
 "cells": [
  {
   "cell_type": "markdown",
   "metadata": {},
   "source": [
    "### 2021-02-11 38일차"
   ]
  },
  {
   "cell_type": "markdown",
   "metadata": {},
   "source": [
    "##### 문제 2: 순열 사이클(실버 1)\n",
    "https://www.acmicpc.net/problem/10451"
   ]
  },
  {
   "cell_type": "code",
   "execution_count": 17,
   "metadata": {
    "scrolled": true
   },
   "outputs": [
    {
     "name": "stdout",
     "output_type": "stream",
     "text": [
      "1\n",
      "8\n",
      "3 2 7 8 1 4 5 6\n",
      "3\n"
     ]
    }
   ],
   "source": [
    "import sys\n",
    "from collections import deque\n",
    "\n",
    "T = int(input())\n",
    "\n",
    "def bfs(n, g):\n",
    "    visited = [0] * (n+1)\n",
    "    queue = deque(); count = 0\n",
    "    for i in range(1, n+1):\n",
    "        if visited[i] == 0:\n",
    "            queue.append(i)\n",
    "            visited[i] = 1\n",
    "            count += 1\n",
    "            while queue:\n",
    "                nx = queue.popleft()\n",
    "                for j in g[nx]:\n",
    "                    if visited[j] == 0:\n",
    "                        queue.append(j)\n",
    "                        visited[j] = 1\n",
    "    return count\n",
    "    \n",
    "for i in range(T):\n",
    "    N = int(input())\n",
    "    graph = [[] for _ in range(N+1)]\n",
    "    num = list(map(int, input().split()))\n",
    "    for j in range(1, N+1):\n",
    "        graph[j].append(num[j-1])\n",
    "    print(bfs(N, graph))"
   ]
  },
  {
   "cell_type": "markdown",
   "metadata": {},
   "source": [
    "##### 문제 3: 다리 놓기(실버 5)\n",
    "https://www.acmicpc.net/problem/1010"
   ]
  },
  {
   "cell_type": "code",
   "execution_count": 6,
   "metadata": {},
   "outputs": [
    {
     "name": "stdout",
     "output_type": "stream",
     "text": [
      "3\n",
      "2 2\n",
      "1\n",
      "1 5\n",
      "5\n",
      "13 29\n",
      "67863915\n"
     ]
    }
   ],
   "source": [
    "import sys\n",
    "from itertools import combinations \n",
    "\n",
    "T = int(input())\n",
    "\n",
    "for i in range(T):\n",
    "    N, M = map(int, input().split()) # sys.stdin.readline()\n",
    "    if N == M:\n",
    "        print(1)\n",
    "        continue\n",
    "    dp = [0] * (N+1)\n",
    "    dp[1] = M\n",
    "    for j in range(2, N+1):\n",
    "        dp[j] = dp[j-1] * (M-j+1) / j\n",
    "        \n",
    "    print(int(dp[N]))"
   ]
  },
  {
   "cell_type": "markdown",
   "metadata": {},
   "source": [
    "##### 문제 4: 제곱수의 합(실버 3) \n",
    "https://www.acmicpc.net/problem/1699"
   ]
  },
  {
   "cell_type": "code",
   "execution_count": 97,
   "metadata": {},
   "outputs": [
    {
     "name": "stdout",
     "output_type": "stream",
     "text": [
      "9999\n",
      "4\n"
     ]
    }
   ],
   "source": [
    "N = int(input())\n",
    "dp = [0 for i in range(N + 1)]\n",
    "num = [i * i for i in range(1, 317)]\n",
    "\n",
    "for i in range(1, N+1):\n",
    "    v = []\n",
    "    for j in num:\n",
    "        if j > i:\n",
    "            break\n",
    "        v.append(dp[i-j])\n",
    "    dp[i] = min(v) + 1\n",
    "print(dp[N])"
   ]
  }
 ],
 "metadata": {
  "kernelspec": {
   "display_name": "Python 3",
   "language": "python",
   "name": "python3"
  },
  "language_info": {
   "codemirror_mode": {
    "name": "ipython",
    "version": 3
   },
   "file_extension": ".py",
   "mimetype": "text/x-python",
   "name": "python",
   "nbconvert_exporter": "python",
   "pygments_lexer": "ipython3",
   "version": "3.7.1"
  }
 },
 "nbformat": 4,
 "nbformat_minor": 2
}
