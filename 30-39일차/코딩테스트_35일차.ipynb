{
 "cells": [
  {
   "cell_type": "markdown",
   "metadata": {},
   "source": [
    "### 2021-02-06 35일차"
   ]
  },
  {
   "cell_type": "markdown",
   "metadata": {},
   "source": [
    "##### 문제 1: 숨바꼭질 3(골드 5)\n",
    "https://www.acmicpc.net/problem/13549"
   ]
  },
  {
   "cell_type": "code",
   "execution_count": 16,
   "metadata": {},
   "outputs": [
    {
     "name": "stdout",
     "output_type": "stream",
     "text": [
      "5 17\n",
      "2\n"
     ]
    }
   ],
   "source": [
    "import heapq\n",
    "import sys\n",
    "\n",
    "N, K = map(int, input().split()) # sys.stdin.readline()\n",
    "INF = int(1e9)\n",
    "distance = [INF] * 100001\n",
    "graph = [[] for _ in range(100001)]\n",
    "\n",
    "for i in range(100001):\n",
    "    if i - 1 >= 0:\n",
    "        graph[i].append((i-1, 1))\n",
    "    if i + 1 <= 100000:\n",
    "        graph[i].append((i+1, 1))\n",
    "    if 2 * i <= 100000:\n",
    "        graph[i].append((i*2, 0))\n",
    "            \n",
    "    \n",
    "def dijkstra(start):\n",
    "    q = []\n",
    "    heapq.heappush(q, (0, start))\n",
    "    distance[start] = 0\n",
    "    while q:\n",
    "        dist, now = heapq.heappop(q)\n",
    "        if distance[now] < dist:\n",
    "            continue\n",
    "        for i in graph[now]:\n",
    "            cost = dist + i[1]\n",
    "            if cost < distance[i[0]]:\n",
    "                distance[i[0]] = cost\n",
    "                heapq.heappush(q, (cost, i[0]))\n",
    "                \n",
    "dijkstra(N)\n",
    "print(distance[K])"
   ]
  },
  {
   "cell_type": "markdown",
   "metadata": {},
   "source": [
    "##### 문제 2: 이분 그래프(골드 4)\n",
    "https://www.acmicpc.net/problem/1707"
   ]
  },
  {
   "cell_type": "code",
   "execution_count": 15,
   "metadata": {},
   "outputs": [
    {
     "name": "stdout",
     "output_type": "stream",
     "text": [
      "2\n",
      "3 2\n",
      "1 3\n",
      "2 3\n",
      "Yes\n",
      "4 4\n",
      "1 2\n",
      "2 3\n",
      "3 4\n",
      "4 2\n",
      "No\n"
     ]
    }
   ],
   "source": [
    "import sys\n",
    "from collections import deque\n",
    "\n",
    "# 테스트 케이스 입력 받기\n",
    "K = int(input())\n",
    "\n",
    "# input \n",
    "def inPut():\n",
    "    V, E = map(int, input().split())\n",
    "    graph = [[] for _ in range(V+1)]\n",
    "    for i in range(E):\n",
    "        j, k = map(int, input().split())\n",
    "        graph[j].append(k)\n",
    "        graph[k].append(j)\n",
    "    return graph\n",
    "\n",
    "# 너비 우선 탐색\n",
    "def bfs(start, g):\n",
    "    visited = [0] * (len(g))\n",
    "    queue = deque()\n",
    "    for k in range(1, len(g)):\n",
    "        if visited[k] == 0:\n",
    "            queue.append(start)\n",
    "            visited[start] = 1\n",
    "            while queue:\n",
    "                x = queue.popleft()\n",
    "                for i in g[x]:\n",
    "                    if visited[i] == 0:\n",
    "                        queue.append(i)\n",
    "                        visited[i] = 1\n",
    "                    else:\n",
    "                        for j in g[i]:\n",
    "                            if j in g[x]:\n",
    "                                return 'No'\n",
    "                        \n",
    "    return 'Yes'\n",
    " \n",
    "for _ in range(K):\n",
    "    g = inPut()\n",
    "    print(bfs(1, g))\n",
    "    \n",
    "# 시간 초과 다시 도전.."
   ]
  },
  {
   "cell_type": "markdown",
   "metadata": {},
   "source": [
    "##### 문제 4: 방 번호(실버 5)\n",
    "https://www.acmicpc.net/problem/1475"
   ]
  },
  {
   "cell_type": "code",
   "execution_count": 23,
   "metadata": {},
   "outputs": [
    {
     "name": "stdout",
     "output_type": "stream",
     "text": [
      "99999\n",
      "3\n"
     ]
    }
   ],
   "source": [
    "# 구현\n",
    "\n",
    "N = input() \n",
    "plastic_n = [0] * 10\n",
    "\n",
    "for i in range(len(N)):\n",
    "    plastic_n[int(N[i])] += 1\n",
    "    \n",
    "v = (plastic_n[6] + plastic_n[9]) / 2\n",
    "if (plastic_n[6] + plastic_n[9]) // 2 == v:\n",
    "    plastic_n[6], plastic_n[9] = int(v), int(v)\n",
    "else:\n",
    "    plastic_n[6], plastic_n[9] = int(v)+1, int(v)+1 \n",
    "    \n",
    "print(max(plastic_n))"
   ]
  }
 ],
 "metadata": {
  "kernelspec": {
   "display_name": "Python 3",
   "language": "python",
   "name": "python3"
  },
  "language_info": {
   "codemirror_mode": {
    "name": "ipython",
    "version": 3
   },
   "file_extension": ".py",
   "mimetype": "text/x-python",
   "name": "python",
   "nbconvert_exporter": "python",
   "pygments_lexer": "ipython3",
   "version": "3.7.1"
  }
 },
 "nbformat": 4,
 "nbformat_minor": 2
}
