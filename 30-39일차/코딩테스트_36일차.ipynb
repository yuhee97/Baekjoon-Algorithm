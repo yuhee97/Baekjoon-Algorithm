{
 "cells": [
  {
   "cell_type": "markdown",
   "metadata": {},
   "source": [
    "### 2021-02-09 36일차"
   ]
  },
  {
   "cell_type": "markdown",
   "metadata": {},
   "source": [
    "##### 문제 1: 동전 2(실버 1)\n",
    "https://www.acmicpc.net/problem/2294    "
   ]
  },
  {
   "cell_type": "code",
   "execution_count": 35,
   "metadata": {},
   "outputs": [
    {
     "name": "stdout",
     "output_type": "stream",
     "text": [
      "3 15\n",
      "2\n",
      "5\n",
      "12\n",
      "3\n"
     ]
    }
   ],
   "source": [
    "import sys\n",
    "\n",
    "INF = int(1e9)\n",
    "n, k = map(int, input().split()) # sys.stdin.readline()\n",
    "money = []; m = 0\n",
    "dp = [INF] * 10001; dp[0] = 0\n",
    "\n",
    "for i in range(n):\n",
    "    money.append(int(input()))\n",
    "    \n",
    "money.sort()\n",
    "\n",
    "for i in range(1, 10001):\n",
    "    for c in money:\n",
    "        if i >= c:\n",
    "            dp[i] = min(dp[i], dp[i - c] + 1)\n",
    "if dp[k] == INF:\n",
    "    print(-1)\n",
    "else:\n",
    "    print(dp[k])"
   ]
  }
 ],
 "metadata": {
  "kernelspec": {
   "display_name": "Python 3",
   "language": "python",
   "name": "python3"
  },
  "language_info": {
   "codemirror_mode": {
    "name": "ipython",
    "version": 3
   },
   "file_extension": ".py",
   "mimetype": "text/x-python",
   "name": "python",
   "nbconvert_exporter": "python",
   "pygments_lexer": "ipython3",
   "version": "3.7.1"
  }
 },
 "nbformat": 4,
 "nbformat_minor": 2
}
