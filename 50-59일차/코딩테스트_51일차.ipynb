{
 "cells": [
  {
   "cell_type": "markdown",
   "metadata": {},
   "source": [
    "### 2021-02-28 51일차"
   ]
  },
  {
   "cell_type": "code",
   "execution_count": 1,
   "metadata": {},
   "outputs": [
    {
     "name": "stdout",
     "output_type": "stream",
     "text": [
      "5\n",
      "*\n",
      "**\n",
      "***\n",
      "****\n",
      "*****\n"
     ]
    }
   ],
   "source": [
    "# https://www.acmicpc.net/problem/2438\n",
    "\n",
    "n = int(input())\n",
    "for i in range(1, n+1):\n",
    "    print('*' * i)"
   ]
  },
  {
   "cell_type": "code",
   "execution_count": 7,
   "metadata": {},
   "outputs": [
    {
     "name": "stdout",
     "output_type": "stream",
     "text": [
      "2\n",
      "01\n"
     ]
    },
    {
     "data": {
      "text/plain": [
       "1"
      ]
     },
     "execution_count": 7,
     "metadata": {},
     "output_type": "execute_result"
    }
   ],
   "source": [
    "# https://www.acmicpc.net/problem/11720\n",
    "\n",
    "n = int(input())\n",
    "num = list(map(int, input().strip()))\n",
    "print(sum(num))"
   ]
  },
  {
   "cell_type": "code",
   "execution_count": 1,
   "metadata": {},
   "outputs": [],
   "source": [
    "# https://www.acmicpc.net/problem/9012\n",
    "# 실버 4"
   ]
  },
  {
   "cell_type": "code",
   "execution_count": 7,
   "metadata": {},
   "outputs": [
    {
     "name": "stdout",
     "output_type": "stream",
     "text": [
      "3\n",
      "((\n",
      "NO\n",
      "))\n",
      "NO\n",
      "())(()\n",
      "NO\n"
     ]
    }
   ],
   "source": [
    "import sys\n",
    "# sys.stdin.readline().strip()\n",
    "t = int(input())\n",
    "\n",
    "for _ in range(t):\n",
    "    check = True\n",
    "    s = input().strip()\n",
    "    right = 0; left = 0\n",
    "    for i in range(len(s)+1):\n",
    "        \n",
    "        if right > left:\n",
    "            check = False\n",
    "            break\n",
    "            \n",
    "        if i == len(s):\n",
    "            break\n",
    "            \n",
    "        if s[i] == '(':\n",
    "            left += 1\n",
    "        else:\n",
    "            right += 1\n",
    "            \n",
    "    if check and left == right:\n",
    "        print('YES')\n",
    "    else:\n",
    "        print('NO')"
   ]
  },
  {
   "cell_type": "code",
   "execution_count": 22,
   "metadata": {},
   "outputs": [],
   "source": [
    "# https://www.acmicpc.net/problem/2941\n",
    "# 실버 5"
   ]
  },
  {
   "cell_type": "code",
   "execution_count": 21,
   "metadata": {},
   "outputs": [
    {
     "name": "stdout",
     "output_type": "stream",
     "text": [
      "ljes=njak\n",
      "6\n"
     ]
    }
   ],
   "source": [
    "import sys\n",
    "# sys.stdin.readline().strip()\n",
    "\n",
    "s = input().strip()\n",
    "strr = ['c=', 'c-', 'dz=', 'd-', 'lj', 'nj', 's=', 'z=']\n",
    "c = 0; i = 0\n",
    "\n",
    "while i < len(s):\n",
    "    \n",
    "    if s[i] == 'd' and s[i:i+3] in strr:\n",
    "        c += 1\n",
    "        i += 3\n",
    "        continue\n",
    "    else:\n",
    "        if s[i:i+2] in strr:\n",
    "            c += 1\n",
    "            i += 2\n",
    "        else:\n",
    "            c += 1\n",
    "            i += 1\n",
    "print(c)             "
   ]
  },
  {
   "cell_type": "code",
   "execution_count": 23,
   "metadata": {},
   "outputs": [],
   "source": [
    "# https://www.acmicpc.net/problem/5052\n",
    "# 골드 4"
   ]
  },
  {
   "cell_type": "code",
   "execution_count": 39,
   "metadata": {},
   "outputs": [
    {
     "name": "stdout",
     "output_type": "stream",
     "text": [
      "2\n",
      "3\n",
      "911\n",
      "97625999\n",
      "91125426\n",
      "NO\n",
      "5\n",
      "113\n",
      "12340\n",
      "123440\n",
      "12345\n",
      "98346\n",
      "YES\n"
     ]
    }
   ],
   "source": [
    "import sys\n",
    "# sys.stdin.readline()\n",
    "\n",
    "t = int(input())\n",
    "\n",
    "for _ in range(t):\n",
    "    check = True\n",
    "    \n",
    "    n = int(input())\n",
    "    phone = [input() for _ in range(n)]\n",
    "    phone.sort()\n",
    "    check = True\n",
    "    for i in range(n-1):\n",
    "        if phone[i] == phone[i+1][0:len(phone[i])]:\n",
    "            check = False\n",
    "            break\n",
    "      \n",
    "    if check:\n",
    "        print('YES')\n",
    "    else:\n",
    "        print('NO')"
   ]
  }
 ],
 "metadata": {
  "kernelspec": {
   "display_name": "Python 3",
   "language": "python",
   "name": "python3"
  },
  "language_info": {
   "codemirror_mode": {
    "name": "ipython",
    "version": 3
   },
   "file_extension": ".py",
   "mimetype": "text/x-python",
   "name": "python",
   "nbconvert_exporter": "python",
   "pygments_lexer": "ipython3",
   "version": "3.7.1"
  }
 },
 "nbformat": 4,
 "nbformat_minor": 2
}
