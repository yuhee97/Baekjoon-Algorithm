{
 "cells": [
  {
   "cell_type": "code",
   "execution_count": 1,
   "metadata": {},
   "outputs": [],
   "source": [
    "# https://www.acmicpc.net/problem/2225 (골드 5)"
   ]
  },
  {
   "cell_type": "code",
   "execution_count": 23,
   "metadata": {},
   "outputs": [
    {
     "name": "stdout",
     "output_type": "stream",
     "text": [
      "20 2\n",
      "21\n"
     ]
    }
   ],
   "source": [
    "import sys\n",
    "\n",
    "# sys.stdin.readline()\n",
    "\n",
    "n, kk = map(int, input().split())\n",
    "dp = [[1] * 201 for _ in range(201)]\n",
    "\n",
    "for k in range(2, 201):\n",
    "    for i in range(1, 201):\n",
    "        for j in range(i):\n",
    "            dp[k][i] += dp[k-1][i-j] \n",
    "            dp[k][i] %= 1000000000\n",
    "            \n",
    "print(dp[kk][n])"
   ]
  },
  {
   "cell_type": "code",
   "execution_count": 22,
   "metadata": {},
   "outputs": [],
   "source": [
    "# https://www.acmicpc.net/problem/14501"
   ]
  },
  {
   "cell_type": "code",
   "execution_count": 44,
   "metadata": {},
   "outputs": [
    {
     "name": "stdout",
     "output_type": "stream",
     "text": [
      "7\n",
      "3 10\n",
      "5 20\n",
      "1 10\n",
      "1 20\n",
      "2 15\n",
      "4 40\n",
      "2 200\n",
      "45\n"
     ]
    }
   ],
   "source": [
    "import sys\n",
    "\n",
    "n = int(input())\n",
    "lis = [[0, 0]]\n",
    "dp = [0] * (n+1)\n",
    "\n",
    "for _ in range(n):\n",
    "    t, p = map(int, input().split()) # sys.stdin.readline()\n",
    "    lis.append([t, p])\n",
    "    \n",
    "if lis[0][0] == 1:\n",
    "    dp[0] = lis[0][1]\n",
    "\n",
    "for i in range(1, n+1):\n",
    "    if i-1+lis[i][0] < n+1:\n",
    "        dp[i-1+lis[i][0]] = max(dp[i-1+lis[i][0]], dp[i-1] + lis[i][1])\n",
    "    dp[i] = max(dp[i], dp[i-1])\n",
    "    \n",
    "print(max(dp))"
   ]
  }
 ],
 "metadata": {
  "kernelspec": {
   "display_name": "Python 3",
   "language": "python",
   "name": "python3"
  },
  "language_info": {
   "codemirror_mode": {
    "name": "ipython",
    "version": 3
   },
   "file_extension": ".py",
   "mimetype": "text/x-python",
   "name": "python",
   "nbconvert_exporter": "python",
   "pygments_lexer": "ipython3",
   "version": "3.7.1"
  }
 },
 "nbformat": 4,
 "nbformat_minor": 2
}
