{
 "cells": [
  {
   "cell_type": "code",
   "execution_count": 3,
   "metadata": {},
   "outputs": [],
   "source": [
    "# https://www.acmicpc.net/problem/15988 (dp) 실버2"
   ]
  },
  {
   "cell_type": "code",
   "execution_count": 2,
   "metadata": {},
   "outputs": [
    {
     "name": "stdout",
     "output_type": "stream",
     "text": [
      "3\n",
      "4\n",
      "7\n",
      "7\n",
      "44\n",
      "10\n",
      "274\n"
     ]
    }
   ],
   "source": [
    "n = int(input())\n",
    "INF = int(1e9)\n",
    "dp = [INF] * 1000001; dp[1] = 1; dp[2] = 2; dp[3] = 4\n",
    "\n",
    "for i in range(4, 1000001):\n",
    "    dp[i] = dp[i-3] + dp[i-2] + dp[i-1]\n",
    "    dp[i] %= 1000000009\n",
    "    \n",
    "for _ in range(n):\n",
    "    print(dp[int(input())])"
   ]
  },
  {
   "cell_type": "code",
   "execution_count": 4,
   "metadata": {},
   "outputs": [],
   "source": [
    "# https://www.acmicpc.net/problem/1149 (dp) 실버1"
   ]
  },
  {
   "cell_type": "code",
   "execution_count": 16,
   "metadata": {},
   "outputs": [
    {
     "name": "stdout",
     "output_type": "stream",
     "text": [
      "2\n",
      "1 2 2\n",
      "3 1000 1000\n",
      "5\n"
     ]
    }
   ],
   "source": [
    "dp = [[0] * 3 for _ in range(1001)]\n",
    "\n",
    "n = int(input())\n",
    "rgb = []\n",
    "\n",
    "for i in range(n):\n",
    "    rgb.append(list(map(int, input().split())))\n",
    "    \n",
    "for j in range(n):\n",
    "    if j == 0:\n",
    "      dp[j][0] = rgb[j][0]\n",
    "      dp[j][1] = rgb[j][1]\n",
    "      dp[j][2] = rgb[j][2]\n",
    "    else:\n",
    "      dp[j][0] = min(dp[j-1][1], dp[j-1][2]) + rgb[j][0]\n",
    "      dp[j][1] = min(dp[j-1][0], dp[j-1][2]) + rgb[j][1]\n",
    "      dp[j][2] = min(dp[j-1][0], dp[j-1][1]) + rgb[j][2]"
   ]
  },
  {
   "cell_type": "code",
   "execution_count": 29,
   "metadata": {},
   "outputs": [],
   "source": [
    "# https://www.acmicpc.net/problem/1309 (dp) 실버1"
   ]
  },
  {
   "cell_type": "code",
   "execution_count": 28,
   "metadata": {},
   "outputs": [
    {
     "name": "stdout",
     "output_type": "stream",
     "text": [
      "4\n",
      "41\n"
     ]
    }
   ],
   "source": [
    "n = int(input())\n",
    "dp = [[0] * 3 for _ in range(100001)]\n",
    "dp[1][0] = 1; dp[1][1] = 1; dp[1][2] = 1\n",
    "\n",
    "for i in range(2, n+1):\n",
    "    dp[i][0] = dp[i-1][1] + dp[i-1][2] \n",
    "    dp[i][1] = dp[i-1][0] + dp[i-1][2] \n",
    "    dp[i][2] = dp[i-1][0] + dp[i-1][1] + dp[i-1][2]\n",
    "    \n",
    "    dp[i][0] %= 9901\n",
    "    dp[i][1] %= 9901\n",
    "    dp[i][2] %= 9901\n",
    "       \n",
    "print(sum(dp[n])%9901)"
   ]
  }
 ],
 "metadata": {
  "kernelspec": {
   "display_name": "Python 3",
   "language": "python",
   "name": "python3"
  },
  "language_info": {
   "codemirror_mode": {
    "name": "ipython",
    "version": 3
   },
   "file_extension": ".py",
   "mimetype": "text/x-python",
   "name": "python",
   "nbconvert_exporter": "python",
   "pygments_lexer": "ipython3",
   "version": "3.7.1"
  }
 },
 "nbformat": 4,
 "nbformat_minor": 2
}
