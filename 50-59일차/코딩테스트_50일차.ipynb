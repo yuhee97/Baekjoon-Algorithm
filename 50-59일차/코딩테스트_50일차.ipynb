{
 "cells": [
  {
   "cell_type": "markdown",
   "metadata": {},
   "source": [
    "### 2021-02-26 50일차"
   ]
  },
  {
   "cell_type": "markdown",
   "metadata": {},
   "source": [
    "##### 문제 1: 가장 긴 증가하는 부분 수열 4(골드 4)\n",
    "https://www.acmicpc.net/problem/14002"
   ]
  },
  {
   "cell_type": "code",
   "execution_count": 26,
   "metadata": {},
   "outputs": [
    {
     "name": "stdout",
     "output_type": "stream",
     "text": [
      "6\n",
      "10 20 10 30 20 50\n",
      "4\n",
      "10 20 30 50 "
     ]
    }
   ],
   "source": [
    "import sys\n",
    "\n",
    "# sys.stdin.readline()\n",
    "N = int(input())\n",
    "A = list(map(int, input().split()))\n",
    "dp = [1] * (N+1)\n",
    "\n",
    "for i in range(2, N+1):\n",
    "    for j in range(1, i):\n",
    "        if A[i-1] > A[j-1]:\n",
    "            dp[i] = max(dp[i], dp[j] + 1)\n",
    "\n",
    "maxx = 0\n",
    "for k in range(len(dp)):\n",
    "    if maxx < dp[k]:\n",
    "        maxx = dp[k]\n",
    "        idx = k\n",
    "\n",
    "num = []\n",
    "for k in range(idx, -1, -1):\n",
    "    if k == idx:\n",
    "        num.append(A[k-1])\n",
    "        mx = maxx - 1 ; inx_v = A[k-1]\n",
    "    else:\n",
    "        if dp[k] == mx and A[k-1] < inx_v: \n",
    "            mx = dp[k] - 1\n",
    "            inx_v = A[k-1]\n",
    "            num.append(A[k-1])\n",
    "            \n",
    "print(maxx) \n",
    "print(*num[::-1], end = \" \")"
   ]
  },
  {
   "cell_type": "markdown",
   "metadata": {},
   "source": [
    "##### 문제 2: 연속합(실버 2)\n",
    "https://www.acmicpc.net/problem/1912"
   ]
  },
  {
   "cell_type": "code",
   "execution_count": 33,
   "metadata": {},
   "outputs": [
    {
     "name": "stdout",
     "output_type": "stream",
     "text": [
      "5\n",
      "-1 -2 -3 -4 -5\n",
      "-1\n"
     ]
    }
   ],
   "source": [
    "import sys\n",
    "\n",
    "n = int(input()) # sys.stdin.readline()\n",
    "num = list(map(int, input().split()))\n",
    "dp = [0] * n; dp[0] = num[0]\n",
    "\n",
    "for i in range(1, n):\n",
    "    dp[i] = max(dp[i-1] + num[i], num[i])\n",
    "    \n",
    "print(max(dp))"
   ]
  },
  {
   "cell_type": "markdown",
   "metadata": {},
   "source": [
    "##### 문제 3: 제곱수의 합(실버 3)\n",
    "https://www.acmicpc.net/problem/1699"
   ]
  },
  {
   "cell_type": "code",
   "execution_count": 18,
   "metadata": {},
   "outputs": [
    {
     "name": "stdout",
     "output_type": "stream",
     "text": [
      "7\n",
      "4\n"
     ]
    }
   ],
   "source": [
    "n = int(input())\n",
    "d = [0] * (n+1)\n",
    "\n",
    "for i in range(1, n+1):\n",
    "    d[i] = i\n",
    "    j = 1\n",
    "    while j*j <= i:\n",
    "        if d[i] > d[i-j*j]+1:\n",
    "            d[i] = d[i-j*j]+1\n",
    "        j += 1\n",
    "        \n",
    "print(d[n])"
   ]
  },
  {
   "cell_type": "markdown",
   "metadata": {},
   "source": [
    "##### 문제 4: 퇴사(실버 4)\n",
    "https://www.acmicpc.net/problem/14501"
   ]
  },
  {
   "cell_type": "code",
   "execution_count": 29,
   "metadata": {},
   "outputs": [
    {
     "name": "stdout",
     "output_type": "stream",
     "text": [
      "10\n",
      "5 50\n",
      "4 40\n",
      "3 30\n",
      "2 20\n",
      "1 10\n",
      "1 10\n",
      "2 20\n",
      "3 30\n",
      "4 40\n",
      "5 50\n",
      "90\n"
     ]
    }
   ],
   "source": [
    "n = int(input())\n",
    "t = []; p = []\n",
    "dp = [0] * (n+1); mx = 0\n",
    "\n",
    "for _ in range(n):\n",
    "    T, P = map(int, input().split())\n",
    "    t.append(T); p.append(P)\n",
    "\n",
    "for i in range(n):\n",
    "    mx = max(mx, dp[i])\n",
    "    if i + t[i] > n:\n",
    "        continue\n",
    "    dp[i+t[i]] = max(mx + p[i], dp[i+t[i]])\n",
    "    \n",
    "print(max(dp))"
   ]
  }
 ],
 "metadata": {
  "kernelspec": {
   "display_name": "Python 3",
   "language": "python",
   "name": "python3"
  },
  "language_info": {
   "codemirror_mode": {
    "name": "ipython",
    "version": 3
   },
   "file_extension": ".py",
   "mimetype": "text/x-python",
   "name": "python",
   "nbconvert_exporter": "python",
   "pygments_lexer": "ipython3",
   "version": "3.7.1"
  }
 },
 "nbformat": 4,
 "nbformat_minor": 2
}
