{
 "cells": [
  {
   "cell_type": "code",
   "execution_count": 2,
   "metadata": {},
   "outputs": [],
   "source": [
    "# 프로그래머스 sql kit 풀기\n",
    "\n",
    "# 완료"
   ]
  },
  {
   "cell_type": "code",
   "execution_count": 3,
   "metadata": {},
   "outputs": [],
   "source": [
    "# 문자열(실버 2)\n",
    "# https://www.acmicpc.net/problem/5525"
   ]
  },
  {
   "cell_type": "code",
   "execution_count": 12,
   "metadata": {},
   "outputs": [
    {
     "name": "stdout",
     "output_type": "stream",
     "text": [
      "1\n",
      "13\n",
      "OOIOIOIOIIOII\n",
      "4\n"
     ]
    }
   ],
   "source": [
    "import re\n",
    "\n",
    "n = int(input())\n",
    "_ = input()\n",
    "string = input()\n",
    "\n",
    "ioi = re.findall('I(?:OI)+', string)\n",
    "count = 0\n",
    "\n",
    "for k in ioi:\n",
    "    c = len(k) // 2 - n + 1\n",
    "    if c > 0:\n",
    "        count += c\n",
    "\n",
    "print(count)"
   ]
  }
 ],
 "metadata": {
  "kernelspec": {
   "display_name": "Python 3",
   "language": "python",
   "name": "python3"
  },
  "language_info": {
   "codemirror_mode": {
    "name": "ipython",
    "version": 3
   },
   "file_extension": ".py",
   "mimetype": "text/x-python",
   "name": "python",
   "nbconvert_exporter": "python",
   "pygments_lexer": "ipython3",
   "version": "3.7.1"
  }
 },
 "nbformat": 4,
 "nbformat_minor": 2
}
