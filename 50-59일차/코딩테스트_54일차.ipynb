{
 "cells": [
  {
   "cell_type": "markdown",
   "metadata": {},
   "source": [
    "### 2021-03-02 54일차"
   ]
  },
  {
   "cell_type": "code",
   "execution_count": 1,
   "metadata": {},
   "outputs": [],
   "source": [
    "# https://www.acmicpc.net/problem/3055 탈출(골드 5)"
   ]
  },
  {
   "cell_type": "code",
   "execution_count": 39,
   "metadata": {},
   "outputs": [
    {
     "name": "stdout",
     "output_type": "stream",
     "text": [
      "10 15\n",
      "........X......\n",
      "..XXXXX.X.*....\n",
      "X.....X.X..*...\n",
      ".X.S..X.X......\n",
      "D.X...X.XXXXXXX\n",
      ".X....X........\n",
      ".X....X.XXXXXXX\n",
      ".XXXXXX.X......\n",
      "........X......\n",
      "XXXXXXXXX...*..\n",
      "30\n"
     ]
    }
   ],
   "source": [
    "import sys\n",
    "from collections import deque\n",
    "\n",
    "r, c = map(int, input().split())\n",
    "graph = []\n",
    "visited_w = [[0] * c for _ in range(r)]\n",
    "visited_s = [[0] * c for _ in range(r)]\n",
    "\n",
    "for _ in range(r): # 입력 받기\n",
    "    graph.append(list(input()))\n",
    "\n",
    "q_w = deque()\n",
    "q_s = deque()\n",
    "\n",
    "dx = [-1, 0, 1, 0] # 상하좌우 이동\n",
    "dy = [0, -1, 0, 1]\n",
    "\n",
    "for i in range(r):\n",
    "    for j in range(c):\n",
    "        if graph[i][j] == '*': # 물이 차 있는 곳\n",
    "            q_w.append([i, j])\n",
    "            visited_w[i][j] = 1\n",
    "        if graph[i][j] == 'S': # 고슴도치 위치\n",
    "            q_s.append([i, j])\n",
    "            visited_s[i][j] = 1\n",
    "            \n",
    "def bfs():\n",
    "    global graph\n",
    "    while q_w:\n",
    "        wi, wj = q_w.popleft() \n",
    "        for k in range(4):\n",
    "            wx = wi + dx[k]\n",
    "            wy = wj + dy[k]\n",
    "            if 0 <= wx < r and 0 <= wy < c and graph[wx][wy] == '.' and visited_w[wx][wy] == 0: # 물의 이동\n",
    "                q_w.append([wx, wy])\n",
    "                visited_w[wx][wy] = visited_w[wi][wj] + 1\n",
    "    while q_s:\n",
    "        si, sj = q_s.popleft()       \n",
    "        for kk in range(4):\n",
    "            sx = si + dx[kk]\n",
    "            sy = sj + dy[kk]\n",
    "            if 0 <= sx < r and 0 <= sy < c and visited_s[sx][sy] == 0:\n",
    "                if (graph[sx][sy] == '.' and visited_w[sx][sy] == 0) or visited_s[si][sj] + 1 < visited_w[sx][sy]:\n",
    "                    visited_s[sx][sy] = visited_s[si][sj] + 1\n",
    "                    q_s.append([sx, sy])\n",
    "                if graph[sx][sy] == 'D':\n",
    "                    return visited_s[si][sj]\n",
    "                \n",
    "    return 'KAKTUS'\n",
    "        \n",
    "print(bfs())"
   ]
  },
  {
   "cell_type": "code",
   "execution_count": 2,
   "metadata": {},
   "outputs": [],
   "source": [
    "# https://www.acmicpc.net/problem/2251 물통(실버 1)"
   ]
  },
  {
   "cell_type": "code",
   "execution_count": 2,
   "metadata": {},
   "outputs": [
    {
     "name": "stdout",
     "output_type": "stream",
     "text": [
      "8 9 10\n",
      "1 2 8 9 10 "
     ]
    }
   ],
   "source": [
    "from collections import deque\n",
    "\n",
    "A, B, C = map(int, input().split())\n",
    "visited = [[0] * (B+1) for _ in range(A+1)]\n",
    "\n",
    "def check(start, end):\n",
    "    if visited[start][end] == 0:\n",
    "        visited[start][end] = 1\n",
    "        q.append([start, end])\n",
    "    \n",
    "def bfs():\n",
    "    \n",
    "    result = []\n",
    "    \n",
    "    while q:\n",
    "        \n",
    "        x, y = q.popleft()\n",
    "        z = C - x - y\n",
    "        \n",
    "        if x == 0:\n",
    "            result.append(z)\n",
    "        \n",
    "        # x -> y\n",
    "        water = min(x, B-y)\n",
    "        check(x - water, y + water)\n",
    "        \n",
    "        # x -> z\n",
    "        water = min(x, C-z)\n",
    "        check(x - water, y)\n",
    "        \n",
    "        # y -> x\n",
    "        water = min(y, A-x)\n",
    "        check(x + water, y - water)\n",
    "        \n",
    "        # y -> z\n",
    "        water = min(y, C-z)\n",
    "        check(x, y - water)\n",
    "        \n",
    "        # z -> x\n",
    "        water = min(z, A-x)\n",
    "        check(x + water, y)\n",
    "        \n",
    "        # z -> y\n",
    "        water = min(z, B-y)\n",
    "        check(x, y + water)\n",
    "    \n",
    "    return sorted(result)\n",
    "        \n",
    "    \n",
    "q = deque()\n",
    "q.append([0, 0]) \n",
    "visited[0][0] = 1\n",
    "\n",
    "print(*bfs(), end = \" \")"
   ]
  }
 ],
 "metadata": {
  "kernelspec": {
   "display_name": "Python 3",
   "language": "python",
   "name": "python3"
  },
  "language_info": {
   "codemirror_mode": {
    "name": "ipython",
    "version": 3
   },
   "file_extension": ".py",
   "mimetype": "text/x-python",
   "name": "python",
   "nbconvert_exporter": "python",
   "pygments_lexer": "ipython3",
   "version": "3.7.1"
  }
 },
 "nbformat": 4,
 "nbformat_minor": 2
}
