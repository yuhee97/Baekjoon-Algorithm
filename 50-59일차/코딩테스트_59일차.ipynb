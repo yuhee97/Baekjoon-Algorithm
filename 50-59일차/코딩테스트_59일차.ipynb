{
 "cells": [
  {
   "cell_type": "code",
   "execution_count": 2,
   "metadata": {},
   "outputs": [],
   "source": [
    "# https://www.acmicpc.net/problem/11054 (dp) 골드 3"
   ]
  },
  {
   "cell_type": "code",
   "execution_count": 135,
   "metadata": {},
   "outputs": [
    {
     "name": "stdout",
     "output_type": "stream",
     "text": [
      "1\n",
      "10\n",
      "-1\n"
     ]
    }
   ],
   "source": [
    "import sys\n",
    "\n",
    "n = int(input()) # sys.stdin.readline() \n",
    "num = list(map(int, input().split())) # sys.stdin.readline()\n",
    "dp1 = [0] * (n+1)\n",
    "dp2 = [0] * (n+1)\n",
    "\n",
    "for i in range(1, n+1):\n",
    "    dp1[i] = 1\n",
    "    for j in range(1, i):\n",
    "        if num[i-1] > num[j-1]:\n",
    "            dp1[i] = max(dp1[i], dp1[j]+1)\n",
    "\n",
    "numm = num[::-1]\n",
    "for i in range(1, n+1):\n",
    "    dp2[i] = 1\n",
    "    for k in range(1, i):\n",
    "        if numm[i-1] > numm[k-1]:\n",
    "            dp2[i] = max(dp2[i], dp2[k]+1)     \n",
    "\n",
    "maxx = 0\n",
    "for i in range(1, n-1):\n",
    "    if maxx < dp1[i] + dp2[n-i+1]:\n",
    "        maxx = dp1[i] + dp2[n-i+1]\n",
    "        \n",
    "print(maxx-1)"
   ]
  },
  {
   "cell_type": "code",
   "execution_count": 136,
   "metadata": {},
   "outputs": [],
   "source": [
    "# https://www.acmicpc.net/problem/13398 (dp) 골드5 -> 다시 풀어보기"
   ]
  },
  {
   "cell_type": "code",
   "execution_count": 132,
   "metadata": {},
   "outputs": [
    {
     "name": "stdout",
     "output_type": "stream",
     "text": [
      "1\n",
      "10\n",
      "10\n"
     ]
    }
   ],
   "source": [
    "import sys\n",
    "# sys.stdin.readline()\n",
    "\n",
    "n = int(input())\n",
    "num = list(map(int, input().split()))\n",
    "dp1 = [0] * n; dp1[0] = num[0]\n",
    "dp2 = [0] * n; dp2[0] = num[-1]\n",
    "\n",
    "for i in range(1, n):\n",
    "    dp1[i] = max(num[i], dp1[i-1] + num[i])\n",
    "\n",
    "num.reverse()\n",
    "for i in range(1, n):\n",
    "    dp2[i] = max(num[i], dp2[i-1] + num[i])\n",
    "\n",
    "maxx = max(dp1)\n",
    "for i in range(1, n-1):\n",
    "    if maxx < dp1[i-1] + dp2[n-i-2]:\n",
    "        maxx = dp1[i-1] + dp2[n-i-2]\n",
    "        \n",
    "print(maxx)"
   ]
  },
  {
   "cell_type": "code",
   "execution_count": 102,
   "metadata": {},
   "outputs": [],
   "source": [
    "# https://www.acmicpc.net/problem/2133 (dp) 실버 1"
   ]
  },
  {
   "cell_type": "code",
   "execution_count": 101,
   "metadata": {},
   "outputs": [
    {
     "name": "stdout",
     "output_type": "stream",
     "text": [
      "4\n",
      "11\n"
     ]
    }
   ],
   "source": [
    "n = int(input())\n",
    "\n",
    "dp = [0] * 31\n",
    "dp[2] = 3\n",
    "\n",
    "for i in range(4, 31, 2):\n",
    "    dp[i] = dp[i-2] * 3\n",
    "    for j in range(4, i, 2):\n",
    "        dp[i] += dp[i-j] * 2\n",
    "    dp[i]+=2\n",
    "        \n",
    "print(dp[n])"
   ]
  }
 ],
 "metadata": {
  "kernelspec": {
   "display_name": "Python 3",
   "language": "python",
   "name": "python3"
  },
  "language_info": {
   "codemirror_mode": {
    "name": "ipython",
    "version": 3
   },
   "file_extension": ".py",
   "mimetype": "text/x-python",
   "name": "python",
   "nbconvert_exporter": "python",
   "pygments_lexer": "ipython3",
   "version": "3.7.1"
  }
 },
 "nbformat": 4,
 "nbformat_minor": 2
}
