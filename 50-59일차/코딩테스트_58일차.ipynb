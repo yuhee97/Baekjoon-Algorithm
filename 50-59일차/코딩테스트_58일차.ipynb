{
 "cells": [
  {
   "cell_type": "code",
   "execution_count": 1,
   "metadata": {},
   "outputs": [],
   "source": [
    "# https://www.acmicpc.net/problem/11722 (dp) 실버 2"
   ]
  },
  {
   "cell_type": "code",
   "execution_count": 10,
   "metadata": {},
   "outputs": [
    {
     "name": "stdout",
     "output_type": "stream",
     "text": [
      "6\n",
      "10 30 10 20 20 10\n",
      "3\n"
     ]
    }
   ],
   "source": [
    "import sys\n",
    "\n",
    "n = int(input())\n",
    "num = list(map(int, input().split()))\n",
    "dp = [0] * (n+1)\n",
    "\n",
    "for i in range(1, n+1):\n",
    "    dp[i] = 1\n",
    "    for j in range(1, i):\n",
    "        if num[i-1] < num[j-1]:\n",
    "            dp[i] = max(dp[i], dp[j] + 1)\n",
    "            \n",
    "print(max(dp))"
   ]
  },
  {
   "cell_type": "code",
   "execution_count": 2,
   "metadata": {},
   "outputs": [],
   "source": [
    "# https://www.acmicpc.net/problem/11725 (bfs) 실버 2"
   ]
  },
  {
   "cell_type": "code",
   "execution_count": 8,
   "metadata": {},
   "outputs": [
    {
     "name": "stdout",
     "output_type": "stream",
     "text": [
      "7\n",
      "1 6\n",
      "6 3\n",
      "3 5\n",
      "4 1\n",
      "2 4\n",
      "4 7\n",
      "4\n",
      "6\n",
      "1\n",
      "3\n",
      "1\n",
      "4\n"
     ]
    }
   ],
   "source": [
    "import sys\n",
    "from collections import deque\n",
    "\n",
    "n = int(input())\n",
    "graph = [[] for _ in range(n+1)]\n",
    "g = [[] for _ in range(n+1)]\n",
    "visited = [0] * (n+1)\n",
    "\n",
    "for _ in range(n-1):\n",
    "    a, b = map(int, input().split())\n",
    "    graph[a].append(b)\n",
    "    graph[b].append(a)\n",
    "\n",
    "def bfs(start):\n",
    "    q = deque()\n",
    "    q.append(start)\n",
    "    visited[start] = 1\n",
    "    while q:\n",
    "        x = q.popleft()\n",
    "        for nx in graph[x]:\n",
    "            if visited[nx] == 0:\n",
    "                g[nx].append(x)\n",
    "                visited[nx] = 1\n",
    "                q.append(nx)\n",
    "                \n",
    "bfs(1)                \n",
    "\n",
    "for i in range(2, n+1):\n",
    "    print(g[i][0])"
   ]
  }
 ],
 "metadata": {
  "kernelspec": {
   "display_name": "Python 3",
   "language": "python",
   "name": "python3"
  },
  "language_info": {
   "codemirror_mode": {
    "name": "ipython",
    "version": 3
   },
   "file_extension": ".py",
   "mimetype": "text/x-python",
   "name": "python",
   "nbconvert_exporter": "python",
   "pygments_lexer": "ipython3",
   "version": "3.7.1"
  }
 },
 "nbformat": 4,
 "nbformat_minor": 2
}
