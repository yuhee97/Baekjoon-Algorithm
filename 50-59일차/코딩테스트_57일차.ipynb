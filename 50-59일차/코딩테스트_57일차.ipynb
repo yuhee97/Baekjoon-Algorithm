{
 "cells": [
  {
   "cell_type": "code",
   "execution_count": 2,
   "metadata": {},
   "outputs": [],
   "source": [
    "# https://www.acmicpc.net/problem/11057 (dp) 실버1"
   ]
  },
  {
   "cell_type": "code",
   "execution_count": 9,
   "metadata": {},
   "outputs": [
    {
     "name": "stdout",
     "output_type": "stream",
     "text": [
      "3\n",
      "220\n"
     ]
    }
   ],
   "source": [
    "n = int(input())\n",
    "\n",
    "dp = [[0] * 10 for _ in range(1001)]\n",
    "\n",
    "for i in range(0, 10):\n",
    "    dp[1][i] = 1\n",
    "\n",
    "for i in range(2, 1001):\n",
    "    for j in range(0, 10):\n",
    "        for k in range(0, j+1):\n",
    "            dp[i][j] += dp[i-1][k]\n",
    "            dp[i][j] %= 10007\n",
    "   \n",
    "print(sum(dp[n])%10007)"
   ]
  },
  {
   "cell_type": "code",
   "execution_count": 10,
   "metadata": {},
   "outputs": [],
   "source": [
    "# https://www.acmicpc.net/problem/2156 (dp) 실버1"
   ]
  },
  {
   "cell_type": "code",
   "execution_count": 22,
   "metadata": {},
   "outputs": [
    {
     "name": "stdout",
     "output_type": "stream",
     "text": [
      "6\n",
      "100\n",
      "100\n",
      "1\n",
      "1\n",
      "100\n",
      "100\n",
      "400\n"
     ]
    }
   ],
   "source": [
    "n = int(input())\n",
    "amount = []\n",
    "\n",
    "for _ in range(n):\n",
    "    amount.append(int(input()))\n",
    "    \n",
    "dp = [[0] * 3 for _ in range(10001)]\n",
    "dp[1][0] = 0; dp[1][1] = amount[0]\n",
    "\n",
    "\n",
    "for i in range(2, n+1):\n",
    "    if i == 2:\n",
    "        dp[i][0] = dp[i-1][1]\n",
    "        dp[i][1] = dp[i-1][0] + amount[i-1]\n",
    "        dp[i][2] = dp[i-1][1] + amount[i-1]\n",
    "        continue\n",
    "        \n",
    "    dp[i][0] = dp[i-1][2]\n",
    "    dp[i][1] = max(dp[i-1][0], dp[i-2][0], dp[i-2][1], dp[i-2][2]) + amount[i-1]\n",
    "    dp[i][2] = dp[i-1][1] + amount[i-1]\n",
    "\n",
    "maxx = 0\n",
    "for i in range(n+1):\n",
    "    for j in range(3):\n",
    "        if maxx < dp[i][j]:\n",
    "            maxx = dp[i][j]\n",
    "    \n",
    "print(maxx)"
   ]
  },
  {
   "cell_type": "code",
   "execution_count": 23,
   "metadata": {},
   "outputs": [],
   "source": [
    "# https://www.acmicpc.net/problem/1932 (dp) 실버1"
   ]
  },
  {
   "cell_type": "code",
   "execution_count": 28,
   "metadata": {},
   "outputs": [
    {
     "name": "stdout",
     "output_type": "stream",
     "text": [
      "5\n",
      "7\n",
      "3 8\n",
      "8 1 0\n",
      "2 7 4 4\n",
      "4 5 2 6 5\n",
      "30\n"
     ]
    }
   ],
   "source": [
    "n = int(input())\n",
    "tri = []\n",
    "\n",
    "for _ in range(n):\n",
    "    tri.append(list(map(int, input().split())))\n",
    "    \n",
    "dp = [[0] * i for i in range(1, n+1)]; dp[0][0] = tri[0][0]\n",
    "\n",
    "for i in range(1, n):\n",
    "    for j in range(len(tri[i])):\n",
    "        if j == 0:\n",
    "            dp[i][j] = dp[i-1][j] + tri[i][j]\n",
    "            continue\n",
    "            \n",
    "        if j == len(tri[i])-1:\n",
    "            dp[i][j] = dp[i-1][j-1] + tri[i][j]\n",
    "            continue\n",
    "            \n",
    "        dp[i][j] = max(dp[i-1][j], dp[i-1][j-1]) + tri[i][j]\n",
    "        \n",
    "print(max(dp[n-1]))"
   ]
  },
  {
   "cell_type": "code",
   "execution_count": 6,
   "metadata": {},
   "outputs": [],
   "source": [
    "# https://www.acmicpc.net/problem/11055 (dp) 실버2"
   ]
  },
  {
   "cell_type": "code",
   "execution_count": 5,
   "metadata": {},
   "outputs": [
    {
     "name": "stdout",
     "output_type": "stream",
     "text": [
      "10\n",
      "1 100 2 50 60 3 5 6 7 8\n",
      "113\n"
     ]
    }
   ],
   "source": [
    "n = int(input())\n",
    "num = list(map(int, input().split()))\n",
    "\n",
    "dp = [0] * (n+1)\n",
    "dp[1] = num[0]\n",
    "\n",
    "for i in range(2, n+1):\n",
    "    dp[i] = num[i-1]\n",
    "    for j in range(1, i):\n",
    "        if num[i-1] > num[j-1]:\n",
    "            dp[i] = max(dp[i], dp[j] + num[i-1]) \n",
    "    \n",
    "print(max(dp))"
   ]
  }
 ],
 "metadata": {
  "kernelspec": {
   "display_name": "Python 3",
   "language": "python",
   "name": "python3"
  },
  "language_info": {
   "codemirror_mode": {
    "name": "ipython",
    "version": 3
   },
   "file_extension": ".py",
   "mimetype": "text/x-python",
   "name": "python",
   "nbconvert_exporter": "python",
   "pygments_lexer": "ipython3",
   "version": "3.7.1"
  }
 },
 "nbformat": 4,
 "nbformat_minor": 2
}
