{
 "cells": [
  {
   "cell_type": "markdown",
   "metadata": {},
   "source": [
    "### 2021-02-28 52일차"
   ]
  },
  {
   "cell_type": "code",
   "execution_count": 13,
   "metadata": {},
   "outputs": [],
   "source": [
    "# 다익스트라(dijkstra)\n",
    "# https://www.acmicpc.net/problem/9370 (골드 2)"
   ]
  },
  {
   "cell_type": "code",
   "execution_count": 11,
   "metadata": {},
   "outputs": [
    {
     "name": "stdout",
     "output_type": "stream",
     "text": [
      "2\n",
      "5 4 2\n",
      "1 2 3\n",
      "1 2 6\n",
      "2 3 2\n",
      "3 4 4\n",
      "3 5 3\n",
      "5\n",
      "4\n",
      "4 5 6 9 2\n",
      "2 3 1\n",
      "1 2 1\n",
      "1 3 3\n",
      "2 4 4\n",
      "2 5 5\n",
      "3 4 3\n",
      "3 6 2\n",
      "4 5 4\n",
      "4 6 3\n",
      "5 6 7\n",
      "5\n",
      "6\n",
      "6 "
     ]
    }
   ],
   "source": [
    "import sys\n",
    "import heapq\n",
    "\n",
    "INF = int(1e9)\n",
    "T = int(input()) # sys.stdin.readline()\n",
    "\n",
    "def dijkstra(g, start, end, nn):\n",
    "    d = [INF] * (nn+1);\n",
    "    q = []\n",
    "    heapq.heappush(q, (0, start))\n",
    "    d[start] = 0\n",
    "    while q:\n",
    "        dist, now = heapq.heappop(q)\n",
    "        \n",
    "        if d[now] < dist:\n",
    "            continue\n",
    "        \n",
    "        for i in g[now]:\n",
    "            cost = dist + i[1]\n",
    "            if cost < d[i[0]]:\n",
    "                d[i[0]] = cost\n",
    "                heapq.heappush(q, (cost, i[0]))\n",
    "    \n",
    "    return d[end]\n",
    "    \n",
    "    \n",
    "for _ in range(T):\n",
    "    \n",
    "    n, m, t = map(int, input().split()); x_lis = []\n",
    "    graph = [[] for i in range(n+1)]\n",
    "    s, g, h = map(int, input().split())\n",
    "    \n",
    "    for i in range(m):\n",
    "        a, b, d = map(int, input().split())\n",
    "        graph[a].append((b, d))\n",
    "        graph[b].append((a, d))\n",
    "        \n",
    "    for j in range(t):\n",
    "        x = int(input())\n",
    "        \n",
    "        s_e = dijkstra(graph, s, x, n)\n",
    "        h_g = dijkstra(graph, h, g, n)\n",
    "        \n",
    "        s_g = dijkstra(graph, s, g, n)\n",
    "        h_e = dijkstra(graph, h, e, n)\n",
    "        if s_g + h_e + h_g == s_e:\n",
    "            x_lis.append(x)\n",
    "            continue\n",
    "        \n",
    "        s_h = dijkstra(graph, s, h, n)\n",
    "        g_e = dijkstra(graph, g, x, n)\n",
    "        if s_h + g_e + h_g == s_e:\n",
    "            x_lis.append(x)\n",
    "\n",
    "    x_lis.sort()\n",
    "    print(*x_lis, end = \" \")\n",
    "    \n",
    "# 시간 줄여보기"
   ]
  },
  {
   "cell_type": "code",
   "execution_count": 12,
   "metadata": {},
   "outputs": [],
   "source": [
    "# 최소 heap\n",
    "# https://www.acmicpc.net/problem/1927 (실버 1)"
   ]
  },
  {
   "cell_type": "code",
   "execution_count": 15,
   "metadata": {},
   "outputs": [
    {
     "name": "stdout",
     "output_type": "stream",
     "text": [
      "9\n",
      "0\n",
      "0\n",
      "12345678\n",
      "1\n",
      "2\n",
      "0\n",
      "1\n",
      "0\n",
      "2\n",
      "0\n",
      "12345678\n",
      "0\n",
      "0\n",
      "32\n"
     ]
    }
   ],
   "source": [
    "import sys\n",
    "import heapq\n",
    "\n",
    "N = int(input())\n",
    "q = []\n",
    "for _ in range(N):\n",
    "    num = int(input())\n",
    "    if num > 0:\n",
    "        heapq.heappush(q, num)\n",
    "    else:\n",
    "        if q:\n",
    "            print(heapq.heappop(q))\n",
    "        else:\n",
    "            print(0)"
   ]
  },
  {
   "cell_type": "code",
   "execution_count": 16,
   "metadata": {},
   "outputs": [],
   "source": [
    "# 최대 heap\n",
    "# https://www.acmicpc.net/problem/11279 (실버 2)"
   ]
  },
  {
   "cell_type": "code",
   "execution_count": 17,
   "metadata": {},
   "outputs": [
    {
     "name": "stdout",
     "output_type": "stream",
     "text": [
      "13\n",
      "0\n",
      "0\n",
      "1\n",
      "2\n",
      "0\n",
      "2\n",
      "0\n",
      "1\n",
      "3\n",
      "2\n",
      "1\n",
      "0\n",
      "3\n",
      "0\n",
      "2\n",
      "0\n",
      "1\n",
      "0\n",
      "0\n",
      "0\n",
      "0\n"
     ]
    }
   ],
   "source": [
    "import sys\n",
    "import heapq\n",
    "\n",
    "N = int(input())\n",
    "q = []\n",
    "for _ in range(N):\n",
    "    num = int(input())\n",
    "    if num > 0:\n",
    "        heapq.heappush(q, -num)\n",
    "    else:\n",
    "        if q:\n",
    "            print(-heapq.heappop(q))\n",
    "        else:\n",
    "            print(0)"
   ]
  },
  {
   "cell_type": "code",
   "execution_count": null,
   "metadata": {},
   "outputs": [],
   "source": [
    "# 플로이드 워셜\n",
    "# https://www.acmicpc.net/problem/2458 (골드 4)"
   ]
  },
  {
   "cell_type": "code",
   "execution_count": 10,
   "metadata": {},
   "outputs": [
    {
     "name": "stdout",
     "output_type": "stream",
     "text": [
      "6 6\n",
      "1 5\n",
      "3 4\n",
      "5 4\n",
      "4 2\n",
      "4 6\n",
      "5 2\n",
      "1\n"
     ]
    }
   ],
   "source": [
    "import sys\n",
    "\n",
    "INF = int(1e9)\n",
    "N, M = map(int, input().split())\n",
    "graph = [[INF] * (N+1) for _ in range(N+1)]\n",
    "\n",
    "for i in range(1, N+1):\n",
    "    for j in range(1, N+1):\n",
    "        if i == j:\n",
    "            graph[i][j] = 0\n",
    "        \n",
    "for _ in range(M):\n",
    "    a, b = map(int, input().split())\n",
    "    graph[a][b] = 1\n",
    "    \n",
    "for k in range(1, N+1):\n",
    "    for i in range(1, N+1):\n",
    "        for j in range(1, N+1):\n",
    "            if graph[i][k] == 1 and graph[k][j] == 1:\n",
    "                graph[i][j] = 1\n",
    "            \n",
    "C = 0\n",
    "for i in range(1, N+1):\n",
    "    c = 0\n",
    "    for j in range(1, N+1):\n",
    "        c += (graph[i][j] + graph[j][i]) % INF\n",
    "    if c == N-1:\n",
    "        C += 1\n",
    "        \n",
    "print(C)"
   ]
  }
 ],
 "metadata": {
  "kernelspec": {
   "display_name": "Python 3",
   "language": "python",
   "name": "python3"
  },
  "language_info": {
   "codemirror_mode": {
    "name": "ipython",
    "version": 3
   },
   "file_extension": ".py",
   "mimetype": "text/x-python",
   "name": "python",
   "nbconvert_exporter": "python",
   "pygments_lexer": "ipython3",
   "version": "3.7.1"
  }
 },
 "nbformat": 4,
 "nbformat_minor": 2
}
