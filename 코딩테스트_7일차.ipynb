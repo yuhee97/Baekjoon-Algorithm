{
 "cells": [
  {
   "cell_type": "markdown",
   "metadata": {},
   "source": [
    "### 7일차 2020-12-31"
   ]
  },
  {
   "cell_type": "markdown",
   "metadata": {},
   "source": [
    "##### 문제 1: Backtracking\n",
    "http://www.acmicpc.net/problem/9663    \n",
    "\n",
    "https://rebas.kr/761 해당 링크에서 코드를 참고함."
   ]
  },
  {
   "cell_type": "code",
   "execution_count": 7,
   "metadata": {},
   "outputs": [],
   "source": [
    "# n-queen은 backtracking argorithm에서 가장 대표적인 문제임. n x n 체스판에 n개의 퀸을 놓는 방법의 수를 구하는 문제임."
   ]
  },
  {
   "cell_type": "code",
   "execution_count": 8,
   "metadata": {},
   "outputs": [
    {
     "name": "stdout",
     "output_type": "stream",
     "text": [
      "8\n",
      "92\n"
     ]
    }
   ],
   "source": [
    "N = int(input())\n",
    "\n",
    "col, rl, lr = [0]*N, [0]*(2*N -1), [0]*(2*N -1) \n",
    "count = 0\n",
    "\n",
    "def backtracking(what):\n",
    "    global count\n",
    "    if what == N:\n",
    "        count = count + 1\n",
    "        return \n",
    "    \n",
    "    for i in range(N):\n",
    "        if (col[i]==0 and rl[i+what] ==0 and lr[what-i+N-1]==0): \n",
    "            col[i] = rl[i+what] = lr[what-i+N-1] = 1\n",
    "            backtracking(what+1) \n",
    "            col[i] = rl[i+what] = lr[what-i+N-1] = 0\n",
    "\n",
    "backtracking(0)   \n",
    "print(count)"
   ]
  },
  {
   "cell_type": "markdown",
   "metadata": {},
   "source": [
    "##### 문제 2: 소수 경로\n",
    "http://www.acmicpc.net/problem/1963"
   ]
  },
  {
   "cell_type": "code",
   "execution_count": 6,
   "metadata": {},
   "outputs": [
    {
     "name": "stdout",
     "output_type": "stream",
     "text": [
      "3\n",
      "1033 8179\n",
      "6\n",
      "1373 8017\n",
      "7\n",
      "1033 1033\n",
      "0\n"
     ]
    }
   ],
   "source": [
    "import sys\n",
    "from collections import deque\n",
    "\n",
    "table = [0]*10000\n",
    "\n",
    "for i in range(2,100):\n",
    "    if table[i] == 0:\n",
    "        c = i+i\n",
    "        while c < 10000:\n",
    "            table[c]=1\n",
    "            c+=i\n",
    "            \n",
    "def bfs():\n",
    "    queue = deque([(first, 0)]) # 0은 변환 횟수\n",
    "    while queue:\n",
    "        now, step = queue.popleft()\n",
    "        if now == last:\n",
    "            return step\n",
    "        \n",
    "        str_now = str(now)\n",
    "        step += 1\n",
    "        for i in range(4): # 자리 수 4개\n",
    "            for j in map(str, range(10)):\n",
    "                if i == 0 and j == '0':\n",
    "                    continue\n",
    "                num = int(str_now[:i] + j + str_now[i+1:])\n",
    "                if table[num] == 0 and visited[num] == 0:\n",
    "                    visited[num] = 1\n",
    "                    queue.append((num, step))\n",
    "                    \n",
    "for _ in range(int(input())):\n",
    "    first, last = map(int, input().split())\n",
    "    visited = [0] * 10000\n",
    "    print(bfs())"
   ]
  }
 ],
 "metadata": {
  "kernelspec": {
   "display_name": "Python 3",
   "language": "python",
   "name": "python3"
  },
  "language_info": {
   "codemirror_mode": {
    "name": "ipython",
    "version": 3
   },
   "file_extension": ".py",
   "mimetype": "text/x-python",
   "name": "python",
   "nbconvert_exporter": "python",
   "pygments_lexer": "ipython3",
   "version": "3.7.1"
  }
 },
 "nbformat": 4,
 "nbformat_minor": 2
}
