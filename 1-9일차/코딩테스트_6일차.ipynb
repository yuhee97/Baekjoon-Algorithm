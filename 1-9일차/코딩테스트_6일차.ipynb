{
 "cells": [
  {
   "cell_type": "markdown",
   "metadata": {},
   "source": [
    "### 6일차 2020-12-29"
   ]
  },
  {
   "cell_type": "code",
   "execution_count": 52,
   "metadata": {},
   "outputs": [],
   "source": [
    "# DFS (Depth First Search)\n",
    "# 현재 정점에서 갈 수 있는 점들까지 들어가면서 탐색하며 스택 또는 재귀함수로 구현 가능하다."
   ]
  },
  {
   "cell_type": "markdown",
   "metadata": {},
   "source": [
    "https://dev-dream-world.tistory.com/80 -> DFS, BFS 설명"
   ]
  },
  {
   "cell_type": "code",
   "execution_count": 53,
   "metadata": {},
   "outputs": [],
   "source": [
    "# BFS (Breadth First Search)\n",
    "# 현재 정점에서 연결된 가까운 점들부터 탐색하며, 큐를 이용해서 구현 가능하다."
   ]
  },
  {
   "cell_type": "markdown",
   "metadata": {},
   "source": [
    "##### 문제 1: DFS, BFS 구현해보기\n",
    "https://www.acmicpc.net/problem/1260 백준: 1260"
   ]
  },
  {
   "cell_type": "code",
   "execution_count": 51,
   "metadata": {},
   "outputs": [
    {
     "name": "stdout",
     "output_type": "stream",
     "text": [
      "5 5 3\n",
      "5 4\n",
      "5 2\n",
      "1 2\n",
      "3 4\n",
      "3 1\n",
      "3 1 2 5 4 \n",
      "3 1 4 2 5 "
     ]
    }
   ],
   "source": [
    "import sys\n",
    "\n",
    "N, M, V = map(int, sys.stdin.readline().split()) \n",
    "graph = [[0]*(N+1) for i in range(N+1)]\n",
    "visited = [0 for i in range(N+1)]\n",
    "\n",
    "for i in range(M):\n",
    "    x, y = map(int, sys.stdin.readline().split())\n",
    "    graph[x][y] = 1\n",
    "    graph[y][x] = 1\n",
    "\n",
    "    \n",
    "def dfs(v):\n",
    "    visited[v] = 1\n",
    "    print(v, end = ' ')\n",
    "    for i in range(N+1):\n",
    "        if visited[i]==0 and graph[v][i]==1:\n",
    "            dfs(i)\n",
    "\n",
    "def bfs(v):\n",
    "    visited = [0 for i in range(N+1)]\n",
    "    queue = [v]\n",
    "    visited[v] = 1\n",
    "    while(queue):\n",
    "        v = queue.pop(0)\n",
    "        print(v, end=' ')\n",
    "        for i in range(N+1):\n",
    "            if visited[i] == 0 and graph[v][i] ==1:\n",
    "                queue.append(i)\n",
    "                visited[i] = 1\n",
    "dfs(V)\n",
    "print()\n",
    "bfs(V)"
   ]
  }
 ],
 "metadata": {
  "kernelspec": {
   "display_name": "Python 3",
   "language": "python",
   "name": "python3"
  }
 },
 "nbformat": 4,
 "nbformat_minor": 2
}
