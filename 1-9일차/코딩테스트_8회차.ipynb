{
 "cells": [
  {
   "cell_type": "markdown",
   "metadata": {},
   "source": [
    "### 8일차 2021-01-01"
   ]
  },
  {
   "cell_type": "markdown",
   "metadata": {},
   "source": [
    "##### 문제 1: 수학적 귀납법\n"
   ]
  },
  {
   "cell_type": "code",
   "execution_count": null,
   "metadata": {},
   "outputs": [],
   "source": [
    "# 입력 값이 n인 문제의 해를 f(n)으로 정의한다.\n",
    "\n",
    "def f(n):\n",
    "    if n==1:\n",
    "        return n\n",
    "    return(f(n-1) + n)\n",
    "\n",
    "f(int(input()))"
   ]
  },
  {
   "cell_type": "markdown",
   "metadata": {},
   "source": [
    "##### 문제 2: 수학적 귀납법(k진법)\n"
   ]
  },
  {
   "cell_type": "code",
   "execution_count": null,
   "metadata": {},
   "outputs": [],
   "source": [
    "## 입력 값이 n인 문제의 해를 f(n)으로 정의한다. 수학적 귀납법이 아닌 경우\n",
    "\n",
    "def change(t, k):\n",
    "    remain = ''\n",
    "    while(t > k):\n",
    "        share = t // k\n",
    "        re = str(t % k)\n",
    "        t = share\n",
    "        remain = re + remain\n",
    "    return int((str(t) + remain))\n",
    "\n",
    "ten, k = map(int, input().split())\n",
    "change(ten, k)"
   ]
  },
  {
   "cell_type": "code",
   "execution_count": null,
   "metadata": {},
   "outputs": [],
   "source": [
    "a = [1,2,345, 6]\n",
    "a[::-1]"
   ]
  },
  {
   "cell_type": "code",
   "execution_count": null,
   "metadata": {},
   "outputs": [],
   "source": [
    "## 입력 값이 n인 문제의 해를 f(n)으로 정의한다. 수학적 귀납법인 경우\n",
    "\n",
    "def change(t, k):\n",
    "    lis = []\n",
    "    if (t < k):\n",
    "        lis.append(t)\n",
    "    else:\n",
    "        lis.append(t % k)\n",
    "        change(t // k, k)\n",
    "    return print(*lis[::-1], end='')\n",
    "\n",
    "ten, k = map(int, input().split())\n",
    "change(ten, k)"
   ]
  },
  {
   "cell_type": "markdown",
   "metadata": {},
   "source": [
    "##### 문제 3: 타일\n",
    "\n",
    "https://www.acmicpc.net/problem/2133"
   ]
  },
  {
   "cell_type": "code",
   "execution_count": 70,
   "metadata": {},
   "outputs": [
    {
     "name": "stdout",
     "output_type": "stream",
     "text": [
      "6\n",
      "41\n"
     ]
    }
   ],
   "source": [
    "import sys\n",
    "\n",
    "n = int(input())\n",
    "\n",
    "lis = [0 for i in range(31)]; lis[2] = 3\n",
    "\n",
    "for i in range(4, 31, 2):\n",
    "    lis[i] = lis[i-2] * 3\n",
    "    for j in range(4, i, 2):\n",
    "        lis[i] += lis[i-j] * 2\n",
    "    lis[i]+=2\n",
    "    \n",
    "print(lis[n])"
   ]
  }
 ],
 "metadata": {
  "kernelspec": {
   "display_name": "Python 3",
   "language": "python",
   "name": "python3"
  },
  "language_info": {
   "codemirror_mode": {
    "name": "ipython",
    "version": 3
   },
   "file_extension": ".py",
   "mimetype": "text/x-python",
   "name": "python",
   "nbconvert_exporter": "python",
   "pygments_lexer": "ipython3",
   "version": "3.7.1"
  }
 },
 "nbformat": 4,
 "nbformat_minor": 2
}
