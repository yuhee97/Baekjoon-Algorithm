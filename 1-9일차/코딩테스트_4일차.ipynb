{
 "cells": [
  {
   "cell_type": "markdown",
   "metadata": {},
   "source": [
    "### 4일차 2020-12-26"
   ]
  },
  {
   "cell_type": "code",
   "execution_count": 7,
   "metadata": {},
   "outputs": [
    {
     "data": {
      "text/plain": [
       "427"
      ]
     },
     "execution_count": 7,
     "metadata": {},
     "output_type": "execute_result"
    }
   ],
   "source": [
    "import random \n",
    "\n",
    "# 난수 생정을 위한 초기값을 1234로\n",
    "random.seed(12345)\n",
    "\n",
    "# 1과 1000 사이의 난수 1개를 생성하여 변수에 할당\n",
    "a = random.randint(1, 1000)\n",
    "a"
   ]
  },
  {
   "cell_type": "code",
   "execution_count": 16,
   "metadata": {},
   "outputs": [
    {
     "name": "stdout",
     "output_type": "stream",
     "text": [
      "1608985482.7189715\n",
      "time.struct_time(tm_year=2020, tm_mon=12, tm_mday=26, tm_hour=21, tm_min=24, tm_sec=42, tm_wday=5, tm_yday=361, tm_isdst=0)\n",
      "2020-12-26 21:24:42.719934\n"
     ]
    }
   ],
   "source": [
    "import time\n",
    "\n",
    "# 현재 시간 (1970년 1월 1일 0시 0분 0초로부터 현재 시각을 몇 초인지를 리턴함)\n",
    "print(time.time())\n",
    "print(time.localtime(time.time()))\n",
    "\n",
    "import datetime\n",
    "print(datetime.datetime.today())"
   ]
  },
  {
   "cell_type": "code",
   "execution_count": 24,
   "metadata": {},
   "outputs": [
    {
     "data": {
      "text/plain": [
       "65"
      ]
     },
     "execution_count": 24,
     "metadata": {},
     "output_type": "execute_result"
    }
   ],
   "source": [
    "# ord('문자'), 문자의 유니코드 값을 리턴함\n",
    "ord('A')"
   ]
  },
  {
   "cell_type": "code",
   "execution_count": 8,
   "metadata": {},
   "outputs": [
    {
     "data": {
      "text/plain": [
       "[1, 2, 3, 4, 5, 6, 7, 8, 9]"
      ]
     },
     "execution_count": 8,
     "metadata": {},
     "output_type": "execute_result"
    }
   ],
   "source": [
    "# filter()\n",
    "list(filter(lambda x: x > 0, range(-10,10)))"
   ]
  },
  {
   "cell_type": "markdown",
   "metadata": {},
   "source": [
    "##### 문제 1: 욱제는 도박쟁이야!!\n",
    "https://www.acmicpc.net/problem/14655  백준: 14655번"
   ]
  },
  {
   "cell_type": "code",
   "execution_count": 22,
   "metadata": {},
   "outputs": [
    {
     "name": "stdout",
     "output_type": "stream",
     "text": [
      "6\n",
      "5 -2 -7 -8 9 1\n",
      "-9 1 8 -7 5 2\n",
      "64\n"
     ]
    }
   ],
   "source": [
    "import sys\n",
    "\n",
    "n = int(sys.stdin.readline().strip())\n",
    "round1 = list(map(int, sys.stdin.readline().strip().split()))\n",
    "round2 = list(map(int, sys.stdin.readline().strip().split()))\n",
    "\n",
    "for i in range(0, len(round1)):\n",
    "    if round1[i]<0:\n",
    "        round1[i] = - round1[i]\n",
    "    if round2[i]>0:\n",
    "        round2[i] = - round2[i]\n",
    "        \n",
    "result = sum(round1) - sum(round2)\n",
    "print(result)    "
   ]
  },
  {
   "cell_type": "markdown",
   "metadata": {},
   "source": [
    "##### 문제 2: 압축\n",
    "\n",
    "http://tech.kakao.com/2017/11/14/kakao-blind-recruitment-round-3/"
   ]
  },
  {
   "cell_type": "code",
   "execution_count": 160,
   "metadata": {},
   "outputs": [],
   "source": [
    "from string import ascii_uppercase\n",
    "\n",
    "global dict_ary\n",
    "dict_ary = dict()\n",
    "\n",
    "def search(str):\n",
    "    key = dict_ary.keys()\n",
    "    if str in key:\n",
    "        return dict_ary[str]\n",
    "    return 'x'\n",
    "    \n",
    "def LZW(msg):\n",
    "    alpha = list(ascii_uppercase); answer = []\n",
    "    \n",
    "    for i in range(0, len(alpha)):\n",
    "        dict_ary[alpha[i]] = i + 1\n",
    " \n",
    "    c = 0; word = msg[c]\n",
    "    \n",
    "    while(c < len(msg)):\n",
    "        if (search(word) != 'x'):\n",
    "            if (c == (len(msg)-1)):\n",
    "                answer.append((search(word)))\n",
    "                break;\n",
    "            c = c + 1\n",
    "            word = word + msg[c]\n",
    "        else:\n",
    "            answer.append(search(word[0:len(word)-1]))\n",
    "            dict_ary[word] = len(dict_ary) + 1\n",
    "            word = msg[c] \n",
    "    return answer"
   ]
  },
  {
   "cell_type": "code",
   "execution_count": 149,
   "metadata": {},
   "outputs": [
    {
     "data": {
      "text/plain": [
       "[11, 1, 27, 15]"
      ]
     },
     "execution_count": 149,
     "metadata": {},
     "output_type": "execute_result"
    }
   ],
   "source": [
    "msg = 'KAKAO'\n",
    "LZW(msg)"
   ]
  },
  {
   "cell_type": "code",
   "execution_count": 153,
   "metadata": {},
   "outputs": [
    {
     "data": {
      "text/plain": [
       "[20, 15, 2, 5, 15, 18, 14, 15, 20, 27, 29, 31, 36, 30, 32, 34]"
      ]
     },
     "execution_count": 153,
     "metadata": {},
     "output_type": "execute_result"
    }
   ],
   "source": [
    "msg = 'TOBEORNOTTOBEORTOBEORNOT'\n",
    "LZW(msg)"
   ]
  },
  {
   "cell_type": "code",
   "execution_count": 161,
   "metadata": {},
   "outputs": [
    {
     "data": {
      "text/plain": [
       "[1, 2, 27, 29, 28, 31, 30]"
      ]
     },
     "execution_count": 161,
     "metadata": {},
     "output_type": "execute_result"
    }
   ],
   "source": [
    "msg = 'ABABABABABABABAB'\n",
    "LZW(msg)"
   ]
  }
 ],
 "metadata": {
  "kernelspec": {
   "display_name": "Python 3",
   "language": "python",
   "name": "python3"
  },
  "language_info": {
   "codemirror_mode": {
    "name": "ipython",
    "version": 3
   },
   "file_extension": ".py",
   "mimetype": "text/x-python",
   "name": "python",
   "nbconvert_exporter": "python",
   "pygments_lexer": "ipython3",
   "version": "3.7.1"
  }
 },
 "nbformat": 4,
 "nbformat_minor": 2
}
