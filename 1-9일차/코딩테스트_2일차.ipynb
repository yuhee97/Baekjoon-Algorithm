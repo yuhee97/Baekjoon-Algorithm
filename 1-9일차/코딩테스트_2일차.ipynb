{
 "cells": [
  {
   "cell_type": "markdown",
   "metadata": {},
   "source": [
    "### 2일차 2020-12-23"
   ]
  },
  {
   "cell_type": "markdown",
   "metadata": {},
   "source": [
    "##### deque library의 여러 함수 기능"
   ]
  },
  {
   "cell_type": "code",
   "execution_count": 9,
   "metadata": {},
   "outputs": [],
   "source": [
    "from collections import deque"
   ]
  },
  {
   "cell_type": "code",
   "execution_count": 21,
   "metadata": {},
   "outputs": [
    {
     "name": "stdout",
     "output_type": "stream",
     "text": [
      "deque([1, 4, 3, 7, 16])\n",
      "5\n",
      "1\n",
      "deque([1, 4, 3, 7, 16, 11, 44])\n",
      "deque([44, 11, 1, 4, 3, 7, 16, 11, 44])\n",
      "0\n",
      "deque([1611888, 44, 11, 1, 4, 3, 7, 16, 11, 44])\n",
      "deque([44, 11, 1, 4, 3, 7, 16, 11, 44])\n",
      "deque([44, 11, 16, 7, 3, 4, 1, 11, 44])\n",
      "deque([44, 44, 11, 16, 7, 3, 4, 1, 11])\n",
      "deque([1, 11, 44, 44, 11, 16, 7, 3, 4])\n",
      "deque([])\n"
     ]
    }
   ],
   "source": [
    "deque_list = deque()\n",
    "deque_list.append(1);deque_list.append(4);deque_list.append(3);deque_list.append(7);deque_list.append(16)\n",
    "print(deque_list)\n",
    "\n",
    "# len(a): 요소 개수\n",
    "print(len(deque_list))\n",
    "\n",
    "# .count(s): s의 개수를 반환\n",
    "print(deque_list.count(1))\n",
    "\n",
    "deque_list1 = deque()\n",
    "deque_list1.append(11);deque_list1.append(44)\n",
    "\n",
    "# .extend(something): 오른쪽에 합치기\n",
    "deque_list.extend(deque_list1)\n",
    "print(deque_list)\n",
    "\n",
    "# .extendleft(something): 왼쪽에 합치기\n",
    "deque_list.extendleft(deque_list1)\n",
    "print(deque_list)\n",
    "\n",
    "# .index(something): something의 위치 반환 -> 처음 확인되는 값의 인덱스로\n",
    "print(deque_list.index(44))\n",
    "\n",
    "# .insert(index, something): index 위치에 something 삽입\n",
    "deque_list.insert(0, 1611888)\n",
    "print(deque_list)\n",
    "\n",
    "# .remove(something): something 값을 삭제, 없으면 에러 발생\n",
    "deque_list.remove(1611888)\n",
    "print(deque_list)\n",
    "\n",
    "# .reverse(): 순서를 뒤집는다.\n",
    "deque_list.reverse()\n",
    "print(deque_list)\n",
    "\n",
    "# .rotate(n=1): .appendleft(.pop()) 와 같은 값, 오른쪽 값을 왼쪽 끝으로 보낸다.\n",
    "deque_list.rotate(1)\n",
    "print(deque_list)\n",
    "deque_list.rotate(2)\n",
    "print(deque_list)\n",
    "\n",
    "# .clear(): 비운다.\n",
    "deque_list.clear()\n",
    "print(deque_list)"
   ]
  },
  {
   "cell_type": "markdown",
   "metadata": {},
   "source": [
    "##### list의 여러 함수 기능"
   ]
  },
  {
   "cell_type": "code",
   "execution_count": 30,
   "metadata": {},
   "outputs": [],
   "source": [
    "# deque와 동일 (rotate() x, popleft() x, extendleft() x) "
   ]
  },
  {
   "cell_type": "code",
   "execution_count": 103,
   "metadata": {},
   "outputs": [],
   "source": [
    "a = []    \n",
    "for i in range(n):\n",
    "    line = []              \n",
    "    for j in range(2):\n",
    "        line.append(0)     \n",
    "    a.append(line)        "
   ]
  },
  {
   "cell_type": "code",
   "execution_count": 156,
   "metadata": {},
   "outputs": [],
   "source": [
    "arr1_arr2 = [[1,2], [2, 3]]\n",
    "arr2_arr1 = [[1,4], [7, 3]]"
   ]
  },
  {
   "cell_type": "code",
   "execution_count": 158,
   "metadata": {},
   "outputs": [
    {
     "data": {
      "text/plain": [
       "0"
      ]
     },
     "execution_count": 158,
     "metadata": {},
     "output_type": "execute_result"
    }
   ],
   "source": [
    "1 if 1>4 else 0    "
   ]
  },
  {
   "cell_type": "markdown",
   "metadata": {},
   "source": [
    "##### 문제 1. 비밀지도\n",
    "\n",
    "https://tech.kakao.com/2017/09/27/kakao-blind-recruitment-round-1/"
   ]
  },
  {
   "cell_type": "code",
   "execution_count": 174,
   "metadata": {},
   "outputs": [],
   "source": [
    "def secret_map(n, arr1, arr2):\n",
    "    arr1_arr2 = []; arr2_arr1 = []; total_sum = []\n",
    "    for i in range(0, n):\n",
    "        j = 0\n",
    "        arr_1 = []; arr_2 = []\n",
    "        arr1_v = arr1[i]\n",
    "        arr2_v = arr2[i]\n",
    "        while(True):\n",
    "            arr_1.insert(0, arr1_v%2)\n",
    "            arr_2.insert(0, arr2_v%2)\n",
    "            arr1_v = arr1_v//2\n",
    "            arr2_v = arr2_v//2\n",
    "            j+=1\n",
    "            if j == n:\n",
    "                break\n",
    "        arr1_arr2.append(arr_1)\n",
    "        arr2_arr1.append(arr_2)\n",
    "    for k in range(0, n):\n",
    "        total = '';\n",
    "        for h in range(0, n):\n",
    "            total = total + (\"#\" if (arr1_arr2[k][h]==1) or (arr2_arr1[k][h]==1) else \" \")\n",
    "        total_sum.append(total)\n",
    "    return total_sum"
   ]
  },
  {
   "cell_type": "code",
   "execution_count": 168,
   "metadata": {},
   "outputs": [],
   "source": [
    "n = 5\n",
    "arr1 = [9, 20, 28, 18, 11]\n",
    "arr2 = [30, 1, 21, 17, 28]"
   ]
  },
  {
   "cell_type": "code",
   "execution_count": 175,
   "metadata": {},
   "outputs": [
    {
     "data": {
      "text/plain": [
       "['#####', '# # #', '### #', '#  ##', '#####']"
      ]
     },
     "execution_count": 175,
     "metadata": {},
     "output_type": "execute_result"
    }
   ],
   "source": [
    "secret_map(n, arr1, arr2)"
   ]
  },
  {
   "cell_type": "code",
   "execution_count": 39,
   "metadata": {},
   "outputs": [],
   "source": [
    "n = 6\n",
    "arr1= [46, 33, 33, 22, 31, 50]\n",
    "arr2 = [27, 56, 19, 14, 14, 10]"
   ]
  },
  {
   "cell_type": "code",
   "execution_count": 177,
   "metadata": {},
   "outputs": [
    {
     "data": {
      "text/plain": [
       "['######', '###  #', '##  ##', ' #### ', ' #####', '### # ']"
      ]
     },
     "execution_count": 177,
     "metadata": {},
     "output_type": "execute_result"
    }
   ],
   "source": [
    "secret_map(n, arr1, arr2)"
   ]
  },
  {
   "cell_type": "markdown",
   "metadata": {},
   "source": [
    "###### set(집합)"
   ]
  },
  {
   "cell_type": "code",
   "execution_count": 86,
   "metadata": {},
   "outputs": [
    {
     "data": {
      "text/plain": [
       "{1, 2, 3, 5, 23}"
      ]
     },
     "execution_count": 86,
     "metadata": {},
     "output_type": "execute_result"
    }
   ],
   "source": [
    "# 중괄호({})를 사용하는 것은 dictionary와 비슷하지만, key가 없고 값만 존재한다.\n",
    "# set()을 하면 중복된 값은 자동으로 중복이 제거 된다.\n",
    "set_data = {1, 1, 2, 3, 5, 2, 23, 5}\n",
    "set_data"
   ]
  },
  {
   "cell_type": "code",
   "execution_count": 8,
   "metadata": {},
   "outputs": [
    {
     "name": "stdout",
     "output_type": "stream",
     "text": [
      "1\n",
      "2\n",
      "3\n",
      "5\n",
      "23\n",
      "634\n"
     ]
    }
   ],
   "source": [
    "# set(집합)은 순서가 없다.\n",
    "for i in {1, 2, 23, 2, 3, 5, 634}:\n",
    "    print(i)"
   ]
  },
  {
   "cell_type": "code",
   "execution_count": 87,
   "metadata": {},
   "outputs": [
    {
     "name": "stdout",
     "output_type": "stream",
     "text": [
      "{1, 2, 3, 5, 22, 23}\n",
      "{1, 2, 3, 5, 22, 23, 25}\n",
      "{1, 2, 3, 5, 22, 23}\n",
      "{1, 2, 3, 5, 22, 23}\n"
     ]
    }
   ],
   "source": [
    "# 원소 추가는 add() \n",
    "set_data.add(22)\n",
    "print(set_data)\n",
    "\n",
    "# 원소 추가는 update()\n",
    "set_data.update([1, 25])\n",
    "print(set_data)\n",
    "\n",
    "# 원소 제거는 remove(), 원소가 없으면 에러 발생\n",
    "set_data.remove(25)\n",
    "print(set_data)\n",
    "\n",
    "# 원소 제거는 discard(), 원소가 없어도 에러 발생 x\n",
    "set_data.discard(24)\n",
    "print(set_data)\n",
    "\n",
    "# union - 합집합(|), intersection - 교집합(&), difference - 차집합(-), symmetric-difference - (합집합 - 교집합)(^)\n",
    "\n",
    "# issubset(): 부분집합 여부 확인, issuperset(): superset인지 여부 확인, isdisjoint(): 교집합이 있는지 여부 확인"
   ]
  },
  {
   "cell_type": "markdown",
   "metadata": {},
   "source": [
    "##### dictionary(key-value Mapping 자료구조이다.)"
   ]
  },
  {
   "cell_type": "code",
   "execution_count": 21,
   "metadata": {},
   "outputs": [
    {
     "data": {
      "text/plain": [
       "{'name': 'yuhee', 'phone': '0104929****', 'age': '24'}"
      ]
     },
     "execution_count": 21,
     "metadata": {},
     "output_type": "execute_result"
    }
   ],
   "source": [
    "dic = {'name':'yuhee', 'phone':'0104929****', 'age': '24'}\n",
    "dic"
   ]
  },
  {
   "cell_type": "code",
   "execution_count": 22,
   "metadata": {},
   "outputs": [
    {
     "data": {
      "text/plain": [
       "{'name': 'yuhee',\n",
       " 'phone': '0104929****',\n",
       " 'age': '24',\n",
       " 'university': \"Sookmyung Women's Univ\"}"
      ]
     },
     "execution_count": 22,
     "metadata": {},
     "output_type": "execute_result"
    }
   ],
   "source": [
    "# 추가\n",
    "dic['university'] = \"Sookmyung Women's Univ\"\n",
    "dic"
   ]
  },
  {
   "cell_type": "code",
   "execution_count": 23,
   "metadata": {},
   "outputs": [
    {
     "data": {
      "text/plain": [
       "{'name': 'yuhee',\n",
       " 'phone': '0104929****',\n",
       " 'university': \"Sookmyung Women's Univ\"}"
      ]
     },
     "execution_count": 23,
     "metadata": {},
     "output_type": "execute_result"
    }
   ],
   "source": [
    "# 삭제\n",
    "del dic['age']\n",
    "dic"
   ]
  },
  {
   "cell_type": "code",
   "execution_count": 24,
   "metadata": {},
   "outputs": [
    {
     "data": {
      "text/plain": [
       "dict_keys(['name', 'phone', 'university'])"
      ]
     },
     "execution_count": 24,
     "metadata": {},
     "output_type": "execute_result"
    }
   ],
   "source": [
    "# Key 리스트 만들기(keys)\n",
    "dic.keys()"
   ]
  },
  {
   "cell_type": "code",
   "execution_count": 25,
   "metadata": {},
   "outputs": [
    {
     "data": {
      "text/plain": [
       "dict_values(['yuhee', '0104929****', \"Sookmyung Women's Univ\"])"
      ]
     },
     "execution_count": 25,
     "metadata": {},
     "output_type": "execute_result"
    }
   ],
   "source": [
    "# Value 리스트 만들기(values)\n",
    "dic.values()"
   ]
  },
  {
   "cell_type": "code",
   "execution_count": 26,
   "metadata": {},
   "outputs": [
    {
     "data": {
      "text/plain": [
       "dict_items([('name', 'yuhee'), ('phone', '0104929****'), ('university', \"Sookmyung Women's Univ\")])"
      ]
     },
     "execution_count": 26,
     "metadata": {},
     "output_type": "execute_result"
    }
   ],
   "source": [
    "# Key, Value 쌍 얻기(items)\n",
    "dic.items()"
   ]
  },
  {
   "cell_type": "code",
   "execution_count": 27,
   "metadata": {},
   "outputs": [
    {
     "data": {
      "text/plain": [
       "'0104929****'"
      ]
     },
     "execution_count": 27,
     "metadata": {},
     "output_type": "execute_result"
    }
   ],
   "source": [
    "# key로 value 얻기\n",
    "dic.get('phone')"
   ]
  },
  {
   "cell_type": "markdown",
   "metadata": {},
   "source": [
    "##### python의 입력"
   ]
  },
  {
   "cell_type": "code",
   "execution_count": 28,
   "metadata": {},
   "outputs": [],
   "source": [
    "# input(): 내장함수, 입력이 없는데 수행될 경우 에러\n",
    "# sys.stdin.readline(): import sys 선언이 필요함, 빠름"
   ]
  },
  {
   "cell_type": "markdown",
   "metadata": {},
   "source": [
    "##### python의 map() < map 함수는 반복가능한 iterable 객체의 각 요소에 특정 함수를 적용해주는 함수>"
   ]
  },
  {
   "cell_type": "markdown",
   "metadata": {},
   "source": [
    "##### 문제 2. 수강신청  (백준: 13414번)\n",
    "\n",
    "https://www.acmicpc.net/problem/13414                  "
   ]
  },
  {
   "cell_type": "code",
   "execution_count": null,
   "metadata": {},
   "outputs": [],
   "source": [
    "# sys.stdin.readline() 공백이 포함되는 경우가 있으므로 strip()을 이용하여 양쪽의 공백을 제거해줘야 결과값이랑 동일하다고 판단함!\n",
    "# 876ms\n",
    "\n",
    "import sys\n",
    "\n",
    "max_num, stu_num = map(int, sys.stdin.readline().strip().split())\n",
    "stu_set = {}\n",
    "for i in range(0, stu_num):\n",
    "    student_num = sys.stdin.readline().strip()\n",
    "    if student_num not in stu_set:\n",
    "        stu_set[student_num] = []\n",
    "    else:\n",
    "        del stu_set[student_num]\n",
    "        stu_set[student_num] = []\n",
    "keys = list(stu_set.keys())\n",
    "i = 0\n",
    "for n in keys:\n",
    "    if i < int(max_num):\n",
    "        print(n)\n",
    "        i+=1\n",
    "    else: \n",
    "        break"
   ]
  }
 ],
 "metadata": {
  "kernelspec": {
   "display_name": "Python 3",
   "language": "python",
   "name": "python3"
  },
  "language_info": {
   "codemirror_mode": {
    "name": "ipython",
    "version": 3
   },
   "file_extension": ".py",
   "mimetype": "text/x-python",
   "name": "python",
   "nbconvert_exporter": "python",
   "pygments_lexer": "ipython3",
   "version": "3.7.1"
  }
 },
 "nbformat": 4,
 "nbformat_minor": 2
}
