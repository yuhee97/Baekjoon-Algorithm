{
 "cells": [
  {
   "cell_type": "markdown",
   "metadata": {},
   "source": [
    "### 10일차 2021-01-03"
   ]
  },
  {
   "cell_type": "markdown",
   "metadata": {},
   "source": [
    "##### 문제1: 영역 구분\n",
    "http://www.acmicpc.net/problem/2583"
   ]
  },
  {
   "cell_type": "code",
   "execution_count": 47,
   "metadata": {},
   "outputs": [
    {
     "name": "stdout",
     "output_type": "stream",
     "text": [
      "5 7 3\n",
      "0 2 4 4\n",
      "1 1 2 5\n",
      "4 0 6 2\n"
     ]
    }
   ],
   "source": [
    "import sys\n",
    "from collections import deque\n",
    "\n",
    "M, N, K = map(int, input().split())\n",
    "t= [[0] * N for i in range(M)]\n",
    "\n",
    "for i in range(K):\n",
    "    x1, y1, x2, y2 = map(int, input().split())\n",
    "    for i in range(x1, x2):\n",
    "        for j in range(y1, y2):\n",
    "            t[j][i] = 1\n",
    "t.reverse()"
   ]
  },
  {
   "cell_type": "code",
   "execution_count": 48,
   "metadata": {},
   "outputs": [
    {
     "data": {
      "text/plain": [
       "[[0, 1, 0, 0, 0, 0, 0],\n",
       " [1, 1, 1, 1, 0, 0, 0],\n",
       " [1, 1, 1, 1, 0, 0, 0],\n",
       " [0, 1, 0, 0, 1, 1, 0],\n",
       " [0, 0, 0, 0, 1, 1, 0]]"
      ]
     },
     "execution_count": 48,
     "metadata": {},
     "output_type": "execute_result"
    }
   ],
   "source": [
    "t"
   ]
  },
  {
   "cell_type": "code",
   "execution_count": 49,
   "metadata": {},
   "outputs": [
    {
     "name": "stdout",
     "output_type": "stream",
     "text": [
      "0\n",
      "0\n",
      "0\n",
      "3\n",
      "2\n",
      "0\n",
      "3\n",
      "1 7 13\n"
     ]
    }
   ],
   "source": [
    "def bfs():\n",
    "    sums = []\n",
    "    queue = deque()\n",
    "    ax = [-1, 0, 1, 0]; ay = [0, -1, 0, 1]\n",
    "    c = 0\n",
    "    for i in range(N):\n",
    "        for j in range(M):\n",
    "            if t[j][i] == 0:\n",
    "                queue.append([j, i])\n",
    "                t[j][i] = 1\n",
    "                c = 1  \n",
    "                while(queue):\n",
    "                    y, x = queue.popleft()\n",
    "                    for k in range(4):\n",
    "                        cx = x - ax[k]\n",
    "                        cy = y - ay[k]\n",
    "                        if (0 <= cx < N and 0 <= cy < M and t[cy][cx] == 0):\n",
    "                            queue.append([cy, cx])\n",
    "                            t[cy][cx] = 1\n",
    "                            c += 1\n",
    "                sums.append(c)\n",
    "    print(len(sums))\n",
    "    sums.sort()\n",
    "    print(* sums)\n",
    "    \n",
    "bfs()"
   ]
  },
  {
   "cell_type": "markdown",
   "metadata": {},
   "source": [
    "##### 문제2: 트로미노\n",
    "https://www.acmicpc.net/problem/14601"
   ]
  },
  {
   "cell_type": "code",
   "execution_count": null,
   "metadata": {},
   "outputs": [],
   "source": [
    "import sys\n",
    "\n",
    "K = int(sys.stdin.readline())\n",
    "size = 2**K\n",
    "x, y = map(int, sys.stdin.readline().split())\n",
    "\n",
    "# 실력을 쌓고.."
   ]
  },
  {
   "cell_type": "markdown",
   "metadata": {},
   "source": [
    "##### 문제3: 삼성 sw 역량 평가 (난이도: 하)\n",
    "http://www.acmicpc.net/problem/13458"
   ]
  },
  {
   "cell_type": "code",
   "execution_count": 32,
   "metadata": {},
   "outputs": [
    {
     "name": "stdout",
     "output_type": "stream",
     "text": [
      "1\n",
      "1\n",
      "1 1\n",
      "1\n"
     ]
    }
   ],
   "source": [
    "import sys, math\n",
    "\n",
    "N = int(input())\n",
    "A = list(map(int, input().split()))\n",
    "B, C = map(int, input().split())\n",
    "M = [0 for i in range(N)]\n",
    "\n",
    "for i in range(N):\n",
    "    A[i] = A[i] - B\n",
    "    if A[i]<=0:\n",
    "        M[i] += 1\n",
    "        continue\n",
    "    value = math.ceil(A[i]/C)\n",
    "    M[i] += value\n",
    "print(sum(M))"
   ]
  },
  {
   "cell_type": "code",
   "execution_count": 37,
   "metadata": {},
   "outputs": [
    {
     "name": "stdout",
     "output_type": "stream",
     "text": [
      "3\n",
      "3 4 5\n",
      "2 2\n",
      "7\n"
     ]
    }
   ],
   "source": [
    "import sys, math\n",
    "\n",
    "N = int(input())\n",
    "A = list(map(int, input().split()))\n",
    "B, C = map(int, input().split())\n",
    "M = [0 for i in range(N)]\n",
    "\n",
    "for i in range(N):\n",
    "    A[i] = A[i] - B\n",
    "    if A[i]<=0:\n",
    "        M[i] += 1\n",
    "        continue\n",
    "    M[i] += 1\n",
    "    value = math.ceil(A[i]/C)\n",
    "    M[i] += value\n",
    "print(sum(M))"
   ]
  },
  {
   "cell_type": "code",
   "execution_count": 38,
   "metadata": {},
   "outputs": [
    {
     "name": "stdout",
     "output_type": "stream",
     "text": [
      "5\n",
      "1000000 1000000 1000000 1000000 1000000\n",
      "5 7\n",
      "714290\n"
     ]
    }
   ],
   "source": [
    "import sys, math\n",
    "\n",
    "N = int(input())\n",
    "A = list(map(int, input().split()))\n",
    "B, C = map(int, input().split())\n",
    "M = [0 for i in range(N)]\n",
    "\n",
    "for i in range(N):\n",
    "    A[i] = A[i] - B\n",
    "    if A[i]<=0:\n",
    "        M[i] += 1\n",
    "        continue\n",
    "    M[i] += 1\n",
    "    value = math.ceil(A[i]/C)\n",
    "    M[i] += value\n",
    "print(sum(M))"
   ]
  },
  {
   "cell_type": "code",
   "execution_count": 39,
   "metadata": {},
   "outputs": [
    {
     "name": "stdout",
     "output_type": "stream",
     "text": [
      "5\n",
      "10 9 10 9 10\n",
      "7 20\n",
      "10\n"
     ]
    }
   ],
   "source": [
    "import sys, math\n",
    "\n",
    "N = int(input())\n",
    "A = list(map(int, input().split()))\n",
    "B, C = map(int, input().split())\n",
    "M = [0 for i in range(N)]\n",
    "\n",
    "for i in range(N):\n",
    "    A[i] = A[i] - B\n",
    "    if A[i]<=0:\n",
    "        M[i] += 1\n",
    "        continue\n",
    "    M[i] += 1\n",
    "    value = math.ceil(A[i]/C)\n",
    "    M[i] += value\n",
    "print(sum(M))"
   ]
  },
  {
   "cell_type": "code",
   "execution_count": 40,
   "metadata": {},
   "outputs": [
    {
     "name": "stdout",
     "output_type": "stream",
     "text": [
      "5\n",
      "10 9 10 9 10\n",
      "7 2\n",
      "13\n"
     ]
    }
   ],
   "source": [
    "import sys, math\n",
    "\n",
    "N = int(sys.stdin.readline())\n",
    "A = list(map(int, sys.stdin.readline().split()))\n",
    "B, C = map(int, sys.stdin.readline().split())\n",
    "M = [0 for i in range(N)]\n",
    "\n",
    "for i in range(N):\n",
    "    A[i] = A[i] - B\n",
    "    if A[i]<=0:\n",
    "        M[i] += 1\n",
    "        continue\n",
    "    M[i] += 1\n",
    "    value = math.ceil(A[i]/C)\n",
    "    M[i] += value\n",
    "print(sum(M))"
   ]
  }
 ],
 "metadata": {
  "kernelspec": {
   "display_name": "Python 3",
   "language": "python",
   "name": "python3"
  },
  "language_info": {
   "codemirror_mode": {
    "name": "ipython",
    "version": 3
   },
   "file_extension": ".py",
   "mimetype": "text/x-python",
   "name": "python",
   "nbconvert_exporter": "python",
   "pygments_lexer": "ipython3",
   "version": "3.7.1"
  }
 },
 "nbformat": 4,
 "nbformat_minor": 2
}
