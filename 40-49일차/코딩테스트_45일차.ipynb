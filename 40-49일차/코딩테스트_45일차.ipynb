{
 "cells": [
  {
   "cell_type": "markdown",
   "metadata": {},
   "source": [
    "### 2021-02-21 45일차"
   ]
  },
  {
   "cell_type": "markdown",
   "metadata": {},
   "source": [
    "##### 문제 1: ABCDE(골드 5)\n",
    "https://www.acmicpc.net/problem/13023"
   ]
  },
  {
   "cell_type": "code",
   "execution_count": 53,
   "metadata": {},
   "outputs": [
    {
     "name": "stdout",
     "output_type": "stream",
     "text": [
      "6 5\n",
      "0 1\n",
      "0 2\n",
      "0 3\n",
      "0 4\n",
      "0 5\n",
      "0\n"
     ]
    }
   ],
   "source": [
    "import sys\n",
    "sys.setrecursionlimit(10000000)\n",
    "\n",
    "N, M = map(int, input().split())\n",
    "graph = [[] for _ in range(N)]\n",
    "\n",
    "for _ in range(M):\n",
    "    a, b  = map(int, input().split())\n",
    "    graph[a].append(b)\n",
    "    graph[b].append(a)\n",
    "\n",
    "\n",
    "def dfs(now, dep):\n",
    "    global cor\n",
    "    if dep == 4:\n",
    "        cor = True\n",
    "        return \n",
    "    visited[now] = True\n",
    "    for i in graph[now]:\n",
    "        if visited[i] == False:\n",
    "            dfs(i, dep+1)\n",
    "            visited[i] = False\n",
    "\n",
    "confirm = False\n",
    "\n",
    "for i in range(N):\n",
    "    visited = [False] * N\n",
    "    cor = False\n",
    "    dfs(i, 0)\n",
    "    if cor:\n",
    "        confirm = True\n",
    "        print(1)\n",
    "        break\n",
    "        \n",
    "if not confirm :\n",
    "    print(0)"
   ]
  }
 ],
 "metadata": {
  "kernelspec": {
   "display_name": "Python 3",
   "language": "python",
   "name": "python3"
  },
  "language_info": {
   "codemirror_mode": {
    "name": "ipython",
    "version": 3
   },
   "file_extension": ".py",
   "mimetype": "text/x-python",
   "name": "python",
   "nbconvert_exporter": "python",
   "pygments_lexer": "ipython3",
   "version": "3.7.1"
  }
 },
 "nbformat": 4,
 "nbformat_minor": 2
}
