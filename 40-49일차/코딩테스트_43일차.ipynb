{
 "cells": [
  {
   "cell_type": "markdown",
   "metadata": {},
   "source": [
    "### 2021-02-9 43일차"
   ]
  },
  {
   "cell_type": "markdown",
   "metadata": {},
   "source": [
    "##### 문제1: 일곱 난쟁이(브론즈 2)\n",
    "https://www.acmicpc.net/problem/2309"
   ]
  },
  {
   "cell_type": "code",
   "execution_count": 3,
   "metadata": {},
   "outputs": [
    {
     "name": "stdout",
     "output_type": "stream",
     "text": [
      "20\n",
      "7\n",
      "23\n",
      "19\n",
      "10\n",
      "15\n",
      "25\n",
      "8\n",
      "13\n",
      "7\n",
      "8\n",
      "10\n",
      "13\n",
      "19\n",
      "20\n",
      "23\n"
     ]
    }
   ],
   "source": [
    "import sys\n",
    "from itertools import combinations\n",
    "\n",
    "num = []\n",
    "\n",
    "for _ in range(9):\n",
    "    num.append(int(input()))\n",
    "    \n",
    "combis = list(combinations(num, 7))\n",
    "n = []\n",
    "\n",
    "for i in combis:\n",
    "    if sum(i) == 100:\n",
    "        for j in i:\n",
    "            n.append(j)\n",
    "        break\n",
    "        \n",
    "n.sort()\n",
    "for i in range(7):\n",
    "    print(n[i])"
   ]
  },
  {
   "cell_type": "markdown",
   "metadata": {},
   "source": [
    "##### 문제2: 사탕 게임(실버 4)\n",
    "https://www.acmicpc.net/problem/3085"
   ]
  },
  {
   "cell_type": "code",
   "execution_count": 29,
   "metadata": {},
   "outputs": [
    {
     "name": "stdout",
     "output_type": "stream",
     "text": [
      "5\n",
      "YCPZY\n",
      "CYZZP\n",
      "CCPPP\n",
      "YCYZC\n",
      "CPPZZ\n"
     ]
    }
   ],
   "source": [
    "import sys\n",
    "from itertools import combinations\n",
    "import copy\n",
    "\n",
    "N = int(input())\n",
    "candy = []; mmm = 0\n",
    "\n",
    "for _ in range(N):\n",
    "    candy.append(list(input()))\n",
    "    \n",
    "d = [[-1, 0], [0, -1], [1, 0], [0, 1]]\n",
    "combis = list(combinations(d, 2))\n",
    "\n",
    "for i in range(N):\n",
    "    for j in range(N):\n",
    "        for k in combis:\n",
    "            x1, y1 = i + k[0][0], j + k[0][1]\n",
    "            x2, y2 = i + k[1][0], j + k[1][1]\n",
    "            if 0 <= x1 < N and 0 <= y1 < N and 0 <= x2 < N and 0 <= y2 < N:\n",
    "                if candy[x1][y1] != candy[x2][y2]:\n",
    "                    can = copy.deepcopy(candy)\n",
    "                    v = can[x1][y1]\n",
    "                    can[x1][y1] = can[x2][y2]\n",
    "                    can[x2][y2] = v\n",
    "                    for a in range(N):\n",
    "                        c = 0; cc = 0; m = 0; mm = 0\n",
    "                        for b in range(N-1):\n",
    "                            if can[a][b] == can[a][b+1]:\n",
    "                                c += 1\n",
    "                                m = max(m, c)\n",
    "                            else:\n",
    "                                m = c\n",
    "                                c = 0\n",
    "                                \n",
    "                            if can[b][a] == can[b+1][a]:\n",
    "                                cc += 1\n",
    "                                mm = max(mm, cc)\n",
    "                            else:\n",
    "                                mm = cc\n",
    "                                cc = 0\n",
    "                        mmm = max(m, mm, mmm)\n",
    "                        \n",
    "print(mmm)                               "
   ]
  },
  {
   "cell_type": "code",
   "execution_count": 3,
   "metadata": {},
   "outputs": [
    {
     "name": "stdout",
     "output_type": "stream",
     "text": [
      "5\n",
      "YCPZY\n",
      "CYZZP\n",
      "CCPPP\n",
      "YCYZC\n",
      "CPPZZ\n",
      "4\n"
     ]
    }
   ],
   "source": [
    "def check(candy_g, start_row, end_row, start_col, end_col):\n",
    "    ans = 1\n",
    "    for i in range(start_row, end_row+1):\n",
    "        cnt = 1\n",
    "        for j in range(0, N-1):\n",
    "            if candy_g[i][j] == candy_g[i][j+1]:\n",
    "                cnt += 1\n",
    "            else:\n",
    "                cnt = 1\n",
    "            if cnt > ans:\n",
    "                ans = cnt\n",
    "    for i in range(start_col, end_col+1):\n",
    "        cnt = 1\n",
    "        for j in range(0, N-1):\n",
    "            if candy_g[j][i] == candy_g[j+1][i]:\n",
    "                cnt += 1\n",
    "            else:\n",
    "                cnt = 1\n",
    "            if cnt > ans:\n",
    "                ans = cnt\n",
    "    return ans\n",
    "        \n",
    "N = int(input())\n",
    "candy = [list(input()) for _ in range(N)]\n",
    "temp = 0\n",
    "\n",
    "for i in range(N):\n",
    "    for j in range(N):\n",
    "        if j+1 < N:\n",
    "            candy[i][j],candy[i][j+1] =  candy[i][j+1], candy[i][j]\n",
    "            v = check(candy, i, i, j, j+1)\n",
    "            if temp < v:\n",
    "                temp = v\n",
    "            candy[i][j], candy[i][j+1] =  candy[i][j+1], candy[i][j]\n",
    "        if i+1 < N:\n",
    "            candy[i][j],candy[i+1][j] =  candy[i+1][j], candy[i][j]\n",
    "            v = check(candy, i, i+1, j, j)\n",
    "            if temp < v:\n",
    "                temp = v\n",
    "            candy[i][j],candy[i+1][j] =  candy[i+1][j], candy[i][j]\n",
    "            \n",
    "print(temp)           "
   ]
  },
  {
   "cell_type": "markdown",
   "metadata": {},
   "source": [
    "##### 문제3: 날짜 계산(실버 5)\n",
    "https://www.acmicpc.net/problem/1476"
   ]
  },
  {
   "cell_type": "code",
   "execution_count": 5,
   "metadata": {},
   "outputs": [
    {
     "name": "stdout",
     "output_type": "stream",
     "text": [
      "15 28 19\n",
      "7980\n"
     ]
    }
   ],
   "source": [
    "E, S, M = map(int, input().split())\n",
    "\n",
    "i = 1\n",
    "while True:\n",
    "    \n",
    "    if i > 15:\n",
    "        e = i % 15\n",
    "        if e == 0:\n",
    "            e = 15\n",
    "    else: \n",
    "        e = i\n",
    "        \n",
    "    if i > 28:\n",
    "        s = i % 28\n",
    "        if s == 0:\n",
    "            s = 28\n",
    "    else: \n",
    "        s = i\n",
    "        \n",
    "    if i > 19:\n",
    "        m = i % 19\n",
    "        if m == 0:\n",
    "            m = 19\n",
    "    else: \n",
    "        m = i\n",
    "       \n",
    "    if e == E and s == S and m == M:\n",
    "        print(i)\n",
    "        break\n",
    "        \n",
    "    i += 1"
   ]
  },
  {
   "cell_type": "markdown",
   "metadata": {},
   "source": [
    "##### 문제4: 리모컨(골드 5)\n",
    "https://www.acmicpc.net/problem/1107"
   ]
  },
  {
   "cell_type": "code",
   "execution_count": 56,
   "metadata": {},
   "outputs": [
    {
     "name": "stdout",
     "output_type": "stream",
     "text": [
      "5457\n",
      "3\n",
      "6 7 8\n",
      "6\n"
     ]
    }
   ],
   "source": [
    "import sys\n",
    "\n",
    "N = int(input())\n",
    "M = int(input())\n",
    "broken = list(input().split()) # sys.stdin.readline()\n",
    "\n",
    "\n",
    "def check(strr):\n",
    "    for i in range(len(strr)):\n",
    "        if strr[i] in broken:\n",
    "            return False\n",
    "    return True\n",
    "\n",
    "def near_num(strr):\n",
    "    small = '0'; big = '0'\n",
    "    for i in range(1000001):\n",
    "        confirm = True\n",
    "        string = str(i)\n",
    "        for j in range(len(string)):\n",
    "            if string[j] in broken:\n",
    "                confirm = False\n",
    "                break\n",
    "        if confirm:\n",
    "            if int(strr) > i:\n",
    "                small = str(i)\n",
    "            else:\n",
    "                big = str(i)\n",
    "                break\n",
    "    return small, big\n",
    "\n",
    "str_i = str(N)\n",
    "\n",
    "if str_i == '100':\n",
    "    print(0)\n",
    "elif check(str_i):\n",
    "    print(len(str_i))\n",
    "else:\n",
    "    s, b = near_num(str_i)\n",
    "    v = min(abs(N-100), len(s) + abs(int(s)-N), len(b) + abs(int(b)-N))\n",
    "    print(v)    "
   ]
  },
  {
   "cell_type": "code",
   "execution_count": 57,
   "metadata": {},
   "outputs": [
    {
     "name": "stdout",
     "output_type": "stream",
     "text": [
      "5457\n",
      "3\n",
      "6 7 8\n",
      "6\n"
     ]
    }
   ],
   "source": [
    "import sys\n",
    "\n",
    "N = int(input()); M = int(input()) # sys.stdin.readline()\n",
    "start = 100; result = abs(N - start) # +, - 로 가능\n",
    "but_x = list(input().strip())\n",
    "\n",
    "def check(n):\n",
    "    strr = list(str(n))\n",
    "    for i in strr:\n",
    "        if i in but_x:\n",
    "            return -1\n",
    "    return 1\n",
    "    \n",
    "for j in range(1000001):\n",
    "    if check(j) == 1: # 버튼으로 만들어질 수 있는 채널일 경우\n",
    "        result = min(result, len(str(j)) + abs(N-j)) # 두번째 값은 만들어질 수 있는 채널에서 +, - 로 이동한 횟수를 의미함.\n",
    "        \n",
    "print(result)"
   ]
  },
  {
   "cell_type": "markdown",
   "metadata": {},
   "source": [
    "##### 문제5: 카잉달력(실버 1)\n",
    "https://www.acmicpc.net/problem/6064"
   ]
  },
  {
   "cell_type": "code",
   "execution_count": 70,
   "metadata": {},
   "outputs": [
    {
     "name": "stdout",
     "output_type": "stream",
     "text": [
      "3\n",
      "10 12 3 9\n",
      "33\n",
      "10 12 7 2\n",
      "-1\n",
      "13 11 5 6\n",
      "83\n"
     ]
    }
   ],
   "source": [
    "T = int(input())\n",
    "        \n",
    "for _ in range(T):\n",
    "    check = False\n",
    "    M, N, x, y = map(int, input().split())\n",
    "    x -= 1\n",
    "    y -= 1\n",
    "    k = x\n",
    "    for i in range(k, M*N, M):\n",
    "        if i % N  == y:\n",
    "            check = True\n",
    "            print(i+1)\n",
    "            break\n",
    "    if not check:\n",
    "        print(-1)"
   ]
  },
  {
   "cell_type": "markdown",
   "metadata": {},
   "source": [
    "##### 문제6: 수 이어 쓰기(실버 3)\n",
    "https://www.acmicpc.net/problem/1748"
   ]
  },
  {
   "cell_type": "code",
   "execution_count": 82,
   "metadata": {},
   "outputs": [
    {
     "name": "stdout",
     "output_type": "stream",
     "text": [
      "120\n"
     ]
    },
    {
     "data": {
      "text/plain": [
       "252"
      ]
     },
     "execution_count": 82,
     "metadata": {},
     "output_type": "execute_result"
    }
   ],
   "source": [
    "N = input()\n",
    "\n",
    "def num_line(N):\n",
    "    if len(N) == 1:\n",
    "        return int(N)\n",
    "    elif len(N) == 2:\n",
    "        return 9 + len(N) * (int(N) - 9)\n",
    "    elif len(N) == 3:\n",
    "        return 9 + 90 * 2 + len(N) * (int(N) - 99)\n",
    "    elif len(N) == 4:\n",
    "        return 9 + 90 * 2 + 900 * 3 + len(N) * (int(N) - 999)\n",
    "    elif len(N) == 5:\n",
    "        return 9 + 90 * 2 + 900 * 3 + 9000 * 4 + len(N) * (int(N) - 9999)\n",
    "    elif len(N) == 6:\n",
    "        return 9 + 90 * 2 + 900 * 3 + 9000 * 4 + 90000 * 5 + len(N) * (int(N) - 99999)\n",
    "    elif len(N) == 7:\n",
    "        return 9 + 90 * 2 + 900 * 3 + 9000 * 4 + 90000 * 5 + 900000 * 6 + len(N) * (int(N) - 999999)\n",
    "    elif len(N) == 8:\n",
    "        return 9 + 90 * 2 + 900 * 3 + 9000 * 4 + 90000 * 5 + 900000 * 6 + 9000000 * 7 + len(N) * (int(N) - 9999999)\n",
    "    else:\n",
    "        return 9 + 90 * 2 + 900 * 3 + 9000 * 4 + 90000 * 5 + 900000 * 6 + 9000000 * 7 + 90000000 * 8 + len(N) * (int(N) - 99999999) \n",
    "    \n",
    "print(num_line(N))"
   ]
  }
 ],
 "metadata": {
  "kernelspec": {
   "display_name": "Python 3",
   "language": "python",
   "name": "python3"
  },
  "language_info": {
   "codemirror_mode": {
    "name": "ipython",
    "version": 3
   },
   "file_extension": ".py",
   "mimetype": "text/x-python",
   "name": "python",
   "nbconvert_exporter": "python",
   "pygments_lexer": "ipython3",
   "version": "3.7.1"
  }
 },
 "nbformat": 4,
 "nbformat_minor": 2
}
