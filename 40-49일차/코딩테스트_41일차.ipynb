{
 "cells": [
  {
   "cell_type": "markdown",
   "metadata": {},
   "source": [
    "### 2021-02-17 41일차"
   ]
  },
  {
   "cell_type": "markdown",
   "metadata": {},
   "source": [
    "##### 문제 1: 스타트링크(골드 5)\n",
    "https://www.acmicpc.net/problem/5014"
   ]
  },
  {
   "cell_type": "code",
   "execution_count": 29,
   "metadata": {},
   "outputs": [
    {
     "name": "stdout",
     "output_type": "stream",
     "text": [
      "100 2 1 1 0\n",
      "use the stairs\n"
     ]
    }
   ],
   "source": [
    "import sys\n",
    "from collections import deque\n",
    "\n",
    "F, S, G, U, D = map(int, input().split()) # sys.stdin.readline()\n",
    "visited = [0] * (F+1)\n",
    "d = [U, -D]\n",
    "\n",
    "def bfs(start_S):\n",
    "    queue = deque()\n",
    "    visited[start_S] = 1\n",
    "    queue.append(start_S)\n",
    "    while queue:\n",
    "        x = queue.popleft()\n",
    "        if x == G:\n",
    "            return visited[G]-1\n",
    "        for i in range(2):\n",
    "            nx = x + d[i]\n",
    "            if 0 < nx <= F and visited[nx] == 0:\n",
    "                visited[nx] = visited[x] + 1\n",
    "                queue.append(nx)\n",
    "    return visited[G]\n",
    "    \n",
    "if S == G:\n",
    "    print(0)\n",
    "else:\n",
    "    v = bfs(S)      \n",
    "    if v == 0:\n",
    "        print(\"use the stairs\")\n",
    "    else:\n",
    "        print(v)"
   ]
  },
  {
   "cell_type": "markdown",
   "metadata": {},
   "source": [
    "##### 문제 2: 약수(실버 5)\n",
    "https://www.acmicpc.net/problem/1037"
   ]
  },
  {
   "cell_type": "code",
   "execution_count": 34,
   "metadata": {
    "scrolled": true
   },
   "outputs": [
    {
     "name": "stdout",
     "output_type": "stream",
     "text": [
      "2\n",
      "4 2\n",
      "8\n"
     ]
    }
   ],
   "source": [
    "import sys\n",
    "\n",
    "N = int(input()) # sys.stdin.readline()\n",
    "num = list(map(int, input().split()))\n",
    "num.sort()\n",
    "\n",
    "print(num[0] * num[-1])"
   ]
  },
  {
   "cell_type": "markdown",
   "metadata": {},
   "source": [
    "##### 문제 3: 약수의 합 2(실버3)\n",
    "https://www.acmicpc.net/problem/17427"
   ]
  },
  {
   "cell_type": "code",
   "execution_count": 73,
   "metadata": {},
   "outputs": [
    {
     "name": "stdout",
     "output_type": "stream",
     "text": [
      "10000\n",
      "82256014\n"
     ]
    }
   ],
   "source": [
    "N = int(input())\n",
    "SUM = 0\n",
    "\n",
    "for i in range(1, N+1):\n",
    "    SUM += (N//i * i)\n",
    "    \n",
    "print(SUM)"
   ]
  }
 ],
 "metadata": {
  "kernelspec": {
   "display_name": "Python 3",
   "language": "python",
   "name": "python3"
  },
  "language_info": {
   "codemirror_mode": {
    "name": "ipython",
    "version": 3
   },
   "file_extension": ".py",
   "mimetype": "text/x-python",
   "name": "python",
   "nbconvert_exporter": "python",
   "pygments_lexer": "ipython3",
   "version": "3.7.1"
  }
 },
 "nbformat": 4,
 "nbformat_minor": 2
}
