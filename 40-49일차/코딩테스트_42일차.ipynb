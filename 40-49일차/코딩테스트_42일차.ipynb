{
 "cells": [
  {
   "cell_type": "markdown",
   "metadata": {},
   "source": [
    "### 2021-02-18 42일차"
   ]
  },
  {
   "cell_type": "markdown",
   "metadata": {},
   "source": [
    "##### 문제1: 약수의 합(골드5)\n",
    "https://www.acmicpc.net/problem/17425"
   ]
  },
  {
   "cell_type": "code",
   "execution_count": 3,
   "metadata": {},
   "outputs": [
    {
     "name": "stdout",
     "output_type": "stream",
     "text": [
      "5\n",
      "1\n",
      "1\n",
      "2\n",
      "4\n",
      "10\n",
      "87\n",
      "70\n",
      "4065\n",
      "10000\n",
      "82256014\n"
     ]
    }
   ],
   "source": [
    "import sys\n",
    "\n",
    "T = int(input()) # sys.stdin.readline()\n",
    "\n",
    "dp = [1] * (1000001); \n",
    "\n",
    "for i in range(2, 1000001):\n",
    "    for j in range(i, 1000001, i):\n",
    "        dp[j] += i\n",
    "        \n",
    "sp = [0] * (1000001); sp[1] = 1\n",
    "for i in range(2, 1000001):\n",
    "    sp[i] = sp[i-1] + dp[i]\n",
    "            \n",
    "for _ in range(T):\n",
    "    print(sp[int(input())])"
   ]
  },
  {
   "cell_type": "markdown",
   "metadata": {},
   "source": [
    "##### 문제2: 최대공약수와 최소공배수(실버 5)\n",
    "https://www.acmicpc.net/problem/2609"
   ]
  },
  {
   "cell_type": "code",
   "execution_count": 7,
   "metadata": {},
   "outputs": [
    {
     "name": "stdout",
     "output_type": "stream",
     "text": [
      "24 18\n",
      "6\n",
      "72\n"
     ]
    }
   ],
   "source": [
    "import sys\n",
    "\n",
    "n1, n2 = map(int, input().split())\n",
    "a = max(n1, n2)\n",
    "b = min(n1, n2); r = 1\n",
    "\n",
    "while r!=0:\n",
    "    r = a % b\n",
    "    a = b\n",
    "    b = r\n",
    "    \n",
    "print(a)    \n",
    "print(int(a*(n1/a)*(n2/a)))"
   ]
  },
  {
   "cell_type": "markdown",
   "metadata": {},
   "source": [
    "##### 문제3: 소수 찾기(실버 4)\n",
    "https://www.acmicpc.net/problem/1978"
   ]
  },
  {
   "cell_type": "code",
   "execution_count": 12,
   "metadata": {},
   "outputs": [
    {
     "name": "stdout",
     "output_type": "stream",
     "text": [
      "4\n",
      "1 3 5 7\n",
      "3\n"
     ]
    }
   ],
   "source": [
    "import sys\n",
    "\n",
    "N = int(input())\n",
    "num = list(map(int, input().split()))\n",
    "\n",
    "def is_prime(x):\n",
    "    if x < 2:\n",
    "        return False\n",
    "    i = 2\n",
    "    while i*i <= x:\n",
    "        if x % i == 0:\n",
    "            return False\n",
    "        i += 1\n",
    "    return True\n",
    "\n",
    "c = 0\n",
    "for i in num:\n",
    "    if is_prime(i):\n",
    "        c += 1\n",
    "        \n",
    "print(c)"
   ]
  },
  {
   "cell_type": "markdown",
   "metadata": {},
   "source": [
    "##### 문제4: 골드바흐의 추측(실버 1)\n",
    "https://www.acmicpc.net/problem/6588"
   ]
  },
  {
   "cell_type": "code",
   "execution_count": 2,
   "metadata": {},
   "outputs": [
    {
     "name": "stdout",
     "output_type": "stream",
     "text": [
      "8\n",
      "8 = 3 + 5\n",
      "20\n",
      "20 = 3 + 17\n",
      "42\n",
      "42 = 5 + 37\n",
      "0\n"
     ]
    }
   ],
   "source": [
    "import sys\n",
    "\n",
    "MAX = 1000001\n",
    "check = [0] * MAX; check[0] = 1; check[1] = 1; prime = []\n",
    "\n",
    "for i in range(2, 1000001):\n",
    "    if check[i] == 0:\n",
    "        j = i + i\n",
    "        while j < MAX:\n",
    "            check[j] = 1\n",
    "            j += i\n",
    "            \n",
    "for i in range(2, 1000001):\n",
    "    if check[i] == 0:\n",
    "        prime.append(i)\n",
    "        \n",
    "while True:\n",
    "    confirm = False\n",
    "    n = int(input())\n",
    "    if n == 0:\n",
    "        break\n",
    "    for i in prime:\n",
    "        if check[n-i] == 0:\n",
    "            print(n, \"=\", i, \"+\", n-i)\n",
    "            confirm = True\n",
    "            break\n",
    "    if not confirm:\n",
    "        print(\"Goldbach's conjecture is wrong.\")"
   ]
  }
 ],
 "metadata": {
  "kernelspec": {
   "display_name": "Python 3",
   "language": "python",
   "name": "python3"
  },
  "language_info": {
   "codemirror_mode": {
    "name": "ipython",
    "version": 3
   },
   "file_extension": ".py",
   "mimetype": "text/x-python",
   "name": "python",
   "nbconvert_exporter": "python",
   "pygments_lexer": "ipython3",
   "version": "3.7.1"
  }
 },
 "nbformat": 4,
 "nbformat_minor": 2
}
