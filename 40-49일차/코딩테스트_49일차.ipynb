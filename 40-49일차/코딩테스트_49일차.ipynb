{
 "cells": [
  {
   "cell_type": "markdown",
   "metadata": {},
   "source": [
    "### 2021-02-25 49일차"
   ]
  },
  {
   "cell_type": "markdown",
   "metadata": {},
   "source": [
    "##### 문제 1: 1로 만들기(실버 3)\n",
    "https://www.acmicpc.net/problem/1463"
   ]
  },
  {
   "cell_type": "code",
   "execution_count": 4,
   "metadata": {},
   "outputs": [
    {
     "name": "stdout",
     "output_type": "stream",
     "text": [
      "10\n",
      "3\n"
     ]
    }
   ],
   "source": [
    "N = int(input())\n",
    "dp = [0] * 1000001; dp[2] = 1; dp[3] = 1\n",
    "\n",
    "for i in range(4, len(dp)):\n",
    "    dp[i] = dp[i-1] + 1\n",
    "    if i % 2 == 0:\n",
    "        dp[i] = min(dp[i], dp[i//2]+1)\n",
    "    if i % 3 == 0:\n",
    "        dp[i] = min(dp[i], dp[i//3]+1)    \n",
    "        \n",
    "print(dp[N])"
   ]
  },
  {
   "cell_type": "markdown",
   "metadata": {},
   "source": [
    "##### 문제 2: 2 x n 타일링(실버 3)\n",
    "https://www.acmicpc.net/problem/11726"
   ]
  },
  {
   "cell_type": "code",
   "execution_count": 3,
   "metadata": {},
   "outputs": [
    {
     "name": "stdout",
     "output_type": "stream",
     "text": [
      "9\n",
      "55\n"
     ]
    }
   ],
   "source": [
    "n = int(input())\n",
    "dp = [0] * 1001; dp[1] = 1; dp[2] = 2\n",
    "\n",
    "for i in range(3, len(dp)):\n",
    "    dp[i] = dp[i-2] + dp[i-1]\n",
    "    \n",
    "print(dp[n] % 10007)"
   ]
  },
  {
   "cell_type": "markdown",
   "metadata": {},
   "source": [
    "##### 문제 3: 2×n 타일링 2 (실버 3)\n",
    "https://www.acmicpc.net/problem/11727"
   ]
  },
  {
   "cell_type": "code",
   "execution_count": 7,
   "metadata": {},
   "outputs": [
    {
     "name": "stdout",
     "output_type": "stream",
     "text": [
      "12\n",
      "2731\n"
     ]
    }
   ],
   "source": [
    "n = int(input())\n",
    "dp = [0] * 1001; dp[1] = 1; dp[2] = 3\n",
    "\n",
    "for i in range(3, len(dp)):\n",
    "    dp[i] = dp[i-1] + dp[i-2] * 2\n",
    "    \n",
    "print(dp[n] % 10007)"
   ]
  },
  {
   "cell_type": "markdown",
   "metadata": {},
   "source": [
    "##### 문제 4: 1, 2, 3 더하기 (실버 3)\n",
    "https://www.acmicpc.net/problem/9095"
   ]
  },
  {
   "cell_type": "code",
   "execution_count": 10,
   "metadata": {},
   "outputs": [
    {
     "name": "stdout",
     "output_type": "stream",
     "text": [
      "3\n",
      "4\n",
      "7\n",
      "7\n",
      "44\n",
      "10\n",
      "274\n"
     ]
    }
   ],
   "source": [
    "T = int(input())\n",
    "dp = [0] * 12; dp[1] = 1; dp[2] = 2; dp[3] = 4\n",
    "\n",
    "for i in range(4, len(dp)):\n",
    "    dp[i] = dp[i-1] + dp[i-2] + dp[i-3]\n",
    "    \n",
    "for _ in range(T):\n",
    "    print(dp[int(input())])   "
   ]
  },
  {
   "cell_type": "markdown",
   "metadata": {},
   "source": [
    "##### 문제  5: 카드 구매하기(실버 1)\n",
    "https://www.acmicpc.net/problem/11052"
   ]
  },
  {
   "cell_type": "code",
   "execution_count": 38,
   "metadata": {},
   "outputs": [
    {
     "name": "stdout",
     "output_type": "stream",
     "text": [
      "4\n",
      "3 5 15 16\n",
      "18\n"
     ]
    }
   ],
   "source": [
    "N = int(input())\n",
    "p = list(map(int, input().split()))\n",
    "dp = [0] * (N+1); dp[1] = p[0]\n",
    "\n",
    "for i in range(2, N+1):\n",
    "    dp[i] = p[i-1]\n",
    "    for j in range(i // 2):\n",
    "        dp[i] = max(dp[i], dp[j+1] + dp[i-j-1])\n",
    "        \n",
    "print(dp[N])"
   ]
  },
  {
   "cell_type": "markdown",
   "metadata": {},
   "source": [
    "##### 문제  6: 카드 구매하기 2(실버 1)\n",
    "https://www.acmicpc.net/problem/16194"
   ]
  },
  {
   "cell_type": "code",
   "execution_count": 43,
   "metadata": {},
   "outputs": [
    {
     "name": "stdout",
     "output_type": "stream",
     "text": [
      "4\n",
      "3 5 15 16\n",
      "10\n"
     ]
    }
   ],
   "source": [
    "N = int(input())\n",
    "p = list(map(int, input().split()))\n",
    "dp = [0] * (N+1); dp[1] = p[0]\n",
    "\n",
    "for i in range(2, N+1):\n",
    "    dp[i] = p[i-1]\n",
    "    for j in range(i // 2):\n",
    "        dp[i] = min(dp[i], dp[j+1] + dp[i-j-1])\n",
    "        \n",
    "print(dp[N])"
   ]
  },
  {
   "cell_type": "markdown",
   "metadata": {},
   "source": [
    "##### 문제  7: 1, 2, 3 더하기 5(실버 3)\n",
    "https://www.acmicpc.net/problem/15990"
   ]
  },
  {
   "cell_type": "code",
   "execution_count": 6,
   "metadata": {},
   "outputs": [
    {
     "name": "stdout",
     "output_type": "stream",
     "text": [
      "3\n",
      "4\n",
      "3\n",
      "7\n",
      "9\n",
      "10\n",
      "27\n"
     ]
    }
   ],
   "source": [
    "T = int(input())\n",
    "dp = [[0] * 3 for _ in range(100001)]; dp[1][0] = 1; dp[2][1] = 1\n",
    "dp[3][0] = 1; dp[3][1] = 1; dp[3][2] = 1;\n",
    "mod = 1000000009\n",
    "\n",
    "for i in range(4, 100001):\n",
    "    \n",
    "    dp[i][0] = dp[i-1][1] + dp[i-1][2]\n",
    "    dp[i][1] = dp[i-2][0] + dp[i-2][2]\n",
    "    dp[i][2] = dp[i-3][0] + dp[i-3][1]\n",
    "    \n",
    "    dp[i][0] %= mod\n",
    "    dp[i][1] %= mod\n",
    "    dp[i][2] %= mod\n",
    "    \n",
    "for _ in range(T):\n",
    "    print(sum(dp[int(input())]) % mod)"
   ]
  },
  {
   "cell_type": "markdown",
   "metadata": {},
   "source": [
    "##### 문제  8: 쉬운 계단 수(실버 1)\n",
    "https://www.acmicpc.net/problem/10844"
   ]
  },
  {
   "cell_type": "code",
   "execution_count": 6,
   "metadata": {},
   "outputs": [
    {
     "name": "stdout",
     "output_type": "stream",
     "text": [
      "2\n",
      "17\n"
     ]
    }
   ],
   "source": [
    "N = int(input())\n",
    "dp = [[0] * 10 for _ in range(101)]\n",
    "\n",
    "for k in range(1, 10):\n",
    "    dp[1][k] = 1\n",
    "    \n",
    "mod = 1000000000\n",
    "\n",
    "for i in range(2, 101):\n",
    "    \n",
    "    dp[i][0] = dp[i-1][1]\n",
    "    dp[i][1] = dp[i-1][0] + dp[i-1][2]\n",
    "    dp[i][2] = dp[i-1][1] + dp[i-1][3]\n",
    "    dp[i][3] = dp[i-1][2] + dp[i-1][4]\n",
    "    dp[i][4] = dp[i-1][3] + dp[i-1][5]\n",
    "    dp[i][5] = dp[i-1][4] + dp[i-1][6]\n",
    "    dp[i][6] = dp[i-1][5] + dp[i-1][7]\n",
    "    dp[i][7] = dp[i-1][6] + dp[i-1][8]\n",
    "    dp[i][8] = dp[i-1][7] + dp[i-1][9]\n",
    "    dp[i][9] = dp[i-1][8] \n",
    "    \n",
    "    dp[i][0] %= mod \n",
    "    dp[i][1] %= mod \n",
    "    dp[i][2] %= mod \n",
    "    dp[i][3] %= mod \n",
    "    dp[i][4] %= mod \n",
    "    dp[i][5] %= mod \n",
    "    dp[i][6] %= mod \n",
    "    dp[i][7] %= mod \n",
    "    dp[i][8] %= mod \n",
    "    dp[i][9] %= mod \n",
    "    \n",
    "print(sum(dp[N])%mod)"
   ]
  },
  {
   "cell_type": "markdown",
   "metadata": {},
   "source": [
    "##### 문제  9 : 이친수(실버 3)\n",
    "https://www.acmicpc.net/problem/2193"
   ]
  },
  {
   "cell_type": "code",
   "execution_count": 13,
   "metadata": {},
   "outputs": [
    {
     "name": "stdout",
     "output_type": "stream",
     "text": [
      "3\n",
      "2\n"
     ]
    }
   ],
   "source": [
    "N = int(input())\n",
    "dp = [[0] * 2 for _ in range(91)]\n",
    "dp[1][1] = 1\n",
    "\n",
    "for i in range(2, 91):\n",
    "    dp[i][0] = dp[i-1][1] + dp[i-1][0]\n",
    "    dp[i][1] = dp[i-1][0]\n",
    "    \n",
    "print(sum(dp[N]))"
   ]
  },
  {
   "cell_type": "markdown",
   "metadata": {},
   "source": [
    "##### 문제  10 : 가장 긴 증가하는 부분 수열(실버 2)\n",
    "https://www.acmicpc.net/problem/11053"
   ]
  },
  {
   "cell_type": "code",
   "execution_count": 31,
   "metadata": {},
   "outputs": [
    {
     "name": "stdout",
     "output_type": "stream",
     "text": [
      "12\n",
      "10 20 10 30 20 50 10 20 10 30 20 50\n",
      "4\n"
     ]
    }
   ],
   "source": [
    "N = int(input())\n",
    "A = list(map(int, input().split()))\n",
    "dp = [1] * (N+1); dp[0] = 0\n",
    "\n",
    "for i in range(2, N+1):\n",
    "    for j in range(1, i):\n",
    "        if A[i-1] > A[j-1]:\n",
    "            dp[i] = max(dp[i], dp[j] + 1)\n",
    "            \n",
    "print(max(dp))"
   ]
  }
 ],
 "metadata": {
  "kernelspec": {
   "display_name": "Python 3",
   "language": "python",
   "name": "python3"
  },
  "language_info": {
   "codemirror_mode": {
    "name": "ipython",
    "version": 3
   },
   "file_extension": ".py",
   "mimetype": "text/x-python",
   "name": "python",
   "nbconvert_exporter": "python",
   "pygments_lexer": "ipython3",
   "version": "3.7.1"
  }
 },
 "nbformat": 4,
 "nbformat_minor": 2
}
