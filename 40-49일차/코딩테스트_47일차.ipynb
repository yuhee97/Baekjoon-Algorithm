{
 "cells": [
  {
   "cell_type": "markdown",
   "metadata": {},
   "source": [
    "### 2021-02-23 47일차"
   ]
  },
  {
   "cell_type": "markdown",
   "metadata": {},
   "source": [
    "##### 문제1: 토마토(실버 1)\n",
    "https://www.acmicpc.net/problem/7576"
   ]
  },
  {
   "cell_type": "code",
   "execution_count": 26,
   "metadata": {},
   "outputs": [
    {
     "name": "stdout",
     "output_type": "stream",
     "text": [
      "6 4\n",
      "1 -1 0 0 0 0\n",
      "0 -1 0 0 0 0\n",
      "0 0 0 0 -1 0\n",
      "0 0 0 0 -1 1\n",
      "6\n"
     ]
    }
   ],
   "source": [
    "import sys\n",
    "from collections import deque\n",
    "# sys.stdin.readline()\n",
    "M, N = map(int, input().split())\n",
    "g =[]; visited = [[0] * M for _ in range(N)]\n",
    "\n",
    "for _ in range(N):\n",
    "    g.append(list(map(int, input().split())))\n",
    "    \n",
    "dx = [-1, 0, 1, 0]\n",
    "dy = [0, -1, 0, 1]\n",
    "\n",
    "def bfs():\n",
    "    queue = deque()\n",
    "    for i in range(N):\n",
    "        for j in range(M):\n",
    "            if visited[i][j] == 0 and g[i][j] == 1:\n",
    "                visited[i][j] = 1\n",
    "                queue.append([i, j])\n",
    "    while queue:\n",
    "        x, y = queue.popleft()\n",
    "        for k in range(4):\n",
    "            nx = x + dx[k]\n",
    "            ny = y + dy[k]\n",
    "            if 0 <= nx < N and 0 <= ny < M and visited[nx][ny] == 0 and g[nx][ny] == 0:\n",
    "                visited[nx][ny] = 1\n",
    "                g[nx][ny]  = g[x][y] + 1\n",
    "                queue.append([nx, ny])\n",
    "\n",
    "def check(graph):\n",
    "    maxx = 0\n",
    "    for i in range(N):\n",
    "        for j in range(M):\n",
    "            if g[i][j] == 0:\n",
    "                return -1\n",
    "            if maxx < g[i][j]:\n",
    "                maxx = g[i][j]\n",
    "    return maxx-1\n",
    "\n",
    "bfs()\n",
    "print(check(g))"
   ]
  },
  {
   "cell_type": "markdown",
   "metadata": {},
   "source": [
    "##### 문제2: 나이트의 이동(실버 2)\n",
    "https://www.acmicpc.net/problem/7562"
   ]
  },
  {
   "cell_type": "code",
   "execution_count": 2,
   "metadata": {},
   "outputs": [
    {
     "name": "stdout",
     "output_type": "stream",
     "text": [
      "3\n",
      "8\n",
      "0 0\n",
      "7 0\n",
      "5\n",
      "100\n",
      "0 0\n",
      "30 50\n",
      "28\n",
      "10\n",
      "1 1\n",
      "1 1\n",
      "0\n"
     ]
    }
   ],
   "source": [
    "import sys\n",
    "from collections import deque\n",
    "\n",
    "T = int(input())\n",
    "\n",
    "dx = [-2, -1, -2, -1, 2, 1, 2, 1]\n",
    "dy = [-1, -2, 1, 2, -1, -2, 1, 2]\n",
    "\n",
    "def bfs(i, s_x, s_y, e_x, e_y):\n",
    "    queue = deque()\n",
    "    visited = [[0] * i for _ in range(i)]\n",
    "    visited[s_x][s_y] = 1\n",
    "    queue.append([s_x, s_y])\n",
    "    while queue:\n",
    "        x, y = queue.popleft()\n",
    "        if x == e_x and y == e_y:\n",
    "            return visited[e_x][e_y]-1\n",
    "        for k in range(8):\n",
    "            nx = x + dx[k]\n",
    "            ny = y + dy[k]\n",
    "            if 0 <= nx < i and 0 <= ny < i and visited[nx][ny] == 0:\n",
    "                visited[nx][ny] = visited[x][y] + 1\n",
    "                queue.append([nx, ny])\n",
    "            \n",
    "for _ in range(T):\n",
    "    I = int(input())\n",
    "    start_x, start_y = map(int, input().split())\n",
    "    end_x, end_y = map(int, input().split())\n",
    "    print(bfs(I, start_x, start_y, end_x, end_y))"
   ]
  },
  {
   "cell_type": "markdown",
   "metadata": {},
   "source": [
    "##### 문제3: 숨바꼭질(실버 1)\n",
    "https://www.acmicpc.net/problem/1697"
   ]
  },
  {
   "cell_type": "code",
   "execution_count": 3,
   "metadata": {},
   "outputs": [
    {
     "name": "stdout",
     "output_type": "stream",
     "text": [
      "5 17\n",
      "4\n"
     ]
    }
   ],
   "source": [
    "import sys\n",
    "from collections import deque\n",
    "\n",
    "N, K = map(int, input().split())\n",
    "visited = [0] * 100001\n",
    "\n",
    "d = [-1, 1, 2]\n",
    "\n",
    "def bfs(n, k):\n",
    "    queue = deque()\n",
    "    visited[n] = 1\n",
    "    queue.append(n)\n",
    "    while queue:\n",
    "        x = queue.popleft()\n",
    "        if x == k:\n",
    "            return visited[k]-1\n",
    "        for i in range(3):\n",
    "            if i == 2:\n",
    "                nx = x*2\n",
    "            else:\n",
    "                nx = x + d[i]\n",
    "            if 0 <= nx < 100001 and visited[nx] == 0:\n",
    "                visited[nx] = visited[x] + 1\n",
    "                queue.append(nx)\n",
    "\n",
    "print(bfs(N, K))"
   ]
  },
  {
   "cell_type": "markdown",
   "metadata": {},
   "source": [
    "##### 문제4: 숨바꼭질 4(골드 4)\n",
    "https://www.acmicpc.net/problem/13913"
   ]
  },
  {
   "cell_type": "code",
   "execution_count": 31,
   "metadata": {},
   "outputs": [
    {
     "name": "stdout",
     "output_type": "stream",
     "text": [
      "5 17\n",
      "4\n",
      "5 4 8 16 17 "
     ]
    }
   ],
   "source": [
    "import sys\n",
    "from collections import deque\n",
    "\n",
    "N, K = map(int, input().split())\n",
    "visited = [[] for _ in range(100001)]\n",
    "dist = [0] * 100001\n",
    "\n",
    "d = [-1, 1, 2]\n",
    "\n",
    "def bfs(n, k):\n",
    "    \n",
    "    queue = deque()\n",
    "    dist[n] = 1\n",
    "    queue.append(n)\n",
    "    \n",
    "    while queue:\n",
    "        x = queue.popleft()\n",
    "        if x == k:\n",
    "            return dist[k]-1, visited\n",
    "        \n",
    "        for i in range(3):\n",
    "            if i == 2:\n",
    "                nx = x*d[i]\n",
    "            else:\n",
    "                nx = x + d[i]\n",
    "                \n",
    "            if 0 <= nx < 100001 and dist[nx] == 0:\n",
    "                dist[nx] = dist[x] + 1\n",
    "                visited[nx].append(x)\n",
    "                queue.append(nx)\n",
    "                \n",
    "n, v = bfs(N, K); lis = []\n",
    "print(n)\n",
    "i = K; lis.append(i)\n",
    "\n",
    "while True:\n",
    "    if N == K:\n",
    "        break\n",
    "    lis.append(v[i][0])\n",
    "    if v[i][0] == N:\n",
    "        break\n",
    "    i = v[i][0]\n",
    "    \n",
    "print(*lis[::-1], end = \" \")"
   ]
  },
  {
   "cell_type": "markdown",
   "metadata": {},
   "source": [
    "##### 문제5:  이모티콘(골드 5)\n",
    "https://www.acmicpc.net/problem/14226"
   ]
  },
  {
   "cell_type": "code",
   "execution_count": 16,
   "metadata": {},
   "outputs": [
    {
     "name": "stdout",
     "output_type": "stream",
     "text": [
      "1000\n"
     ]
    },
    {
     "data": {
      "text/plain": [
       "21"
      ]
     },
     "execution_count": 16,
     "metadata": {},
     "output_type": "execute_result"
    }
   ],
   "source": [
    "from collections import deque\n",
    "\n",
    "S = int(input())\n",
    "INF = int(1e9)\n",
    "visited = [[INF] * 1001 for _ in range(1001)]\n",
    "\n",
    "def bfs(w):\n",
    "    queue = deque()\n",
    "    visited[w][0] = 1\n",
    "    queue.append([w, 0])\n",
    "    while queue:\n",
    "        e, c_b = queue.popleft() # s_e: 화면 이모티콘, c_b: 클립보드\n",
    "        if e == S:\n",
    "            return min(visited[S])-1\n",
    "         # 1. 화면에 있는 이모티콘을 모두 복사하여 클립보드에 저장한다.\n",
    "        if 0 <= e < 1001 and visited[e][e] == INF:\n",
    "            visited[e][e] = visited[e][c_b] + 1\n",
    "            queue.append([e, e])\n",
    "        # 2. 클립보드에 있는 모든 이모티콘을 화면에 붙여넣기 한다.\n",
    "        if 0 <= e+c_b < 1001 and 0 <= c_b < 1001 and visited[e+c_b][c_b] == INF:\n",
    "            visited[e+c_b][c_b] = visited[e][c_b] + 1\n",
    "            queue.append([e+c_b, c_b])\n",
    "        # 3. 화면에 있는 이모티콘 중 하나를 선택한다.\n",
    "        if 0 <= e-1 < 1001 and 0 <= c_b < 1001 and visited[e-1][c_b] == INF:\n",
    "            visited[e-1][c_b] = visited[e][c_b] + 1\n",
    "            queue.append([e-1, c_b])\n",
    "        \n",
    "print(bfs(1))"
   ]
  }
 ],
 "metadata": {
  "kernelspec": {
   "display_name": "Python 3",
   "language": "python",
   "name": "python3"
  },
  "language_info": {
   "codemirror_mode": {
    "name": "ipython",
    "version": 3
   },
   "file_extension": ".py",
   "mimetype": "text/x-python",
   "name": "python",
   "nbconvert_exporter": "python",
   "pygments_lexer": "ipython3",
   "version": "3.7.1"
  }
 },
 "nbformat": 4,
 "nbformat_minor": 2
}
