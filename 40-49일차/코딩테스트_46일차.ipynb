{
 "cells": [
  {
   "cell_type": "markdown",
   "metadata": {},
   "source": [
    "### 2021-02-22 46일차"
   ]
  },
  {
   "cell_type": "markdown",
   "metadata": {},
   "source": [
    "##### 문제 1:DFS와 BFS (실버 2)\n",
    "https://www.acmicpc.net/problem/1260"
   ]
  },
  {
   "cell_type": "code",
   "execution_count": 17,
   "metadata": {},
   "outputs": [
    {
     "name": "stdout",
     "output_type": "stream",
     "text": [
      "1000 1 1000\n",
      "999 1000\n",
      "1000 999 \n",
      "1000 999 "
     ]
    }
   ],
   "source": [
    "import sys\n",
    "from collections import deque\n",
    "\n",
    "N, M, V = map(int, input().split())\n",
    "g = [[] for _ in range(N+1)]\n",
    "checked = [0] * (N+1)\n",
    "\n",
    "for _ in range(M):\n",
    "    a, b = map(int, input().split())\n",
    "    g[a].append(b)\n",
    "    g[b].append(a)\n",
    "       \n",
    "for  i in range(N):\n",
    "    g[i].sort()\n",
    "\n",
    "def dfs(start):\n",
    "    checked[start] = 1\n",
    "    print(start, end = \" \")\n",
    "    for i in g[start]:\n",
    "        if checked[i] == 0:\n",
    "            dfs(i)\n",
    "        \n",
    "def bfs(start):\n",
    "    visited = [0] * (N+1)\n",
    "    queue = deque()\n",
    "    queue.append(start)\n",
    "    visited[start] = 1\n",
    "    while queue:\n",
    "        x = queue.popleft()\n",
    "        print(x, end = \" \")\n",
    "        for i in g[x]:\n",
    "            if visited[i] == 0:\n",
    "                visited[i] = 1\n",
    "                queue.append(i)\n",
    "                \n",
    "dfs(V)\n",
    "print()\n",
    "bfs(V)"
   ]
  },
  {
   "cell_type": "markdown",
   "metadata": {},
   "source": [
    "##### 문제 2: 연결 요소의 개수(실버 2)\n",
    "https://www.acmicpc.net/problem/11724"
   ]
  },
  {
   "cell_type": "code",
   "execution_count": 20,
   "metadata": {},
   "outputs": [
    {
     "name": "stdout",
     "output_type": "stream",
     "text": [
      "6 8\n",
      "1 2\n",
      "2 5\n",
      "5 1\n",
      "3 4\n",
      "4 6\n",
      "5 4\n",
      "2 4\n",
      "2 3\n",
      "1\n"
     ]
    }
   ],
   "source": [
    "import sys\n",
    "from collections import deque\n",
    "\n",
    "N, M = map(int, input().split())\n",
    "g = [[] for _ in range(N+1)]\n",
    "visited = [0] * (N+1)\n",
    "\n",
    "for _ in range(M):\n",
    "    a, b = map(int, input().split())\n",
    "    g[a].append(b)\n",
    "    g[b].append(a)\n",
    "    \n",
    "def bfs():\n",
    "    queue = deque()\n",
    "    c = 0\n",
    "    for i in range(1, N+1):\n",
    "        if visited[i] == 0:\n",
    "            queue.append(i)\n",
    "            visited[i] = 1\n",
    "            c += 1\n",
    "            while queue:\n",
    "                x = queue.popleft()\n",
    "                for k in g[x]:\n",
    "                    if visited[k] == 0:\n",
    "                        queue.append(k)\n",
    "                        visited[k] = 1\n",
    "    return c\n",
    "\n",
    "print(bfs())"
   ]
  },
  {
   "cell_type": "markdown",
   "metadata": {},
   "source": [
    "##### 문제 3: 이분 그래프(골드 4)\n",
    "https://www.acmicpc.net/problem/1707"
   ]
  },
  {
   "cell_type": "code",
   "execution_count": 41,
   "metadata": {},
   "outputs": [
    {
     "name": "stdout",
     "output_type": "stream",
     "text": [
      "1\n",
      "6 4\n",
      "1 2\n",
      "2 4\n",
      "4 5\n",
      "5 6\n",
      "YES\n"
     ]
    }
   ],
   "source": [
    "import sys\n",
    "from collections import deque\n",
    "\n",
    "K = int(input())\n",
    "\n",
    "# sys.stdin.readline()\n",
    "def bfs(graph, v):\n",
    "    queue = deque()\n",
    "    visited = [[0] * 2 for _ in range(v+1)]\n",
    "    for i in range(1, v+1):\n",
    "        if visited[i][0] == 0:\n",
    "            visited[i][0] = 1; visited[i][1] = -1\n",
    "            queue.append(i)\n",
    "            while queue:\n",
    "                x = queue.popleft()\n",
    "                for k in graph[x]:\n",
    "                    if visited[x][1] == visited[k][1]:\n",
    "                        return 'NO'\n",
    "                    else:\n",
    "                        if visited[k][0] == 0:\n",
    "                            visited[k][0] = 1; \n",
    "                            if visited[x][1] == -1:\n",
    "                                visited[k][1] = -2\n",
    "                            else:\n",
    "                                visited[k][1] = -1\n",
    "                            queue.append(k)\n",
    "    return 'YES'\n",
    "    \n",
    "    \n",
    "for _ in range(K):\n",
    "    V, E = map(int, input().split())\n",
    "    g = [[] for _ in range(V+1)]\n",
    "    for _ in range(E):\n",
    "        a, b = map(int, input().split())\n",
    "        if a == b:\n",
    "            continue\n",
    "        g[a].append(b)\n",
    "        g[b].append(a)\n",
    "    print(bfs(g, V))"
   ]
  },
  {
   "cell_type": "markdown",
   "metadata": {},
   "source": [
    "##### 문제 4: 단지번호붙이기(실버 1)\n",
    "https://www.acmicpc.net/problem/2667"
   ]
  },
  {
   "cell_type": "code",
   "execution_count": 47,
   "metadata": {},
   "outputs": [
    {
     "name": "stdout",
     "output_type": "stream",
     "text": [
      "7\n",
      "0110100\n",
      "0110101\n",
      "1110101\n",
      "0000111\n",
      "0100000\n",
      "0111110\n",
      "0111000\n",
      "3\n",
      "7\n",
      "8\n",
      "9\n"
     ]
    }
   ],
   "source": [
    "import sys\n",
    "from collections import deque\n",
    "\n",
    "N = int(input())\n",
    "g = []\n",
    "visited = [[0] * N for _ in range(N)]\n",
    "\n",
    "for _ in range(N):\n",
    "    g.append(list(map(int, input().strip())))\n",
    "    \n",
    "dx = [-1, 0, 1, 0]\n",
    "dy = [0, -1, 0, 1]\n",
    "\n",
    "def bfs():\n",
    "    c_lis = []\n",
    "    queue = deque()\n",
    "    for i in range(N):\n",
    "        for j in range(N):\n",
    "            if visited[i][j] == 0 and g[i][j] == 1:\n",
    "                visited[i][j] = 1\n",
    "                queue.append([i, j])\n",
    "                count = 1\n",
    "                while queue:\n",
    "                    x, y = queue.popleft()\n",
    "                    for k in range(4):\n",
    "                        nx = x + dx[k]\n",
    "                        ny = y + dy[k]\n",
    "                        if 0 <= nx < N and 0 <= ny < N and visited[nx][ny] == 0 and g[nx][ny] == 1:\n",
    "                            visited[nx][ny] = 1\n",
    "                            queue.append([nx, ny])\n",
    "                            count += 1\n",
    "                c_lis.append(count)\n",
    "    return c_lis\n",
    "                            \n",
    "lis = bfs()\n",
    "print(len(lis))\n",
    "lis.sort()\n",
    "for i in range(len(lis)):\n",
    "    print(lis[i])"
   ]
  },
  {
   "cell_type": "markdown",
   "metadata": {},
   "source": [
    "##### 문제 5: 미로 탐색(실버 1)\n",
    "https://www.acmicpc.net/problem/2178"
   ]
  },
  {
   "cell_type": "code",
   "execution_count": 53,
   "metadata": {},
   "outputs": [
    {
     "name": "stdout",
     "output_type": "stream",
     "text": [
      "7 7\n",
      "1011111\n",
      "1110001\n",
      "1000001\n",
      "1000001\n",
      "1000001\n",
      "1000001\n",
      "1111111\n",
      "13\n"
     ]
    }
   ],
   "source": [
    "# 가중치가 1일 떄 최단 거리를 구할 수 있는 알고리즘 = bfs\n",
    "\n",
    "import sys\n",
    "from collections import deque # sys.stdin.readline()\n",
    "\n",
    "N, M = map(int, input().split())\n",
    "g = []\n",
    "visited = [[0] * M for _ in range(N)]\n",
    "\n",
    "for _ in range(N):\n",
    "    g.append(list(map(int, input().strip())))\n",
    "\n",
    "dx = [-1, 0, 1, 0]\n",
    "dy = [0, -1, 0, 1]\n",
    "\n",
    "def bfs(i, j):\n",
    "    queue = deque()\n",
    "    visited[i][j] = 1\n",
    "    queue.append([i, j])\n",
    "    while queue:\n",
    "        x, y = queue.popleft()\n",
    "        if x == N-1 and y == M-1:\n",
    "            return visited[N-1][M-1]\n",
    "        for k in range(4):\n",
    "            nx = x + dx[k]\n",
    "            ny = y + dy[k]\n",
    "            if 0 <= nx < N and 0 <= ny < M and visited[nx][ny] == 0 and g[nx][ny] == 1:\n",
    "                visited[nx][ny] = visited[x][y] + 1\n",
    "                queue.append([nx, ny])\n",
    "                \n",
    "print(bfs(0, 0))"
   ]
  }
 ],
 "metadata": {
  "kernelspec": {
   "display_name": "Python 3",
   "language": "python",
   "name": "python3"
  },
  "language_info": {
   "codemirror_mode": {
    "name": "ipython",
    "version": 3
   },
   "file_extension": ".py",
   "mimetype": "text/x-python",
   "name": "python",
   "nbconvert_exporter": "python",
   "pygments_lexer": "ipython3",
   "version": "3.7.1"
  }
 },
 "nbformat": 4,
 "nbformat_minor": 2
}
