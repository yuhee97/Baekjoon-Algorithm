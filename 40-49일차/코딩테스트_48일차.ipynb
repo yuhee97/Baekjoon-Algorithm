{
 "cells": [
  {
   "cell_type": "markdown",
   "metadata": {},
   "source": [
    "### 2021-02-24 48일차"
   ]
  },
  {
   "cell_type": "markdown",
   "metadata": {},
   "source": [
    "##### 문제1: 숨바꼭질 3 (골드 5)\n",
    "https://www.acmicpc.net/problem/13549"
   ]
  },
  {
   "cell_type": "code",
   "execution_count": 8,
   "metadata": {},
   "outputs": [
    {
     "name": "stdout",
     "output_type": "stream",
     "text": [
      "5 17\n",
      "2\n"
     ]
    }
   ],
   "source": [
    "import sys\n",
    "from collections import deque\n",
    "\n",
    "visited = [0] * 100001\n",
    "\n",
    "N, K = map(int, input().split())\n",
    "\n",
    "def bfs(n, k):\n",
    "    queue = deque()\n",
    "    queue.append(n)\n",
    "    visited[n] = 1\n",
    "    while queue:\n",
    "        x = queue.popleft()\n",
    "        if x == k:\n",
    "            return visited[k] - 1\n",
    "        for i in [2, -1, 1]:\n",
    "            if i == 2:\n",
    "                nx = x * i\n",
    "                if 0 <= nx < 100001 and visited[nx] == 0:\n",
    "                    visited[nx] = visited[x]\n",
    "                    queue.append(nx)\n",
    "            else:\n",
    "                nx = x + i\n",
    "                if 0 <= nx < 100001 and visited[nx] == 0:\n",
    "                    visited[nx] = visited[x] + 1\n",
    "                    queue.append(nx)\n",
    "                    \n",
    "print(bfs(N, K))"
   ]
  },
  {
   "cell_type": "markdown",
   "metadata": {},
   "source": [
    "##### 문제2: 알고스팟(골드 4)\n",
    "https://www.acmicpc.net/problem/1261"
   ]
  },
  {
   "cell_type": "code",
   "execution_count": 1,
   "metadata": {},
   "outputs": [
    {
     "name": "stdout",
     "output_type": "stream",
     "text": [
      "6 6\n",
      "001111\n",
      "010000\n",
      "001111\n",
      "110001\n",
      "011010\n",
      "100010\n",
      "2\n"
     ]
    }
   ],
   "source": [
    "import sys\n",
    "from collections import deque\n",
    "\n",
    "N, M = map(int, input().split())\n",
    "g = []\n",
    "dist = [[-1] * N for _ in range(M)]\n",
    "\n",
    "for _ in range(M):\n",
    "    g.append(list(map(int, input().strip())))\n",
    "    \n",
    "dx = [-1, 0, 1, 0]\n",
    "dy = [0, -1, 0, 1]\n",
    "\n",
    "def bfs(i, j):\n",
    "    queue = deque()\n",
    "    queue.append([i, j])\n",
    "    dist[i][j] = 0\n",
    "    while queue:\n",
    "        x, y = queue.popleft()\n",
    "        for k in range(4):\n",
    "            nx = x + dx[k]\n",
    "            ny = y + dy[k]\n",
    "            if 0 <= nx < M and 0 <= ny < N and dist[nx][ny] == -1:\n",
    "                if g[nx][ny] == 0:\n",
    "                    dist[nx][ny] = dist[x][y] \n",
    "                    queue.appendleft([nx, ny])\n",
    "                else:\n",
    "                    dist[nx][ny] = dist[x][y] + 1\n",
    "                    queue.append([nx, ny])\n",
    "\n",
    "                    \n",
    "bfs(0, 0)\n",
    "print(dist[M-1][N-1])"
   ]
  }
 ],
 "metadata": {
  "kernelspec": {
   "display_name": "Python 3",
   "language": "python",
   "name": "python3"
  },
  "language_info": {
   "codemirror_mode": {
    "name": "ipython",
    "version": 3
   },
   "file_extension": ".py",
   "mimetype": "text/x-python",
   "name": "python",
   "nbconvert_exporter": "python",
   "pygments_lexer": "ipython3",
   "version": "3.7.1"
  }
 },
 "nbformat": 4,
 "nbformat_minor": 2
}
