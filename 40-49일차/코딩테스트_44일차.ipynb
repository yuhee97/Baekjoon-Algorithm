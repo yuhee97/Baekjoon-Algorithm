{
 "cells": [
  {
   "cell_type": "markdown",
   "metadata": {},
   "source": [
    "### 2021-02-20 44일차"
   ]
  },
  {
   "cell_type": "markdown",
   "metadata": {},
   "source": [
    "##### 문제1: N과 M (1) (실버3)\n",
    "https://www.acmicpc.net/problem/15649"
   ]
  },
  {
   "cell_type": "code",
   "execution_count": 22,
   "metadata": {},
   "outputs": [
    {
     "name": "stdout",
     "output_type": "stream",
     "text": [
      "6 2\n",
      "1 2\n",
      "1 3\n",
      "1 4\n",
      "1 5\n",
      "1 6\n",
      "2 1\n",
      "2 3\n",
      "2 4\n",
      "2 5\n",
      "2 6\n",
      "3 1\n",
      "3 2\n",
      "3 4\n",
      "3 5\n",
      "3 6\n",
      "4 1\n",
      "4 2\n",
      "4 3\n",
      "4 5\n",
      "4 6\n",
      "5 1\n",
      "5 2\n",
      "5 3\n",
      "5 4\n",
      "5 6\n",
      "6 1\n",
      "6 2\n",
      "6 3\n",
      "6 4\n",
      "6 5\n"
     ]
    }
   ],
   "source": [
    "from itertools import permutations\n",
    "\n",
    "N, M = map(int, input().split())\n",
    "num =list(i for i in range(1, N+1))\n",
    "permu = list(permutations(num, M))\n",
    "    \n",
    "for i in permu:\n",
    "    print(*i)"
   ]
  },
  {
   "cell_type": "markdown",
   "metadata": {},
   "source": [
    "##### 문제2: N과 M (2) (실버 3)\n",
    "https://www.acmicpc.net/problem/15650"
   ]
  },
  {
   "cell_type": "code",
   "execution_count": 26,
   "metadata": {},
   "outputs": [
    {
     "name": "stdout",
     "output_type": "stream",
     "text": [
      "4 4\n",
      "1 2 3 4\n"
     ]
    }
   ],
   "source": [
    "from itertools import combinations\n",
    "\n",
    "N, M = map(int, input().split())\n",
    "num =list(i for i in range(1, N+1))\n",
    "combi = list(combinations(num, M))\n",
    "    \n",
    "for i in combi:\n",
    "    print(*i)"
   ]
  },
  {
   "cell_type": "markdown",
   "metadata": {},
   "source": [
    "##### 문제3: N과 M (3) (실버 3)\n",
    "https://www.acmicpc.net/problem/15651"
   ]
  },
  {
   "cell_type": "code",
   "execution_count": 31,
   "metadata": {},
   "outputs": [
    {
     "name": "stdout",
     "output_type": "stream",
     "text": [
      "4 2\n",
      "1 1\n",
      "1 2\n",
      "1 3\n",
      "1 4\n",
      "2 1\n",
      "2 2\n",
      "2 3\n",
      "2 4\n",
      "3 1\n",
      "3 2\n",
      "3 3\n",
      "3 4\n",
      "4 1\n",
      "4 2\n",
      "4 3\n",
      "4 4\n"
     ]
    }
   ],
   "source": [
    "from itertools import product\n",
    "\n",
    "N, M = map(int, input().split())\n",
    "num =list(i for i in range(1, N+1))\n",
    "pro = list(product(num, repeat = M))\n",
    "    \n",
    "for i in pro:\n",
    "    print(*i)"
   ]
  },
  {
   "cell_type": "markdown",
   "metadata": {},
   "source": [
    "##### 문제4: N과 M (4) (실버 3)\n",
    "https://www.acmicpc.net/problem/15652"
   ]
  },
  {
   "cell_type": "code",
   "execution_count": 42,
   "metadata": {},
   "outputs": [
    {
     "name": "stdout",
     "output_type": "stream",
     "text": [
      "3 3\n",
      "1 1 1\n",
      "1 1 2\n",
      "1 1 3\n",
      "1 2 2\n",
      "1 2 3\n",
      "1 3 3\n",
      "2 2 2\n",
      "2 2 3\n",
      "2 3 3\n",
      "3 3 3\n"
     ]
    }
   ],
   "source": [
    "from itertools import combinations_with_replacement\n",
    "\n",
    "N, M = map(int, input().split())\n",
    "num = list(map(str,range(1,N+1)))   \n",
    "print(\"\\n\".join(list(map(\" \".join, combinations_with_replacement(num, M)))))"
   ]
  },
  {
   "cell_type": "markdown",
   "metadata": {},
   "source": [
    "##### 문제5: N과 M (5) (실버 3)\n",
    "https://www.acmicpc.net/problem/15654"
   ]
  },
  {
   "cell_type": "code",
   "execution_count": 57,
   "metadata": {},
   "outputs": [
    {
     "name": "stdout",
     "output_type": "stream",
     "text": [
      "4 2\n",
      "9 8 7 1\n",
      "1 7\n",
      "1 8\n",
      "1 9\n",
      "7 1\n",
      "7 8\n",
      "7 9\n",
      "8 1\n",
      "8 7\n",
      "8 9\n",
      "9 1\n",
      "9 7\n",
      "9 8\n"
     ]
    }
   ],
   "source": [
    "from itertools import permutations\n",
    "\n",
    "N, M = map(int, input().split())\n",
    "num = list(map(int, input().split())) \n",
    "num.sort()\n",
    "num = list(map(str,num))\n",
    "\n",
    "print(\"\\n\".join(list(map(\" \".join, permutations(num, M)))))"
   ]
  },
  {
   "cell_type": "markdown",
   "metadata": {},
   "source": [
    "##### 문제6: N과 M (6) (실버 3)\n",
    "https://www.acmicpc.net/problem/15655"
   ]
  },
  {
   "cell_type": "code",
   "execution_count": 1,
   "metadata": {},
   "outputs": [
    {
     "name": "stdout",
     "output_type": "stream",
     "text": [
      "4 2\n",
      "9 8 7 1\n",
      "1 7\n",
      "1 8\n",
      "1 9\n",
      "7 8\n",
      "7 9\n",
      "8 9\n"
     ]
    }
   ],
   "source": [
    "from itertools import combinations\n",
    "\n",
    "N, M = map(int, input().split())\n",
    "num = list(map(int, input().split())) \n",
    "num.sort()\n",
    "num = list(map(str,num))\n",
    "\n",
    "print(\"\\n\".join(list(map(\" \".join, combinations(num, M)))))"
   ]
  },
  {
   "cell_type": "markdown",
   "metadata": {},
   "source": [
    "##### 문제7: NM과 K (1) (실버 1)\n",
    "https://www.acmicpc.net/problem/18290"
   ]
  },
  {
   "cell_type": "code",
   "execution_count": 32,
   "metadata": {},
   "outputs": [
    {
     "name": "stdout",
     "output_type": "stream",
     "text": [
      "2 2 2\n",
      "1 2\n",
      "3 4\n",
      "5\n"
     ]
    }
   ],
   "source": [
    "import sys\n",
    "from itertools import combinations\n",
    "\n",
    "N, M, K = map(int, input().split())\n",
    "g = [list(map(int, input().split())) for _ in range(N)]\n",
    "\n",
    "combi = []\n",
    "for i in range(N):\n",
    "    for j in range(M):\n",
    "        combi.append([i, j])\n",
    "    \n",
    "def check(combi, now):\n",
    "    x, y = now[0], now[1]\n",
    "    if [x-1, y] in  combi:\n",
    "        return False\n",
    "    if [x, y-1] in  combi:\n",
    "        return False\n",
    "    if [x, y+1] in  combi:\n",
    "        return False\n",
    "    if [x+1, y] in  combi:\n",
    "        return False\n",
    "    return True\n",
    "    \n",
    "combis = list(combinations(combi, K))\n",
    "\n",
    "sum_lis = []\n",
    "for i in combis:\n",
    "    Sum = 0\n",
    "    for j in i:\n",
    "        if check(i, j):\n",
    "            Sum += g[j[0]][j[1]]  \n",
    "        else:\n",
    "            break\n",
    "    sum_lis.append(Sum)\n",
    "\n",
    "print(max(sum_lis))\n",
    "\n",
    "# 시간 초과 -> 다시 도전.."
   ]
  }
 ],
 "metadata": {
  "kernelspec": {
   "display_name": "Python 3",
   "language": "python",
   "name": "python3"
  },
  "language_info": {
   "codemirror_mode": {
    "name": "ipython",
    "version": 3
   },
   "file_extension": ".py",
   "mimetype": "text/x-python",
   "name": "python",
   "nbconvert_exporter": "python",
   "pygments_lexer": "ipython3",
   "version": "3.8.3"
  }
 },
 "nbformat": 4,
 "nbformat_minor": 4
}
